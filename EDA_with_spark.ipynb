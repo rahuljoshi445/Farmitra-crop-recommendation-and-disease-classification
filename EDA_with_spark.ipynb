{
  "nbformat": 4,
  "nbformat_minor": 0,
  "metadata": {
    "colab": {
      "provenance": []
    },
    "kernelspec": {
      "name": "python3",
      "display_name": "Python 3"
    },
    "language_info": {
      "name": "python"
    }
  },
  "cells": [
    {
      "cell_type": "code",
      "execution_count": null,
      "metadata": {
        "colab": {
          "base_uri": "https://localhost:8080/"
        },
        "id": "-3BoTiYbbBet",
        "outputId": "194f0a07-4ed3-49e7-9aff-3d819a99e40f"
      },
      "outputs": [
        {
          "output_type": "stream",
          "name": "stdout",
          "text": [
            "/content\n",
            "sample_data\n",
            "default-java  java-1.11.0-openjdk-amd64  java-11-openjdk-amd64\n"
          ]
        }
      ],
      "source": [
        "# print working directory\n",
        "!pwd\n",
        "\n",
        "# List files and folders\n",
        "!ls\n",
        "\n",
        "# Check the open jdk version on colab\n",
        "!ls /usr/lib/jvm/\n",
        "     "
      ]
    },
    {
      "cell_type": "code",
      "source": [
        "\n",
        "\n",
        "# Download and install Java 8\n",
        "!apt-get update\n",
        "!apt-get install openjdk-8-jdk-headless -qq > /dev/null\n"
      ],
      "metadata": {
        "colab": {
          "base_uri": "https://localhost:8080/"
        },
        "id": "5RLeQ5n2bFTQ",
        "outputId": "0188fa6e-3958-4ff6-eb30-0573654e5edc"
      },
      "execution_count": null,
      "outputs": [
        {
          "output_type": "stream",
          "name": "stdout",
          "text": [
            "\r0% [Working]\r            \rGet:1 http://ppa.launchpad.net/c2d4u.team/c2d4u4.0+/ubuntu focal InRelease [18.1 kB]\n",
            "\r0% [Connecting to archive.ubuntu.com (91.189.91.39)] [Connecting to security.ub\r                                                                               \rHit:2 http://ppa.launchpad.net/cran/libgit2/ubuntu focal InRelease\n",
            "\r0% [Connecting to archive.ubuntu.com (91.189.91.39)] [Connecting to security.ub\r                                                                               \rGet:3 https://cloud.r-project.org/bin/linux/ubuntu focal-cran40/ InRelease [3,622 B]\n",
            "\r0% [Connecting to archive.ubuntu.com (91.189.91.39)] [Connecting to security.ub\r                                                                               \rHit:4 http://ppa.launchpad.net/deadsnakes/ppa/ubuntu focal InRelease\n",
            "\r0% [Connecting to archive.ubuntu.com (91.189.91.39)] [Connecting to security.ub\r                                                                               \rHit:5 http://ppa.launchpad.net/graphics-drivers/ppa/ubuntu focal InRelease\n",
            "\r0% [Waiting for headers] [Waiting for headers] [Waiting for headers] [Connectin\r                                                                               \rHit:6 http://ppa.launchpad.net/ubuntugis/ppa/ubuntu focal InRelease\n",
            "\r                                                                               \r0% [Waiting for headers] [Waiting for headers] [Waiting for headers]\r                                                                    \rHit:7 http://archive.ubuntu.com/ubuntu focal InRelease\n",
            "Get:8 http://security.ubuntu.com/ubuntu focal-security InRelease [114 kB]\n",
            "Get:9 http://archive.ubuntu.com/ubuntu focal-updates InRelease [114 kB]\n",
            "Ign:10 https://developer.download.nvidia.com/compute/machine-learning/repos/ubuntu2004/x86_64  InRelease\n",
            "Hit:11 https://developer.download.nvidia.com/compute/cuda/repos/ubuntu2004/x86_64  InRelease\n",
            "Hit:12 https://developer.download.nvidia.com/compute/machine-learning/repos/ubuntu2004/x86_64  Release\n",
            "Get:13 http://ppa.launchpad.net/c2d4u.team/c2d4u4.0+/ubuntu focal/main Sources [2,397 kB]\n",
            "Get:14 http://archive.ubuntu.com/ubuntu focal-backports InRelease [108 kB]\n",
            "Get:15 http://ppa.launchpad.net/c2d4u.team/c2d4u4.0+/ubuntu focal/main amd64 Packages [1,136 kB]\n",
            "Get:16 http://security.ubuntu.com/ubuntu focal-security/universe amd64 Packages [1,017 kB]\n",
            "Get:18 http://archive.ubuntu.com/ubuntu focal-updates/universe amd64 Packages [1,312 kB]\n",
            "Get:19 http://security.ubuntu.com/ubuntu focal-security/main amd64 Packages [2,542 kB]\n",
            "Get:20 http://archive.ubuntu.com/ubuntu focal-updates/main amd64 Packages [3,019 kB]\n",
            "Fetched 11.8 MB in 4s (2,979 kB/s)\n",
            "Reading package lists... Done\n"
          ]
        }
      ]
    },
    {
      "cell_type": "code",
      "source": [
        "\n",
        "# Check if we have java 8 or not\n",
        "!ls /usr/lib/jvm/"
      ],
      "metadata": {
        "colab": {
          "base_uri": "https://localhost:8080/"
        },
        "id": "FKZcMoOvbLBn",
        "outputId": "9a333a20-21cd-49ba-d085-2d2e6e73e155"
      },
      "execution_count": null,
      "outputs": [
        {
          "output_type": "stream",
          "name": "stdout",
          "text": [
            "default-java\t\t   java-11-openjdk-amd64     java-8-openjdk-amd64\n",
            "java-1.11.0-openjdk-amd64  java-1.8.0-openjdk-amd64\n"
          ]
        }
      ]
    },
    {
      "cell_type": "code",
      "source": [
        "# Download Apache Spark binary: This link can change based on the version. Update this link with the latest version before using\n",
        "!wget -q https://downloads.apache.org/spark/spark-3.2.3/spark-3.2.3-bin-hadoop3.2.tgz\n",
        "\n",
        "# Unzip file\n",
        "!tar -xvzf spark-3.2.3-bin-hadoop3.2.tgz"
      ],
      "metadata": {
        "colab": {
          "base_uri": "https://localhost:8080/"
        },
        "id": "hk2SxdZ7bOvi",
        "outputId": "5a118073-7fb4-470a-f42b-77bf0cd802c0"
      },
      "execution_count": null,
      "outputs": [
        {
          "output_type": "stream",
          "name": "stdout",
          "text": [
            "spark-3.2.3-bin-hadoop3.2/\n",
            "spark-3.2.3-bin-hadoop3.2/LICENSE\n",
            "spark-3.2.3-bin-hadoop3.2/NOTICE\n",
            "spark-3.2.3-bin-hadoop3.2/R/\n",
            "spark-3.2.3-bin-hadoop3.2/R/lib/\n",
            "spark-3.2.3-bin-hadoop3.2/R/lib/SparkR/\n",
            "spark-3.2.3-bin-hadoop3.2/R/lib/SparkR/DESCRIPTION\n",
            "spark-3.2.3-bin-hadoop3.2/R/lib/SparkR/INDEX\n",
            "spark-3.2.3-bin-hadoop3.2/R/lib/SparkR/Meta/\n",
            "spark-3.2.3-bin-hadoop3.2/R/lib/SparkR/Meta/Rd.rds\n",
            "spark-3.2.3-bin-hadoop3.2/R/lib/SparkR/Meta/features.rds\n",
            "spark-3.2.3-bin-hadoop3.2/R/lib/SparkR/Meta/hsearch.rds\n",
            "spark-3.2.3-bin-hadoop3.2/R/lib/SparkR/Meta/links.rds\n",
            "spark-3.2.3-bin-hadoop3.2/R/lib/SparkR/Meta/nsInfo.rds\n",
            "spark-3.2.3-bin-hadoop3.2/R/lib/SparkR/Meta/package.rds\n",
            "spark-3.2.3-bin-hadoop3.2/R/lib/SparkR/Meta/vignette.rds\n",
            "spark-3.2.3-bin-hadoop3.2/R/lib/SparkR/NAMESPACE\n",
            "spark-3.2.3-bin-hadoop3.2/R/lib/SparkR/R/\n",
            "spark-3.2.3-bin-hadoop3.2/R/lib/SparkR/R/SparkR\n",
            "spark-3.2.3-bin-hadoop3.2/R/lib/SparkR/R/SparkR.rdb\n",
            "spark-3.2.3-bin-hadoop3.2/R/lib/SparkR/R/SparkR.rdx\n",
            "spark-3.2.3-bin-hadoop3.2/R/lib/SparkR/doc/\n",
            "spark-3.2.3-bin-hadoop3.2/R/lib/SparkR/doc/index.html\n",
            "spark-3.2.3-bin-hadoop3.2/R/lib/SparkR/doc/sparkr-vignettes.R\n",
            "spark-3.2.3-bin-hadoop3.2/R/lib/SparkR/doc/sparkr-vignettes.Rmd\n",
            "spark-3.2.3-bin-hadoop3.2/R/lib/SparkR/doc/sparkr-vignettes.html\n",
            "spark-3.2.3-bin-hadoop3.2/R/lib/SparkR/help/\n",
            "spark-3.2.3-bin-hadoop3.2/R/lib/SparkR/help/AnIndex\n",
            "spark-3.2.3-bin-hadoop3.2/R/lib/SparkR/help/SparkR.rdb\n",
            "spark-3.2.3-bin-hadoop3.2/R/lib/SparkR/help/SparkR.rdx\n",
            "spark-3.2.3-bin-hadoop3.2/R/lib/SparkR/help/aliases.rds\n",
            "spark-3.2.3-bin-hadoop3.2/R/lib/SparkR/help/paths.rds\n",
            "spark-3.2.3-bin-hadoop3.2/R/lib/SparkR/html/\n",
            "spark-3.2.3-bin-hadoop3.2/R/lib/SparkR/html/00Index.html\n",
            "spark-3.2.3-bin-hadoop3.2/R/lib/SparkR/html/R.css\n",
            "spark-3.2.3-bin-hadoop3.2/R/lib/SparkR/profile/\n",
            "spark-3.2.3-bin-hadoop3.2/R/lib/SparkR/profile/general.R\n",
            "spark-3.2.3-bin-hadoop3.2/R/lib/SparkR/profile/shell.R\n",
            "spark-3.2.3-bin-hadoop3.2/R/lib/SparkR/tests/\n",
            "spark-3.2.3-bin-hadoop3.2/R/lib/SparkR/tests/testthat/\n",
            "spark-3.2.3-bin-hadoop3.2/R/lib/SparkR/tests/testthat/test_basic.R\n",
            "spark-3.2.3-bin-hadoop3.2/R/lib/SparkR/worker/\n",
            "spark-3.2.3-bin-hadoop3.2/R/lib/SparkR/worker/daemon.R\n",
            "spark-3.2.3-bin-hadoop3.2/R/lib/SparkR/worker/worker.R\n",
            "spark-3.2.3-bin-hadoop3.2/R/lib/sparkr.zip\n",
            "spark-3.2.3-bin-hadoop3.2/README.md\n",
            "spark-3.2.3-bin-hadoop3.2/RELEASE\n",
            "spark-3.2.3-bin-hadoop3.2/bin/\n",
            "spark-3.2.3-bin-hadoop3.2/bin/beeline\n",
            "spark-3.2.3-bin-hadoop3.2/bin/beeline.cmd\n",
            "spark-3.2.3-bin-hadoop3.2/bin/docker-image-tool.sh\n",
            "spark-3.2.3-bin-hadoop3.2/bin/find-spark-home\n",
            "spark-3.2.3-bin-hadoop3.2/bin/find-spark-home.cmd\n",
            "spark-3.2.3-bin-hadoop3.2/bin/load-spark-env.cmd\n",
            "spark-3.2.3-bin-hadoop3.2/bin/load-spark-env.sh\n",
            "spark-3.2.3-bin-hadoop3.2/bin/pyspark\n",
            "spark-3.2.3-bin-hadoop3.2/bin/pyspark.cmd\n",
            "spark-3.2.3-bin-hadoop3.2/bin/pyspark2.cmd\n",
            "spark-3.2.3-bin-hadoop3.2/bin/run-example\n",
            "spark-3.2.3-bin-hadoop3.2/bin/run-example.cmd\n",
            "spark-3.2.3-bin-hadoop3.2/bin/spark-class\n",
            "spark-3.2.3-bin-hadoop3.2/bin/spark-class.cmd\n",
            "spark-3.2.3-bin-hadoop3.2/bin/spark-class2.cmd\n",
            "spark-3.2.3-bin-hadoop3.2/bin/spark-shell\n",
            "spark-3.2.3-bin-hadoop3.2/bin/spark-shell.cmd\n",
            "spark-3.2.3-bin-hadoop3.2/bin/spark-shell2.cmd\n",
            "spark-3.2.3-bin-hadoop3.2/bin/spark-sql\n",
            "spark-3.2.3-bin-hadoop3.2/bin/spark-sql.cmd\n",
            "spark-3.2.3-bin-hadoop3.2/bin/spark-sql2.cmd\n",
            "spark-3.2.3-bin-hadoop3.2/bin/spark-submit\n",
            "spark-3.2.3-bin-hadoop3.2/bin/spark-submit.cmd\n",
            "spark-3.2.3-bin-hadoop3.2/bin/spark-submit2.cmd\n",
            "spark-3.2.3-bin-hadoop3.2/bin/sparkR\n",
            "spark-3.2.3-bin-hadoop3.2/bin/sparkR.cmd\n",
            "spark-3.2.3-bin-hadoop3.2/bin/sparkR2.cmd\n",
            "spark-3.2.3-bin-hadoop3.2/conf/\n",
            "spark-3.2.3-bin-hadoop3.2/conf/fairscheduler.xml.template\n",
            "spark-3.2.3-bin-hadoop3.2/conf/log4j.properties.template\n",
            "spark-3.2.3-bin-hadoop3.2/conf/metrics.properties.template\n",
            "spark-3.2.3-bin-hadoop3.2/conf/spark-defaults.conf.template\n",
            "spark-3.2.3-bin-hadoop3.2/conf/spark-env.sh.template\n",
            "spark-3.2.3-bin-hadoop3.2/conf/workers.template\n",
            "spark-3.2.3-bin-hadoop3.2/data/\n",
            "spark-3.2.3-bin-hadoop3.2/data/graphx/\n",
            "spark-3.2.3-bin-hadoop3.2/data/graphx/followers.txt\n",
            "spark-3.2.3-bin-hadoop3.2/data/graphx/users.txt\n",
            "spark-3.2.3-bin-hadoop3.2/data/mllib/\n",
            "spark-3.2.3-bin-hadoop3.2/data/mllib/als/\n",
            "spark-3.2.3-bin-hadoop3.2/data/mllib/als/sample_movielens_ratings.txt\n",
            "spark-3.2.3-bin-hadoop3.2/data/mllib/als/test.data\n",
            "spark-3.2.3-bin-hadoop3.2/data/mllib/gmm_data.txt\n",
            "spark-3.2.3-bin-hadoop3.2/data/mllib/images/\n",
            "spark-3.2.3-bin-hadoop3.2/data/mllib/images/license.txt\n",
            "spark-3.2.3-bin-hadoop3.2/data/mllib/images/origin/\n",
            "spark-3.2.3-bin-hadoop3.2/data/mllib/images/origin/kittens/\n",
            "spark-3.2.3-bin-hadoop3.2/data/mllib/images/origin/kittens/29.5.a_b_EGDP022204.jpg\n",
            "spark-3.2.3-bin-hadoop3.2/data/mllib/images/origin/kittens/54893.jpg\n",
            "spark-3.2.3-bin-hadoop3.2/data/mllib/images/origin/kittens/DP153539.jpg\n",
            "spark-3.2.3-bin-hadoop3.2/data/mllib/images/origin/kittens/DP802813.jpg\n",
            "spark-3.2.3-bin-hadoop3.2/data/mllib/images/origin/kittens/not-image.txt\n",
            "spark-3.2.3-bin-hadoop3.2/data/mllib/images/origin/license.txt\n",
            "spark-3.2.3-bin-hadoop3.2/data/mllib/images/origin/multi-channel/\n",
            "spark-3.2.3-bin-hadoop3.2/data/mllib/images/origin/multi-channel/BGRA.png\n",
            "spark-3.2.3-bin-hadoop3.2/data/mllib/images/origin/multi-channel/BGRA_alpha_60.png\n",
            "spark-3.2.3-bin-hadoop3.2/data/mllib/images/origin/multi-channel/chr30.4.184.jpg\n",
            "spark-3.2.3-bin-hadoop3.2/data/mllib/images/origin/multi-channel/grayscale.jpg\n",
            "spark-3.2.3-bin-hadoop3.2/data/mllib/images/partitioned/\n",
            "spark-3.2.3-bin-hadoop3.2/data/mllib/images/partitioned/cls=kittens/\n",
            "spark-3.2.3-bin-hadoop3.2/data/mllib/images/partitioned/cls=kittens/date=2018-01/\n",
            "spark-3.2.3-bin-hadoop3.2/data/mllib/images/partitioned/cls=kittens/date=2018-01/29.5.a_b_EGDP022204.jpg\n",
            "spark-3.2.3-bin-hadoop3.2/data/mllib/images/partitioned/cls=kittens/date=2018-01/not-image.txt\n",
            "spark-3.2.3-bin-hadoop3.2/data/mllib/images/partitioned/cls=kittens/date=2018-02/\n",
            "spark-3.2.3-bin-hadoop3.2/data/mllib/images/partitioned/cls=kittens/date=2018-02/54893.jpg\n",
            "spark-3.2.3-bin-hadoop3.2/data/mllib/images/partitioned/cls=kittens/date=2018-02/DP153539.jpg\n",
            "spark-3.2.3-bin-hadoop3.2/data/mllib/images/partitioned/cls=kittens/date=2018-02/DP802813.jpg\n",
            "spark-3.2.3-bin-hadoop3.2/data/mllib/images/partitioned/cls=multichannel/\n",
            "spark-3.2.3-bin-hadoop3.2/data/mllib/images/partitioned/cls=multichannel/date=2018-01/\n",
            "spark-3.2.3-bin-hadoop3.2/data/mllib/images/partitioned/cls=multichannel/date=2018-01/BGRA.png\n",
            "spark-3.2.3-bin-hadoop3.2/data/mllib/images/partitioned/cls=multichannel/date=2018-01/BGRA_alpha_60.png\n",
            "spark-3.2.3-bin-hadoop3.2/data/mllib/images/partitioned/cls=multichannel/date=2018-02/\n",
            "spark-3.2.3-bin-hadoop3.2/data/mllib/images/partitioned/cls=multichannel/date=2018-02/chr30.4.184.jpg\n",
            "spark-3.2.3-bin-hadoop3.2/data/mllib/images/partitioned/cls=multichannel/date=2018-02/grayscale.jpg\n",
            "spark-3.2.3-bin-hadoop3.2/data/mllib/iris_libsvm.txt\n",
            "spark-3.2.3-bin-hadoop3.2/data/mllib/kmeans_data.txt\n",
            "spark-3.2.3-bin-hadoop3.2/data/mllib/pagerank_data.txt\n",
            "spark-3.2.3-bin-hadoop3.2/data/mllib/pic_data.txt\n",
            "spark-3.2.3-bin-hadoop3.2/data/mllib/ridge-data/\n",
            "spark-3.2.3-bin-hadoop3.2/data/mllib/ridge-data/lpsa.data\n",
            "spark-3.2.3-bin-hadoop3.2/data/mllib/sample_binary_classification_data.txt\n",
            "spark-3.2.3-bin-hadoop3.2/data/mllib/sample_fpgrowth.txt\n",
            "spark-3.2.3-bin-hadoop3.2/data/mllib/sample_isotonic_regression_libsvm_data.txt\n",
            "spark-3.2.3-bin-hadoop3.2/data/mllib/sample_kmeans_data.txt\n",
            "spark-3.2.3-bin-hadoop3.2/data/mllib/sample_lda_data.txt\n",
            "spark-3.2.3-bin-hadoop3.2/data/mllib/sample_lda_libsvm_data.txt\n",
            "spark-3.2.3-bin-hadoop3.2/data/mllib/sample_libsvm_data.txt\n",
            "spark-3.2.3-bin-hadoop3.2/data/mllib/sample_linear_regression_data.txt\n",
            "spark-3.2.3-bin-hadoop3.2/data/mllib/sample_movielens_data.txt\n",
            "spark-3.2.3-bin-hadoop3.2/data/mllib/sample_multiclass_classification_data.txt\n",
            "spark-3.2.3-bin-hadoop3.2/data/mllib/sample_svm_data.txt\n",
            "spark-3.2.3-bin-hadoop3.2/data/mllib/streaming_kmeans_data_test.txt\n",
            "spark-3.2.3-bin-hadoop3.2/data/streaming/\n",
            "spark-3.2.3-bin-hadoop3.2/data/streaming/AFINN-111.txt\n",
            "spark-3.2.3-bin-hadoop3.2/examples/\n",
            "spark-3.2.3-bin-hadoop3.2/examples/jars/\n",
            "spark-3.2.3-bin-hadoop3.2/examples/jars/scopt_2.12-3.7.1.jar\n",
            "spark-3.2.3-bin-hadoop3.2/examples/jars/spark-examples_2.12-3.2.3.jar\n",
            "spark-3.2.3-bin-hadoop3.2/examples/src/\n",
            "spark-3.2.3-bin-hadoop3.2/examples/src/main/\n",
            "spark-3.2.3-bin-hadoop3.2/examples/src/main/java/\n",
            "spark-3.2.3-bin-hadoop3.2/examples/src/main/java/org/\n",
            "spark-3.2.3-bin-hadoop3.2/examples/src/main/java/org/apache/\n",
            "spark-3.2.3-bin-hadoop3.2/examples/src/main/java/org/apache/spark/\n",
            "spark-3.2.3-bin-hadoop3.2/examples/src/main/java/org/apache/spark/examples/\n",
            "spark-3.2.3-bin-hadoop3.2/examples/src/main/java/org/apache/spark/examples/JavaHdfsLR.java\n",
            "spark-3.2.3-bin-hadoop3.2/examples/src/main/java/org/apache/spark/examples/JavaLogQuery.java\n",
            "spark-3.2.3-bin-hadoop3.2/examples/src/main/java/org/apache/spark/examples/JavaPageRank.java\n",
            "spark-3.2.3-bin-hadoop3.2/examples/src/main/java/org/apache/spark/examples/JavaSparkPi.java\n",
            "spark-3.2.3-bin-hadoop3.2/examples/src/main/java/org/apache/spark/examples/JavaStatusTrackerDemo.java\n",
            "spark-3.2.3-bin-hadoop3.2/examples/src/main/java/org/apache/spark/examples/JavaTC.java\n",
            "spark-3.2.3-bin-hadoop3.2/examples/src/main/java/org/apache/spark/examples/JavaWordCount.java\n",
            "spark-3.2.3-bin-hadoop3.2/examples/src/main/java/org/apache/spark/examples/ml/\n",
            "spark-3.2.3-bin-hadoop3.2/examples/src/main/java/org/apache/spark/examples/ml/JavaAFTSurvivalRegressionExample.java\n",
            "spark-3.2.3-bin-hadoop3.2/examples/src/main/java/org/apache/spark/examples/ml/JavaALSExample.java\n",
            "spark-3.2.3-bin-hadoop3.2/examples/src/main/java/org/apache/spark/examples/ml/JavaBinarizerExample.java\n",
            "spark-3.2.3-bin-hadoop3.2/examples/src/main/java/org/apache/spark/examples/ml/JavaBisectingKMeansExample.java\n",
            "spark-3.2.3-bin-hadoop3.2/examples/src/main/java/org/apache/spark/examples/ml/JavaBucketedRandomProjectionLSHExample.java\n",
            "spark-3.2.3-bin-hadoop3.2/examples/src/main/java/org/apache/spark/examples/ml/JavaBucketizerExample.java\n",
            "spark-3.2.3-bin-hadoop3.2/examples/src/main/java/org/apache/spark/examples/ml/JavaChiSqSelectorExample.java\n",
            "spark-3.2.3-bin-hadoop3.2/examples/src/main/java/org/apache/spark/examples/ml/JavaChiSquareTestExample.java\n",
            "spark-3.2.3-bin-hadoop3.2/examples/src/main/java/org/apache/spark/examples/ml/JavaCorrelationExample.java\n",
            "spark-3.2.3-bin-hadoop3.2/examples/src/main/java/org/apache/spark/examples/ml/JavaCountVectorizerExample.java\n",
            "spark-3.2.3-bin-hadoop3.2/examples/src/main/java/org/apache/spark/examples/ml/JavaDCTExample.java\n",
            "spark-3.2.3-bin-hadoop3.2/examples/src/main/java/org/apache/spark/examples/ml/JavaDecisionTreeClassificationExample.java\n",
            "spark-3.2.3-bin-hadoop3.2/examples/src/main/java/org/apache/spark/examples/ml/JavaDecisionTreeRegressionExample.java\n",
            "spark-3.2.3-bin-hadoop3.2/examples/src/main/java/org/apache/spark/examples/ml/JavaDocument.java\n",
            "spark-3.2.3-bin-hadoop3.2/examples/src/main/java/org/apache/spark/examples/ml/JavaElementwiseProductExample.java\n",
            "spark-3.2.3-bin-hadoop3.2/examples/src/main/java/org/apache/spark/examples/ml/JavaEstimatorTransformerParamExample.java\n",
            "spark-3.2.3-bin-hadoop3.2/examples/src/main/java/org/apache/spark/examples/ml/JavaFMClassifierExample.java\n",
            "spark-3.2.3-bin-hadoop3.2/examples/src/main/java/org/apache/spark/examples/ml/JavaFMRegressorExample.java\n",
            "spark-3.2.3-bin-hadoop3.2/examples/src/main/java/org/apache/spark/examples/ml/JavaFPGrowthExample.java\n",
            "spark-3.2.3-bin-hadoop3.2/examples/src/main/java/org/apache/spark/examples/ml/JavaFeatureHasherExample.java\n",
            "spark-3.2.3-bin-hadoop3.2/examples/src/main/java/org/apache/spark/examples/ml/JavaGaussianMixtureExample.java\n",
            "spark-3.2.3-bin-hadoop3.2/examples/src/main/java/org/apache/spark/examples/ml/JavaGeneralizedLinearRegressionExample.java\n",
            "spark-3.2.3-bin-hadoop3.2/examples/src/main/java/org/apache/spark/examples/ml/JavaGradientBoostedTreeClassifierExample.java\n",
            "spark-3.2.3-bin-hadoop3.2/examples/src/main/java/org/apache/spark/examples/ml/JavaGradientBoostedTreeRegressorExample.java\n",
            "spark-3.2.3-bin-hadoop3.2/examples/src/main/java/org/apache/spark/examples/ml/JavaImputerExample.java\n",
            "spark-3.2.3-bin-hadoop3.2/examples/src/main/java/org/apache/spark/examples/ml/JavaIndexToStringExample.java\n",
            "spark-3.2.3-bin-hadoop3.2/examples/src/main/java/org/apache/spark/examples/ml/JavaInteractionExample.java\n",
            "spark-3.2.3-bin-hadoop3.2/examples/src/main/java/org/apache/spark/examples/ml/JavaIsotonicRegressionExample.java\n",
            "spark-3.2.3-bin-hadoop3.2/examples/src/main/java/org/apache/spark/examples/ml/JavaKMeansExample.java\n",
            "spark-3.2.3-bin-hadoop3.2/examples/src/main/java/org/apache/spark/examples/ml/JavaLDAExample.java\n",
            "spark-3.2.3-bin-hadoop3.2/examples/src/main/java/org/apache/spark/examples/ml/JavaLabeledDocument.java\n",
            "spark-3.2.3-bin-hadoop3.2/examples/src/main/java/org/apache/spark/examples/ml/JavaLinearRegressionWithElasticNetExample.java\n",
            "spark-3.2.3-bin-hadoop3.2/examples/src/main/java/org/apache/spark/examples/ml/JavaLinearSVCExample.java\n",
            "spark-3.2.3-bin-hadoop3.2/examples/src/main/java/org/apache/spark/examples/ml/JavaLogisticRegressionSummaryExample.java\n",
            "spark-3.2.3-bin-hadoop3.2/examples/src/main/java/org/apache/spark/examples/ml/JavaLogisticRegressionWithElasticNetExample.java\n",
            "spark-3.2.3-bin-hadoop3.2/examples/src/main/java/org/apache/spark/examples/ml/JavaMaxAbsScalerExample.java\n",
            "spark-3.2.3-bin-hadoop3.2/examples/src/main/java/org/apache/spark/examples/ml/JavaMinHashLSHExample.java\n",
            "spark-3.2.3-bin-hadoop3.2/examples/src/main/java/org/apache/spark/examples/ml/JavaMinMaxScalerExample.java\n",
            "spark-3.2.3-bin-hadoop3.2/examples/src/main/java/org/apache/spark/examples/ml/JavaModelSelectionViaCrossValidationExample.java\n",
            "spark-3.2.3-bin-hadoop3.2/examples/src/main/java/org/apache/spark/examples/ml/JavaModelSelectionViaTrainValidationSplitExample.java\n",
            "spark-3.2.3-bin-hadoop3.2/examples/src/main/java/org/apache/spark/examples/ml/JavaMulticlassLogisticRegressionWithElasticNetExample.java\n",
            "spark-3.2.3-bin-hadoop3.2/examples/src/main/java/org/apache/spark/examples/ml/JavaMultilayerPerceptronClassifierExample.java\n",
            "spark-3.2.3-bin-hadoop3.2/examples/src/main/java/org/apache/spark/examples/ml/JavaNGramExample.java\n",
            "spark-3.2.3-bin-hadoop3.2/examples/src/main/java/org/apache/spark/examples/ml/JavaNaiveBayesExample.java\n",
            "spark-3.2.3-bin-hadoop3.2/examples/src/main/java/org/apache/spark/examples/ml/JavaNormalizerExample.java\n",
            "spark-3.2.3-bin-hadoop3.2/examples/src/main/java/org/apache/spark/examples/ml/JavaOneHotEncoderExample.java\n",
            "spark-3.2.3-bin-hadoop3.2/examples/src/main/java/org/apache/spark/examples/ml/JavaOneVsRestExample.java\n",
            "spark-3.2.3-bin-hadoop3.2/examples/src/main/java/org/apache/spark/examples/ml/JavaPCAExample.java\n",
            "spark-3.2.3-bin-hadoop3.2/examples/src/main/java/org/apache/spark/examples/ml/JavaPipelineExample.java\n",
            "spark-3.2.3-bin-hadoop3.2/examples/src/main/java/org/apache/spark/examples/ml/JavaPolynomialExpansionExample.java\n",
            "spark-3.2.3-bin-hadoop3.2/examples/src/main/java/org/apache/spark/examples/ml/JavaPowerIterationClusteringExample.java\n",
            "spark-3.2.3-bin-hadoop3.2/examples/src/main/java/org/apache/spark/examples/ml/JavaPrefixSpanExample.java\n",
            "spark-3.2.3-bin-hadoop3.2/examples/src/main/java/org/apache/spark/examples/ml/JavaQuantileDiscretizerExample.java\n",
            "spark-3.2.3-bin-hadoop3.2/examples/src/main/java/org/apache/spark/examples/ml/JavaRFormulaExample.java\n",
            "spark-3.2.3-bin-hadoop3.2/examples/src/main/java/org/apache/spark/examples/ml/JavaRandomForestClassifierExample.java\n",
            "spark-3.2.3-bin-hadoop3.2/examples/src/main/java/org/apache/spark/examples/ml/JavaRandomForestRegressorExample.java\n",
            "spark-3.2.3-bin-hadoop3.2/examples/src/main/java/org/apache/spark/examples/ml/JavaRobustScalerExample.java\n",
            "spark-3.2.3-bin-hadoop3.2/examples/src/main/java/org/apache/spark/examples/ml/JavaSQLTransformerExample.java\n",
            "spark-3.2.3-bin-hadoop3.2/examples/src/main/java/org/apache/spark/examples/ml/JavaStandardScalerExample.java\n",
            "spark-3.2.3-bin-hadoop3.2/examples/src/main/java/org/apache/spark/examples/ml/JavaStopWordsRemoverExample.java\n",
            "spark-3.2.3-bin-hadoop3.2/examples/src/main/java/org/apache/spark/examples/ml/JavaStringIndexerExample.java\n",
            "spark-3.2.3-bin-hadoop3.2/examples/src/main/java/org/apache/spark/examples/ml/JavaSummarizerExample.java\n",
            "spark-3.2.3-bin-hadoop3.2/examples/src/main/java/org/apache/spark/examples/ml/JavaTfIdfExample.java\n",
            "spark-3.2.3-bin-hadoop3.2/examples/src/main/java/org/apache/spark/examples/ml/JavaTokenizerExample.java\n",
            "spark-3.2.3-bin-hadoop3.2/examples/src/main/java/org/apache/spark/examples/ml/JavaUnivariateFeatureSelectorExample.java\n",
            "spark-3.2.3-bin-hadoop3.2/examples/src/main/java/org/apache/spark/examples/ml/JavaVarianceThresholdSelectorExample.java\n",
            "spark-3.2.3-bin-hadoop3.2/examples/src/main/java/org/apache/spark/examples/ml/JavaVectorAssemblerExample.java\n",
            "spark-3.2.3-bin-hadoop3.2/examples/src/main/java/org/apache/spark/examples/ml/JavaVectorIndexerExample.java\n",
            "spark-3.2.3-bin-hadoop3.2/examples/src/main/java/org/apache/spark/examples/ml/JavaVectorSizeHintExample.java\n",
            "spark-3.2.3-bin-hadoop3.2/examples/src/main/java/org/apache/spark/examples/ml/JavaVectorSlicerExample.java\n",
            "spark-3.2.3-bin-hadoop3.2/examples/src/main/java/org/apache/spark/examples/ml/JavaWord2VecExample.java\n",
            "spark-3.2.3-bin-hadoop3.2/examples/src/main/java/org/apache/spark/examples/mllib/\n",
            "spark-3.2.3-bin-hadoop3.2/examples/src/main/java/org/apache/spark/examples/mllib/JavaALS.java\n",
            "spark-3.2.3-bin-hadoop3.2/examples/src/main/java/org/apache/spark/examples/mllib/JavaAssociationRulesExample.java\n",
            "spark-3.2.3-bin-hadoop3.2/examples/src/main/java/org/apache/spark/examples/mllib/JavaBinaryClassificationMetricsExample.java\n",
            "spark-3.2.3-bin-hadoop3.2/examples/src/main/java/org/apache/spark/examples/mllib/JavaBisectingKMeansExample.java\n",
            "spark-3.2.3-bin-hadoop3.2/examples/src/main/java/org/apache/spark/examples/mllib/JavaChiSqSelectorExample.java\n",
            "spark-3.2.3-bin-hadoop3.2/examples/src/main/java/org/apache/spark/examples/mllib/JavaCorrelationsExample.java\n",
            "spark-3.2.3-bin-hadoop3.2/examples/src/main/java/org/apache/spark/examples/mllib/JavaDecisionTreeClassificationExample.java\n",
            "spark-3.2.3-bin-hadoop3.2/examples/src/main/java/org/apache/spark/examples/mllib/JavaDecisionTreeRegressionExample.java\n",
            "spark-3.2.3-bin-hadoop3.2/examples/src/main/java/org/apache/spark/examples/mllib/JavaElementwiseProductExample.java\n",
            "spark-3.2.3-bin-hadoop3.2/examples/src/main/java/org/apache/spark/examples/mllib/JavaGaussianMixtureExample.java\n",
            "spark-3.2.3-bin-hadoop3.2/examples/src/main/java/org/apache/spark/examples/mllib/JavaGradientBoostingClassificationExample.java\n",
            "spark-3.2.3-bin-hadoop3.2/examples/src/main/java/org/apache/spark/examples/mllib/JavaGradientBoostingRegressionExample.java\n",
            "spark-3.2.3-bin-hadoop3.2/examples/src/main/java/org/apache/spark/examples/mllib/JavaHypothesisTestingExample.java\n",
            "spark-3.2.3-bin-hadoop3.2/examples/src/main/java/org/apache/spark/examples/mllib/JavaHypothesisTestingKolmogorovSmirnovTestExample.java\n",
            "spark-3.2.3-bin-hadoop3.2/examples/src/main/java/org/apache/spark/examples/mllib/JavaIsotonicRegressionExample.java\n",
            "spark-3.2.3-bin-hadoop3.2/examples/src/main/java/org/apache/spark/examples/mllib/JavaKMeansExample.java\n",
            "spark-3.2.3-bin-hadoop3.2/examples/src/main/java/org/apache/spark/examples/mllib/JavaKernelDensityEstimationExample.java\n",
            "spark-3.2.3-bin-hadoop3.2/examples/src/main/java/org/apache/spark/examples/mllib/JavaLBFGSExample.java\n",
            "spark-3.2.3-bin-hadoop3.2/examples/src/main/java/org/apache/spark/examples/mllib/JavaLatentDirichletAllocationExample.java\n",
            "spark-3.2.3-bin-hadoop3.2/examples/src/main/java/org/apache/spark/examples/mllib/JavaLogisticRegressionWithLBFGSExample.java\n",
            "spark-3.2.3-bin-hadoop3.2/examples/src/main/java/org/apache/spark/examples/mllib/JavaMultiLabelClassificationMetricsExample.java\n",
            "spark-3.2.3-bin-hadoop3.2/examples/src/main/java/org/apache/spark/examples/mllib/JavaMulticlassClassificationMetricsExample.java\n",
            "spark-3.2.3-bin-hadoop3.2/examples/src/main/java/org/apache/spark/examples/mllib/JavaNaiveBayesExample.java\n",
            "spark-3.2.3-bin-hadoop3.2/examples/src/main/java/org/apache/spark/examples/mllib/JavaPCAExample.java\n",
            "spark-3.2.3-bin-hadoop3.2/examples/src/main/java/org/apache/spark/examples/mllib/JavaPowerIterationClusteringExample.java\n",
            "spark-3.2.3-bin-hadoop3.2/examples/src/main/java/org/apache/spark/examples/mllib/JavaPrefixSpanExample.java\n",
            "spark-3.2.3-bin-hadoop3.2/examples/src/main/java/org/apache/spark/examples/mllib/JavaRandomForestClassificationExample.java\n",
            "spark-3.2.3-bin-hadoop3.2/examples/src/main/java/org/apache/spark/examples/mllib/JavaRandomForestRegressionExample.java\n",
            "spark-3.2.3-bin-hadoop3.2/examples/src/main/java/org/apache/spark/examples/mllib/JavaRankingMetricsExample.java\n",
            "spark-3.2.3-bin-hadoop3.2/examples/src/main/java/org/apache/spark/examples/mllib/JavaRecommendationExample.java\n",
            "spark-3.2.3-bin-hadoop3.2/examples/src/main/java/org/apache/spark/examples/mllib/JavaSVDExample.java\n",
            "spark-3.2.3-bin-hadoop3.2/examples/src/main/java/org/apache/spark/examples/mllib/JavaSVMWithSGDExample.java\n",
            "spark-3.2.3-bin-hadoop3.2/examples/src/main/java/org/apache/spark/examples/mllib/JavaSimpleFPGrowth.java\n",
            "spark-3.2.3-bin-hadoop3.2/examples/src/main/java/org/apache/spark/examples/mllib/JavaStratifiedSamplingExample.java\n",
            "spark-3.2.3-bin-hadoop3.2/examples/src/main/java/org/apache/spark/examples/mllib/JavaStreamingTestExample.java\n",
            "spark-3.2.3-bin-hadoop3.2/examples/src/main/java/org/apache/spark/examples/mllib/JavaSummaryStatisticsExample.java\n",
            "spark-3.2.3-bin-hadoop3.2/examples/src/main/java/org/apache/spark/examples/sql/\n",
            "spark-3.2.3-bin-hadoop3.2/examples/src/main/java/org/apache/spark/examples/sql/JavaSQLDataSourceExample.java\n",
            "spark-3.2.3-bin-hadoop3.2/examples/src/main/java/org/apache/spark/examples/sql/JavaSparkSQLExample.java\n",
            "spark-3.2.3-bin-hadoop3.2/examples/src/main/java/org/apache/spark/examples/sql/JavaUserDefinedScalar.java\n",
            "spark-3.2.3-bin-hadoop3.2/examples/src/main/java/org/apache/spark/examples/sql/JavaUserDefinedTypedAggregation.java\n",
            "spark-3.2.3-bin-hadoop3.2/examples/src/main/java/org/apache/spark/examples/sql/JavaUserDefinedUntypedAggregation.java\n",
            "spark-3.2.3-bin-hadoop3.2/examples/src/main/java/org/apache/spark/examples/sql/hive/\n",
            "spark-3.2.3-bin-hadoop3.2/examples/src/main/java/org/apache/spark/examples/sql/hive/JavaSparkHiveExample.java\n",
            "spark-3.2.3-bin-hadoop3.2/examples/src/main/java/org/apache/spark/examples/sql/streaming/\n",
            "spark-3.2.3-bin-hadoop3.2/examples/src/main/java/org/apache/spark/examples/sql/streaming/JavaStructuredComplexSessionization.java\n",
            "spark-3.2.3-bin-hadoop3.2/examples/src/main/java/org/apache/spark/examples/sql/streaming/JavaStructuredKafkaWordCount.java\n",
            "spark-3.2.3-bin-hadoop3.2/examples/src/main/java/org/apache/spark/examples/sql/streaming/JavaStructuredKerberizedKafkaWordCount.java\n",
            "spark-3.2.3-bin-hadoop3.2/examples/src/main/java/org/apache/spark/examples/sql/streaming/JavaStructuredNetworkWordCount.java\n",
            "spark-3.2.3-bin-hadoop3.2/examples/src/main/java/org/apache/spark/examples/sql/streaming/JavaStructuredNetworkWordCountWindowed.java\n",
            "spark-3.2.3-bin-hadoop3.2/examples/src/main/java/org/apache/spark/examples/sql/streaming/JavaStructuredSessionization.java\n",
            "spark-3.2.3-bin-hadoop3.2/examples/src/main/java/org/apache/spark/examples/streaming/\n",
            "spark-3.2.3-bin-hadoop3.2/examples/src/main/java/org/apache/spark/examples/streaming/JavaCustomReceiver.java\n",
            "spark-3.2.3-bin-hadoop3.2/examples/src/main/java/org/apache/spark/examples/streaming/JavaDirectKafkaWordCount.java\n",
            "spark-3.2.3-bin-hadoop3.2/examples/src/main/java/org/apache/spark/examples/streaming/JavaDirectKerberizedKafkaWordCount.java\n",
            "spark-3.2.3-bin-hadoop3.2/examples/src/main/java/org/apache/spark/examples/streaming/JavaNetworkWordCount.java\n",
            "spark-3.2.3-bin-hadoop3.2/examples/src/main/java/org/apache/spark/examples/streaming/JavaQueueStream.java\n",
            "spark-3.2.3-bin-hadoop3.2/examples/src/main/java/org/apache/spark/examples/streaming/JavaRecord.java\n",
            "spark-3.2.3-bin-hadoop3.2/examples/src/main/java/org/apache/spark/examples/streaming/JavaRecoverableNetworkWordCount.java\n",
            "spark-3.2.3-bin-hadoop3.2/examples/src/main/java/org/apache/spark/examples/streaming/JavaSqlNetworkWordCount.java\n",
            "spark-3.2.3-bin-hadoop3.2/examples/src/main/java/org/apache/spark/examples/streaming/JavaStatefulNetworkWordCount.java\n",
            "spark-3.2.3-bin-hadoop3.2/examples/src/main/python/\n",
            "spark-3.2.3-bin-hadoop3.2/examples/src/main/python/als.py\n",
            "spark-3.2.3-bin-hadoop3.2/examples/src/main/python/avro_inputformat.py\n",
            "spark-3.2.3-bin-hadoop3.2/examples/src/main/python/kmeans.py\n",
            "spark-3.2.3-bin-hadoop3.2/examples/src/main/python/logistic_regression.py\n",
            "spark-3.2.3-bin-hadoop3.2/examples/src/main/python/ml/\n",
            "spark-3.2.3-bin-hadoop3.2/examples/src/main/python/ml/aft_survival_regression.py\n",
            "spark-3.2.3-bin-hadoop3.2/examples/src/main/python/ml/als_example.py\n",
            "spark-3.2.3-bin-hadoop3.2/examples/src/main/python/ml/binarizer_example.py\n",
            "spark-3.2.3-bin-hadoop3.2/examples/src/main/python/ml/bisecting_k_means_example.py\n",
            "spark-3.2.3-bin-hadoop3.2/examples/src/main/python/ml/bucketed_random_projection_lsh_example.py\n",
            "spark-3.2.3-bin-hadoop3.2/examples/src/main/python/ml/bucketizer_example.py\n",
            "spark-3.2.3-bin-hadoop3.2/examples/src/main/python/ml/chi_square_test_example.py\n",
            "spark-3.2.3-bin-hadoop3.2/examples/src/main/python/ml/chisq_selector_example.py\n",
            "spark-3.2.3-bin-hadoop3.2/examples/src/main/python/ml/correlation_example.py\n",
            "spark-3.2.3-bin-hadoop3.2/examples/src/main/python/ml/count_vectorizer_example.py\n",
            "spark-3.2.3-bin-hadoop3.2/examples/src/main/python/ml/cross_validator.py\n",
            "spark-3.2.3-bin-hadoop3.2/examples/src/main/python/ml/dataframe_example.py\n",
            "spark-3.2.3-bin-hadoop3.2/examples/src/main/python/ml/dct_example.py\n",
            "spark-3.2.3-bin-hadoop3.2/examples/src/main/python/ml/decision_tree_classification_example.py\n",
            "spark-3.2.3-bin-hadoop3.2/examples/src/main/python/ml/decision_tree_regression_example.py\n",
            "spark-3.2.3-bin-hadoop3.2/examples/src/main/python/ml/elementwise_product_example.py\n",
            "spark-3.2.3-bin-hadoop3.2/examples/src/main/python/ml/estimator_transformer_param_example.py\n",
            "spark-3.2.3-bin-hadoop3.2/examples/src/main/python/ml/feature_hasher_example.py\n",
            "spark-3.2.3-bin-hadoop3.2/examples/src/main/python/ml/fm_classifier_example.py\n",
            "spark-3.2.3-bin-hadoop3.2/examples/src/main/python/ml/fm_regressor_example.py\n",
            "spark-3.2.3-bin-hadoop3.2/examples/src/main/python/ml/fpgrowth_example.py\n",
            "spark-3.2.3-bin-hadoop3.2/examples/src/main/python/ml/gaussian_mixture_example.py\n",
            "spark-3.2.3-bin-hadoop3.2/examples/src/main/python/ml/generalized_linear_regression_example.py\n",
            "spark-3.2.3-bin-hadoop3.2/examples/src/main/python/ml/gradient_boosted_tree_classifier_example.py\n",
            "spark-3.2.3-bin-hadoop3.2/examples/src/main/python/ml/gradient_boosted_tree_regressor_example.py\n",
            "spark-3.2.3-bin-hadoop3.2/examples/src/main/python/ml/imputer_example.py\n",
            "spark-3.2.3-bin-hadoop3.2/examples/src/main/python/ml/index_to_string_example.py\n",
            "spark-3.2.3-bin-hadoop3.2/examples/src/main/python/ml/interaction_example.py\n",
            "spark-3.2.3-bin-hadoop3.2/examples/src/main/python/ml/isotonic_regression_example.py\n",
            "spark-3.2.3-bin-hadoop3.2/examples/src/main/python/ml/kmeans_example.py\n",
            "spark-3.2.3-bin-hadoop3.2/examples/src/main/python/ml/lda_example.py\n",
            "spark-3.2.3-bin-hadoop3.2/examples/src/main/python/ml/linear_regression_with_elastic_net.py\n",
            "spark-3.2.3-bin-hadoop3.2/examples/src/main/python/ml/linearsvc.py\n",
            "spark-3.2.3-bin-hadoop3.2/examples/src/main/python/ml/logistic_regression_summary_example.py\n",
            "spark-3.2.3-bin-hadoop3.2/examples/src/main/python/ml/logistic_regression_with_elastic_net.py\n",
            "spark-3.2.3-bin-hadoop3.2/examples/src/main/python/ml/max_abs_scaler_example.py\n",
            "spark-3.2.3-bin-hadoop3.2/examples/src/main/python/ml/min_hash_lsh_example.py\n",
            "spark-3.2.3-bin-hadoop3.2/examples/src/main/python/ml/min_max_scaler_example.py\n",
            "spark-3.2.3-bin-hadoop3.2/examples/src/main/python/ml/multiclass_logistic_regression_with_elastic_net.py\n",
            "spark-3.2.3-bin-hadoop3.2/examples/src/main/python/ml/multilayer_perceptron_classification.py\n",
            "spark-3.2.3-bin-hadoop3.2/examples/src/main/python/ml/n_gram_example.py\n",
            "spark-3.2.3-bin-hadoop3.2/examples/src/main/python/ml/naive_bayes_example.py\n",
            "spark-3.2.3-bin-hadoop3.2/examples/src/main/python/ml/normalizer_example.py\n",
            "spark-3.2.3-bin-hadoop3.2/examples/src/main/python/ml/one_vs_rest_example.py\n",
            "spark-3.2.3-bin-hadoop3.2/examples/src/main/python/ml/onehot_encoder_example.py\n",
            "spark-3.2.3-bin-hadoop3.2/examples/src/main/python/ml/pca_example.py\n",
            "spark-3.2.3-bin-hadoop3.2/examples/src/main/python/ml/pipeline_example.py\n",
            "spark-3.2.3-bin-hadoop3.2/examples/src/main/python/ml/polynomial_expansion_example.py\n",
            "spark-3.2.3-bin-hadoop3.2/examples/src/main/python/ml/power_iteration_clustering_example.py\n",
            "spark-3.2.3-bin-hadoop3.2/examples/src/main/python/ml/prefixspan_example.py\n",
            "spark-3.2.3-bin-hadoop3.2/examples/src/main/python/ml/quantile_discretizer_example.py\n",
            "spark-3.2.3-bin-hadoop3.2/examples/src/main/python/ml/random_forest_classifier_example.py\n",
            "spark-3.2.3-bin-hadoop3.2/examples/src/main/python/ml/random_forest_regressor_example.py\n",
            "spark-3.2.3-bin-hadoop3.2/examples/src/main/python/ml/rformula_example.py\n",
            "spark-3.2.3-bin-hadoop3.2/examples/src/main/python/ml/robust_scaler_example.py\n",
            "spark-3.2.3-bin-hadoop3.2/examples/src/main/python/ml/sql_transformer.py\n",
            "spark-3.2.3-bin-hadoop3.2/examples/src/main/python/ml/standard_scaler_example.py\n",
            "spark-3.2.3-bin-hadoop3.2/examples/src/main/python/ml/stopwords_remover_example.py\n",
            "spark-3.2.3-bin-hadoop3.2/examples/src/main/python/ml/string_indexer_example.py\n",
            "spark-3.2.3-bin-hadoop3.2/examples/src/main/python/ml/summarizer_example.py\n",
            "spark-3.2.3-bin-hadoop3.2/examples/src/main/python/ml/tf_idf_example.py\n",
            "spark-3.2.3-bin-hadoop3.2/examples/src/main/python/ml/tokenizer_example.py\n",
            "spark-3.2.3-bin-hadoop3.2/examples/src/main/python/ml/train_validation_split.py\n",
            "spark-3.2.3-bin-hadoop3.2/examples/src/main/python/ml/univariate_feature_selector_example.py\n",
            "spark-3.2.3-bin-hadoop3.2/examples/src/main/python/ml/variance_threshold_selector_example.py\n",
            "spark-3.2.3-bin-hadoop3.2/examples/src/main/python/ml/vector_assembler_example.py\n",
            "spark-3.2.3-bin-hadoop3.2/examples/src/main/python/ml/vector_indexer_example.py\n",
            "spark-3.2.3-bin-hadoop3.2/examples/src/main/python/ml/vector_size_hint_example.py\n",
            "spark-3.2.3-bin-hadoop3.2/examples/src/main/python/ml/vector_slicer_example.py\n",
            "spark-3.2.3-bin-hadoop3.2/examples/src/main/python/ml/word2vec_example.py\n",
            "spark-3.2.3-bin-hadoop3.2/examples/src/main/python/mllib/\n",
            "spark-3.2.3-bin-hadoop3.2/examples/src/main/python/mllib/binary_classification_metrics_example.py\n",
            "spark-3.2.3-bin-hadoop3.2/examples/src/main/python/mllib/bisecting_k_means_example.py\n",
            "spark-3.2.3-bin-hadoop3.2/examples/src/main/python/mllib/correlations.py\n",
            "spark-3.2.3-bin-hadoop3.2/examples/src/main/python/mllib/correlations_example.py\n",
            "spark-3.2.3-bin-hadoop3.2/examples/src/main/python/mllib/decision_tree_classification_example.py\n",
            "spark-3.2.3-bin-hadoop3.2/examples/src/main/python/mllib/decision_tree_regression_example.py\n",
            "spark-3.2.3-bin-hadoop3.2/examples/src/main/python/mllib/elementwise_product_example.py\n",
            "spark-3.2.3-bin-hadoop3.2/examples/src/main/python/mllib/fpgrowth_example.py\n",
            "spark-3.2.3-bin-hadoop3.2/examples/src/main/python/mllib/gaussian_mixture_example.py\n",
            "spark-3.2.3-bin-hadoop3.2/examples/src/main/python/mllib/gaussian_mixture_model.py\n",
            "spark-3.2.3-bin-hadoop3.2/examples/src/main/python/mllib/gradient_boosting_classification_example.py\n",
            "spark-3.2.3-bin-hadoop3.2/examples/src/main/python/mllib/gradient_boosting_regression_example.py\n",
            "spark-3.2.3-bin-hadoop3.2/examples/src/main/python/mllib/hypothesis_testing_example.py\n",
            "spark-3.2.3-bin-hadoop3.2/examples/src/main/python/mllib/hypothesis_testing_kolmogorov_smirnov_test_example.py\n",
            "spark-3.2.3-bin-hadoop3.2/examples/src/main/python/mllib/isotonic_regression_example.py\n",
            "spark-3.2.3-bin-hadoop3.2/examples/src/main/python/mllib/k_means_example.py\n",
            "spark-3.2.3-bin-hadoop3.2/examples/src/main/python/mllib/kernel_density_estimation_example.py\n",
            "spark-3.2.3-bin-hadoop3.2/examples/src/main/python/mllib/kmeans.py\n",
            "spark-3.2.3-bin-hadoop3.2/examples/src/main/python/mllib/latent_dirichlet_allocation_example.py\n",
            "spark-3.2.3-bin-hadoop3.2/examples/src/main/python/mllib/linear_regression_with_sgd_example.py\n",
            "spark-3.2.3-bin-hadoop3.2/examples/src/main/python/mllib/logistic_regression.py\n",
            "spark-3.2.3-bin-hadoop3.2/examples/src/main/python/mllib/logistic_regression_with_lbfgs_example.py\n",
            "spark-3.2.3-bin-hadoop3.2/examples/src/main/python/mllib/multi_class_metrics_example.py\n",
            "spark-3.2.3-bin-hadoop3.2/examples/src/main/python/mllib/multi_label_metrics_example.py\n",
            "spark-3.2.3-bin-hadoop3.2/examples/src/main/python/mllib/naive_bayes_example.py\n",
            "spark-3.2.3-bin-hadoop3.2/examples/src/main/python/mllib/normalizer_example.py\n",
            "spark-3.2.3-bin-hadoop3.2/examples/src/main/python/mllib/pca_rowmatrix_example.py\n",
            "spark-3.2.3-bin-hadoop3.2/examples/src/main/python/mllib/power_iteration_clustering_example.py\n",
            "spark-3.2.3-bin-hadoop3.2/examples/src/main/python/mllib/random_forest_classification_example.py\n",
            "spark-3.2.3-bin-hadoop3.2/examples/src/main/python/mllib/random_forest_regression_example.py\n",
            "spark-3.2.3-bin-hadoop3.2/examples/src/main/python/mllib/random_rdd_generation.py\n",
            "spark-3.2.3-bin-hadoop3.2/examples/src/main/python/mllib/ranking_metrics_example.py\n",
            "spark-3.2.3-bin-hadoop3.2/examples/src/main/python/mllib/recommendation_example.py\n",
            "spark-3.2.3-bin-hadoop3.2/examples/src/main/python/mllib/regression_metrics_example.py\n",
            "spark-3.2.3-bin-hadoop3.2/examples/src/main/python/mllib/sampled_rdds.py\n",
            "spark-3.2.3-bin-hadoop3.2/examples/src/main/python/mllib/standard_scaler_example.py\n",
            "spark-3.2.3-bin-hadoop3.2/examples/src/main/python/mllib/stratified_sampling_example.py\n",
            "spark-3.2.3-bin-hadoop3.2/examples/src/main/python/mllib/streaming_k_means_example.py\n",
            "spark-3.2.3-bin-hadoop3.2/examples/src/main/python/mllib/streaming_linear_regression_example.py\n",
            "spark-3.2.3-bin-hadoop3.2/examples/src/main/python/mllib/summary_statistics_example.py\n",
            "spark-3.2.3-bin-hadoop3.2/examples/src/main/python/mllib/svd_example.py\n",
            "spark-3.2.3-bin-hadoop3.2/examples/src/main/python/mllib/svm_with_sgd_example.py\n",
            "spark-3.2.3-bin-hadoop3.2/examples/src/main/python/mllib/tf_idf_example.py\n",
            "spark-3.2.3-bin-hadoop3.2/examples/src/main/python/mllib/word2vec.py\n",
            "spark-3.2.3-bin-hadoop3.2/examples/src/main/python/mllib/word2vec_example.py\n",
            "spark-3.2.3-bin-hadoop3.2/examples/src/main/python/pagerank.py\n",
            "spark-3.2.3-bin-hadoop3.2/examples/src/main/python/parquet_inputformat.py\n",
            "spark-3.2.3-bin-hadoop3.2/examples/src/main/python/pi.py\n",
            "spark-3.2.3-bin-hadoop3.2/examples/src/main/python/sort.py\n",
            "spark-3.2.3-bin-hadoop3.2/examples/src/main/python/sql/\n",
            "spark-3.2.3-bin-hadoop3.2/examples/src/main/python/sql/arrow.py\n",
            "spark-3.2.3-bin-hadoop3.2/examples/src/main/python/sql/basic.py\n",
            "spark-3.2.3-bin-hadoop3.2/examples/src/main/python/sql/datasource.py\n",
            "spark-3.2.3-bin-hadoop3.2/examples/src/main/python/sql/hive.py\n",
            "spark-3.2.3-bin-hadoop3.2/examples/src/main/python/sql/streaming/\n",
            "spark-3.2.3-bin-hadoop3.2/examples/src/main/python/sql/streaming/structured_kafka_wordcount.py\n",
            "spark-3.2.3-bin-hadoop3.2/examples/src/main/python/sql/streaming/structured_network_wordcount.py\n",
            "spark-3.2.3-bin-hadoop3.2/examples/src/main/python/sql/streaming/structured_network_wordcount_windowed.py\n",
            "spark-3.2.3-bin-hadoop3.2/examples/src/main/python/sql/streaming/structured_sessionization.py\n",
            "spark-3.2.3-bin-hadoop3.2/examples/src/main/python/status_api_demo.py\n",
            "spark-3.2.3-bin-hadoop3.2/examples/src/main/python/streaming/\n",
            "spark-3.2.3-bin-hadoop3.2/examples/src/main/python/streaming/hdfs_wordcount.py\n",
            "spark-3.2.3-bin-hadoop3.2/examples/src/main/python/streaming/network_wordcount.py\n",
            "spark-3.2.3-bin-hadoop3.2/examples/src/main/python/streaming/network_wordjoinsentiments.py\n",
            "spark-3.2.3-bin-hadoop3.2/examples/src/main/python/streaming/queue_stream.py\n",
            "spark-3.2.3-bin-hadoop3.2/examples/src/main/python/streaming/recoverable_network_wordcount.py\n",
            "spark-3.2.3-bin-hadoop3.2/examples/src/main/python/streaming/sql_network_wordcount.py\n",
            "spark-3.2.3-bin-hadoop3.2/examples/src/main/python/streaming/stateful_network_wordcount.py\n",
            "spark-3.2.3-bin-hadoop3.2/examples/src/main/python/transitive_closure.py\n",
            "spark-3.2.3-bin-hadoop3.2/examples/src/main/python/wordcount.py\n",
            "spark-3.2.3-bin-hadoop3.2/examples/src/main/r/\n",
            "spark-3.2.3-bin-hadoop3.2/examples/src/main/r/RSparkSQLExample.R\n",
            "spark-3.2.3-bin-hadoop3.2/examples/src/main/r/data-manipulation.R\n",
            "spark-3.2.3-bin-hadoop3.2/examples/src/main/r/dataframe.R\n",
            "spark-3.2.3-bin-hadoop3.2/examples/src/main/r/ml/\n",
            "spark-3.2.3-bin-hadoop3.2/examples/src/main/r/ml/als.R\n",
            "spark-3.2.3-bin-hadoop3.2/examples/src/main/r/ml/bisectingKmeans.R\n",
            "spark-3.2.3-bin-hadoop3.2/examples/src/main/r/ml/decisionTree.R\n",
            "spark-3.2.3-bin-hadoop3.2/examples/src/main/r/ml/fmClassifier.R\n",
            "spark-3.2.3-bin-hadoop3.2/examples/src/main/r/ml/fmRegressor.R\n",
            "spark-3.2.3-bin-hadoop3.2/examples/src/main/r/ml/fpm.R\n",
            "spark-3.2.3-bin-hadoop3.2/examples/src/main/r/ml/gaussianMixture.R\n",
            "spark-3.2.3-bin-hadoop3.2/examples/src/main/r/ml/gbt.R\n",
            "spark-3.2.3-bin-hadoop3.2/examples/src/main/r/ml/glm.R\n",
            "spark-3.2.3-bin-hadoop3.2/examples/src/main/r/ml/isoreg.R\n",
            "spark-3.2.3-bin-hadoop3.2/examples/src/main/r/ml/kmeans.R\n",
            "spark-3.2.3-bin-hadoop3.2/examples/src/main/r/ml/kstest.R\n",
            "spark-3.2.3-bin-hadoop3.2/examples/src/main/r/ml/lda.R\n",
            "spark-3.2.3-bin-hadoop3.2/examples/src/main/r/ml/lm_with_elastic_net.R\n",
            "spark-3.2.3-bin-hadoop3.2/examples/src/main/r/ml/logit.R\n",
            "spark-3.2.3-bin-hadoop3.2/examples/src/main/r/ml/ml.R\n",
            "spark-3.2.3-bin-hadoop3.2/examples/src/main/r/ml/mlp.R\n",
            "spark-3.2.3-bin-hadoop3.2/examples/src/main/r/ml/naiveBayes.R\n",
            "spark-3.2.3-bin-hadoop3.2/examples/src/main/r/ml/powerIterationClustering.R\n",
            "spark-3.2.3-bin-hadoop3.2/examples/src/main/r/ml/prefixSpan.R\n",
            "spark-3.2.3-bin-hadoop3.2/examples/src/main/r/ml/randomForest.R\n",
            "spark-3.2.3-bin-hadoop3.2/examples/src/main/r/ml/survreg.R\n",
            "spark-3.2.3-bin-hadoop3.2/examples/src/main/r/ml/svmLinear.R\n",
            "spark-3.2.3-bin-hadoop3.2/examples/src/main/r/streaming/\n",
            "spark-3.2.3-bin-hadoop3.2/examples/src/main/r/streaming/structured_network_wordcount.R\n",
            "spark-3.2.3-bin-hadoop3.2/examples/src/main/resources/\n",
            "spark-3.2.3-bin-hadoop3.2/examples/src/main/resources/META-INF/\n",
            "spark-3.2.3-bin-hadoop3.2/examples/src/main/resources/META-INF/services/\n",
            "spark-3.2.3-bin-hadoop3.2/examples/src/main/resources/META-INF/services/org.apache.spark.sql.SparkSessionExtensionsProvider\n",
            "spark-3.2.3-bin-hadoop3.2/examples/src/main/resources/META-INF/services/org.apache.spark.sql.jdbc.JdbcConnectionProvider\n",
            "spark-3.2.3-bin-hadoop3.2/examples/src/main/resources/dir1/\n",
            "spark-3.2.3-bin-hadoop3.2/examples/src/main/resources/dir1/dir2/\n",
            "spark-3.2.3-bin-hadoop3.2/examples/src/main/resources/dir1/dir2/file2.parquet\n",
            "spark-3.2.3-bin-hadoop3.2/examples/src/main/resources/dir1/file1.parquet\n",
            "spark-3.2.3-bin-hadoop3.2/examples/src/main/resources/dir1/file3.json\n",
            "spark-3.2.3-bin-hadoop3.2/examples/src/main/resources/employees.json\n",
            "spark-3.2.3-bin-hadoop3.2/examples/src/main/resources/full_user.avsc\n",
            "spark-3.2.3-bin-hadoop3.2/examples/src/main/resources/kv1.txt\n",
            "spark-3.2.3-bin-hadoop3.2/examples/src/main/resources/people.csv\n",
            "spark-3.2.3-bin-hadoop3.2/examples/src/main/resources/people.json\n",
            "spark-3.2.3-bin-hadoop3.2/examples/src/main/resources/people.txt\n",
            "spark-3.2.3-bin-hadoop3.2/examples/src/main/resources/user.avsc\n",
            "spark-3.2.3-bin-hadoop3.2/examples/src/main/resources/users.avro\n",
            "spark-3.2.3-bin-hadoop3.2/examples/src/main/resources/users.orc\n",
            "spark-3.2.3-bin-hadoop3.2/examples/src/main/resources/users.parquet\n",
            "spark-3.2.3-bin-hadoop3.2/examples/src/main/scala/\n",
            "spark-3.2.3-bin-hadoop3.2/examples/src/main/scala/org/\n",
            "spark-3.2.3-bin-hadoop3.2/examples/src/main/scala/org/apache/\n",
            "spark-3.2.3-bin-hadoop3.2/examples/src/main/scala/org/apache/spark/\n",
            "spark-3.2.3-bin-hadoop3.2/examples/src/main/scala/org/apache/spark/examples/\n",
            "spark-3.2.3-bin-hadoop3.2/examples/src/main/scala/org/apache/spark/examples/AccumulatorMetricsTest.scala\n",
            "spark-3.2.3-bin-hadoop3.2/examples/src/main/scala/org/apache/spark/examples/BroadcastTest.scala\n",
            "spark-3.2.3-bin-hadoop3.2/examples/src/main/scala/org/apache/spark/examples/DFSReadWriteTest.scala\n",
            "spark-3.2.3-bin-hadoop3.2/examples/src/main/scala/org/apache/spark/examples/DriverSubmissionTest.scala\n",
            "spark-3.2.3-bin-hadoop3.2/examples/src/main/scala/org/apache/spark/examples/ExceptionHandlingTest.scala\n",
            "spark-3.2.3-bin-hadoop3.2/examples/src/main/scala/org/apache/spark/examples/GroupByTest.scala\n",
            "spark-3.2.3-bin-hadoop3.2/examples/src/main/scala/org/apache/spark/examples/HdfsTest.scala\n",
            "spark-3.2.3-bin-hadoop3.2/examples/src/main/scala/org/apache/spark/examples/LocalALS.scala\n",
            "spark-3.2.3-bin-hadoop3.2/examples/src/main/scala/org/apache/spark/examples/LocalFileLR.scala\n",
            "spark-3.2.3-bin-hadoop3.2/examples/src/main/scala/org/apache/spark/examples/LocalKMeans.scala\n",
            "spark-3.2.3-bin-hadoop3.2/examples/src/main/scala/org/apache/spark/examples/LocalLR.scala\n",
            "spark-3.2.3-bin-hadoop3.2/examples/src/main/scala/org/apache/spark/examples/LocalPi.scala\n",
            "spark-3.2.3-bin-hadoop3.2/examples/src/main/scala/org/apache/spark/examples/LogQuery.scala\n",
            "spark-3.2.3-bin-hadoop3.2/examples/src/main/scala/org/apache/spark/examples/MultiBroadcastTest.scala\n",
            "spark-3.2.3-bin-hadoop3.2/examples/src/main/scala/org/apache/spark/examples/SimpleSkewedGroupByTest.scala\n",
            "spark-3.2.3-bin-hadoop3.2/examples/src/main/scala/org/apache/spark/examples/SkewedGroupByTest.scala\n",
            "spark-3.2.3-bin-hadoop3.2/examples/src/main/scala/org/apache/spark/examples/SparkALS.scala\n",
            "spark-3.2.3-bin-hadoop3.2/examples/src/main/scala/org/apache/spark/examples/SparkHdfsLR.scala\n",
            "spark-3.2.3-bin-hadoop3.2/examples/src/main/scala/org/apache/spark/examples/SparkKMeans.scala\n",
            "spark-3.2.3-bin-hadoop3.2/examples/src/main/scala/org/apache/spark/examples/SparkLR.scala\n",
            "spark-3.2.3-bin-hadoop3.2/examples/src/main/scala/org/apache/spark/examples/SparkPageRank.scala\n",
            "spark-3.2.3-bin-hadoop3.2/examples/src/main/scala/org/apache/spark/examples/SparkPi.scala\n",
            "spark-3.2.3-bin-hadoop3.2/examples/src/main/scala/org/apache/spark/examples/SparkRemoteFileTest.scala\n",
            "spark-3.2.3-bin-hadoop3.2/examples/src/main/scala/org/apache/spark/examples/SparkTC.scala\n",
            "spark-3.2.3-bin-hadoop3.2/examples/src/main/scala/org/apache/spark/examples/extensions/\n",
            "spark-3.2.3-bin-hadoop3.2/examples/src/main/scala/org/apache/spark/examples/extensions/AgeExample.scala\n",
            "spark-3.2.3-bin-hadoop3.2/examples/src/main/scala/org/apache/spark/examples/extensions/SessionExtensionsWithLoader.scala\n",
            "spark-3.2.3-bin-hadoop3.2/examples/src/main/scala/org/apache/spark/examples/extensions/SessionExtensionsWithoutLoader.scala\n",
            "spark-3.2.3-bin-hadoop3.2/examples/src/main/scala/org/apache/spark/examples/extensions/SparkSessionExtensionsTest.scala\n",
            "spark-3.2.3-bin-hadoop3.2/examples/src/main/scala/org/apache/spark/examples/graphx/\n",
            "spark-3.2.3-bin-hadoop3.2/examples/src/main/scala/org/apache/spark/examples/graphx/AggregateMessagesExample.scala\n",
            "spark-3.2.3-bin-hadoop3.2/examples/src/main/scala/org/apache/spark/examples/graphx/Analytics.scala\n",
            "spark-3.2.3-bin-hadoop3.2/examples/src/main/scala/org/apache/spark/examples/graphx/ComprehensiveExample.scala\n",
            "spark-3.2.3-bin-hadoop3.2/examples/src/main/scala/org/apache/spark/examples/graphx/ConnectedComponentsExample.scala\n",
            "spark-3.2.3-bin-hadoop3.2/examples/src/main/scala/org/apache/spark/examples/graphx/LiveJournalPageRank.scala\n",
            "spark-3.2.3-bin-hadoop3.2/examples/src/main/scala/org/apache/spark/examples/graphx/PageRankExample.scala\n",
            "spark-3.2.3-bin-hadoop3.2/examples/src/main/scala/org/apache/spark/examples/graphx/SSSPExample.scala\n",
            "spark-3.2.3-bin-hadoop3.2/examples/src/main/scala/org/apache/spark/examples/graphx/SynthBenchmark.scala\n",
            "spark-3.2.3-bin-hadoop3.2/examples/src/main/scala/org/apache/spark/examples/graphx/TriangleCountingExample.scala\n",
            "spark-3.2.3-bin-hadoop3.2/examples/src/main/scala/org/apache/spark/examples/ml/\n",
            "spark-3.2.3-bin-hadoop3.2/examples/src/main/scala/org/apache/spark/examples/ml/AFTSurvivalRegressionExample.scala\n",
            "spark-3.2.3-bin-hadoop3.2/examples/src/main/scala/org/apache/spark/examples/ml/ALSExample.scala\n",
            "spark-3.2.3-bin-hadoop3.2/examples/src/main/scala/org/apache/spark/examples/ml/BinarizerExample.scala\n",
            "spark-3.2.3-bin-hadoop3.2/examples/src/main/scala/org/apache/spark/examples/ml/BisectingKMeansExample.scala\n",
            "spark-3.2.3-bin-hadoop3.2/examples/src/main/scala/org/apache/spark/examples/ml/BucketedRandomProjectionLSHExample.scala\n",
            "spark-3.2.3-bin-hadoop3.2/examples/src/main/scala/org/apache/spark/examples/ml/BucketizerExample.scala\n",
            "spark-3.2.3-bin-hadoop3.2/examples/src/main/scala/org/apache/spark/examples/ml/ChiSqSelectorExample.scala\n",
            "spark-3.2.3-bin-hadoop3.2/examples/src/main/scala/org/apache/spark/examples/ml/ChiSquareTestExample.scala\n",
            "spark-3.2.3-bin-hadoop3.2/examples/src/main/scala/org/apache/spark/examples/ml/CorrelationExample.scala\n",
            "spark-3.2.3-bin-hadoop3.2/examples/src/main/scala/org/apache/spark/examples/ml/CountVectorizerExample.scala\n",
            "spark-3.2.3-bin-hadoop3.2/examples/src/main/scala/org/apache/spark/examples/ml/DCTExample.scala\n",
            "spark-3.2.3-bin-hadoop3.2/examples/src/main/scala/org/apache/spark/examples/ml/DataFrameExample.scala\n",
            "spark-3.2.3-bin-hadoop3.2/examples/src/main/scala/org/apache/spark/examples/ml/DecisionTreeClassificationExample.scala\n",
            "spark-3.2.3-bin-hadoop3.2/examples/src/main/scala/org/apache/spark/examples/ml/DecisionTreeExample.scala\n",
            "spark-3.2.3-bin-hadoop3.2/examples/src/main/scala/org/apache/spark/examples/ml/DecisionTreeRegressionExample.scala\n",
            "spark-3.2.3-bin-hadoop3.2/examples/src/main/scala/org/apache/spark/examples/ml/DeveloperApiExample.scala\n",
            "spark-3.2.3-bin-hadoop3.2/examples/src/main/scala/org/apache/spark/examples/ml/ElementwiseProductExample.scala\n",
            "spark-3.2.3-bin-hadoop3.2/examples/src/main/scala/org/apache/spark/examples/ml/EstimatorTransformerParamExample.scala\n",
            "spark-3.2.3-bin-hadoop3.2/examples/src/main/scala/org/apache/spark/examples/ml/FMClassifierExample.scala\n",
            "spark-3.2.3-bin-hadoop3.2/examples/src/main/scala/org/apache/spark/examples/ml/FMRegressorExample.scala\n",
            "spark-3.2.3-bin-hadoop3.2/examples/src/main/scala/org/apache/spark/examples/ml/FPGrowthExample.scala\n",
            "spark-3.2.3-bin-hadoop3.2/examples/src/main/scala/org/apache/spark/examples/ml/FeatureHasherExample.scala\n",
            "spark-3.2.3-bin-hadoop3.2/examples/src/main/scala/org/apache/spark/examples/ml/GBTExample.scala\n",
            "spark-3.2.3-bin-hadoop3.2/examples/src/main/scala/org/apache/spark/examples/ml/GaussianMixtureExample.scala\n",
            "spark-3.2.3-bin-hadoop3.2/examples/src/main/scala/org/apache/spark/examples/ml/GeneralizedLinearRegressionExample.scala\n",
            "spark-3.2.3-bin-hadoop3.2/examples/src/main/scala/org/apache/spark/examples/ml/GradientBoostedTreeClassifierExample.scala\n",
            "spark-3.2.3-bin-hadoop3.2/examples/src/main/scala/org/apache/spark/examples/ml/GradientBoostedTreeRegressorExample.scala\n",
            "spark-3.2.3-bin-hadoop3.2/examples/src/main/scala/org/apache/spark/examples/ml/ImputerExample.scala\n",
            "spark-3.2.3-bin-hadoop3.2/examples/src/main/scala/org/apache/spark/examples/ml/IndexToStringExample.scala\n",
            "spark-3.2.3-bin-hadoop3.2/examples/src/main/scala/org/apache/spark/examples/ml/InteractionExample.scala\n",
            "spark-3.2.3-bin-hadoop3.2/examples/src/main/scala/org/apache/spark/examples/ml/IsotonicRegressionExample.scala\n",
            "spark-3.2.3-bin-hadoop3.2/examples/src/main/scala/org/apache/spark/examples/ml/KMeansExample.scala\n",
            "spark-3.2.3-bin-hadoop3.2/examples/src/main/scala/org/apache/spark/examples/ml/LDAExample.scala\n",
            "spark-3.2.3-bin-hadoop3.2/examples/src/main/scala/org/apache/spark/examples/ml/LinearRegressionExample.scala\n",
            "spark-3.2.3-bin-hadoop3.2/examples/src/main/scala/org/apache/spark/examples/ml/LinearRegressionWithElasticNetExample.scala\n",
            "spark-3.2.3-bin-hadoop3.2/examples/src/main/scala/org/apache/spark/examples/ml/LinearSVCExample.scala\n",
            "spark-3.2.3-bin-hadoop3.2/examples/src/main/scala/org/apache/spark/examples/ml/LogisticRegressionExample.scala\n",
            "spark-3.2.3-bin-hadoop3.2/examples/src/main/scala/org/apache/spark/examples/ml/LogisticRegressionSummaryExample.scala\n",
            "spark-3.2.3-bin-hadoop3.2/examples/src/main/scala/org/apache/spark/examples/ml/LogisticRegressionWithElasticNetExample.scala\n",
            "spark-3.2.3-bin-hadoop3.2/examples/src/main/scala/org/apache/spark/examples/ml/MaxAbsScalerExample.scala\n",
            "spark-3.2.3-bin-hadoop3.2/examples/src/main/scala/org/apache/spark/examples/ml/MinHashLSHExample.scala\n",
            "spark-3.2.3-bin-hadoop3.2/examples/src/main/scala/org/apache/spark/examples/ml/MinMaxScalerExample.scala\n",
            "spark-3.2.3-bin-hadoop3.2/examples/src/main/scala/org/apache/spark/examples/ml/ModelSelectionViaCrossValidationExample.scala\n",
            "spark-3.2.3-bin-hadoop3.2/examples/src/main/scala/org/apache/spark/examples/ml/ModelSelectionViaTrainValidationSplitExample.scala\n",
            "spark-3.2.3-bin-hadoop3.2/examples/src/main/scala/org/apache/spark/examples/ml/MulticlassLogisticRegressionWithElasticNetExample.scala\n",
            "spark-3.2.3-bin-hadoop3.2/examples/src/main/scala/org/apache/spark/examples/ml/MultilayerPerceptronClassifierExample.scala\n",
            "spark-3.2.3-bin-hadoop3.2/examples/src/main/scala/org/apache/spark/examples/ml/NGramExample.scala\n",
            "spark-3.2.3-bin-hadoop3.2/examples/src/main/scala/org/apache/spark/examples/ml/NaiveBayesExample.scala\n",
            "spark-3.2.3-bin-hadoop3.2/examples/src/main/scala/org/apache/spark/examples/ml/NormalizerExample.scala\n",
            "spark-3.2.3-bin-hadoop3.2/examples/src/main/scala/org/apache/spark/examples/ml/OneHotEncoderExample.scala\n",
            "spark-3.2.3-bin-hadoop3.2/examples/src/main/scala/org/apache/spark/examples/ml/OneVsRestExample.scala\n",
            "spark-3.2.3-bin-hadoop3.2/examples/src/main/scala/org/apache/spark/examples/ml/PCAExample.scala\n",
            "spark-3.2.3-bin-hadoop3.2/examples/src/main/scala/org/apache/spark/examples/ml/PipelineExample.scala\n",
            "spark-3.2.3-bin-hadoop3.2/examples/src/main/scala/org/apache/spark/examples/ml/PolynomialExpansionExample.scala\n",
            "spark-3.2.3-bin-hadoop3.2/examples/src/main/scala/org/apache/spark/examples/ml/PowerIterationClusteringExample.scala\n",
            "spark-3.2.3-bin-hadoop3.2/examples/src/main/scala/org/apache/spark/examples/ml/PrefixSpanExample.scala\n",
            "spark-3.2.3-bin-hadoop3.2/examples/src/main/scala/org/apache/spark/examples/ml/QuantileDiscretizerExample.scala\n",
            "spark-3.2.3-bin-hadoop3.2/examples/src/main/scala/org/apache/spark/examples/ml/RFormulaExample.scala\n",
            "spark-3.2.3-bin-hadoop3.2/examples/src/main/scala/org/apache/spark/examples/ml/RandomForestClassifierExample.scala\n",
            "spark-3.2.3-bin-hadoop3.2/examples/src/main/scala/org/apache/spark/examples/ml/RandomForestExample.scala\n",
            "spark-3.2.3-bin-hadoop3.2/examples/src/main/scala/org/apache/spark/examples/ml/RandomForestRegressorExample.scala\n",
            "spark-3.2.3-bin-hadoop3.2/examples/src/main/scala/org/apache/spark/examples/ml/RobustScalerExample.scala\n",
            "spark-3.2.3-bin-hadoop3.2/examples/src/main/scala/org/apache/spark/examples/ml/SQLTransformerExample.scala\n",
            "spark-3.2.3-bin-hadoop3.2/examples/src/main/scala/org/apache/spark/examples/ml/StandardScalerExample.scala\n",
            "spark-3.2.3-bin-hadoop3.2/examples/src/main/scala/org/apache/spark/examples/ml/StopWordsRemoverExample.scala\n",
            "spark-3.2.3-bin-hadoop3.2/examples/src/main/scala/org/apache/spark/examples/ml/StringIndexerExample.scala\n",
            "spark-3.2.3-bin-hadoop3.2/examples/src/main/scala/org/apache/spark/examples/ml/SummarizerExample.scala\n",
            "spark-3.2.3-bin-hadoop3.2/examples/src/main/scala/org/apache/spark/examples/ml/TfIdfExample.scala\n",
            "spark-3.2.3-bin-hadoop3.2/examples/src/main/scala/org/apache/spark/examples/ml/TokenizerExample.scala\n",
            "spark-3.2.3-bin-hadoop3.2/examples/src/main/scala/org/apache/spark/examples/ml/UnaryTransformerExample.scala\n",
            "spark-3.2.3-bin-hadoop3.2/examples/src/main/scala/org/apache/spark/examples/ml/UnivariateFeatureSelectorExample.scala\n",
            "spark-3.2.3-bin-hadoop3.2/examples/src/main/scala/org/apache/spark/examples/ml/VarianceThresholdSelectorExample.scala\n",
            "spark-3.2.3-bin-hadoop3.2/examples/src/main/scala/org/apache/spark/examples/ml/VectorAssemblerExample.scala\n",
            "spark-3.2.3-bin-hadoop3.2/examples/src/main/scala/org/apache/spark/examples/ml/VectorIndexerExample.scala\n",
            "spark-3.2.3-bin-hadoop3.2/examples/src/main/scala/org/apache/spark/examples/ml/VectorSizeHintExample.scala\n",
            "spark-3.2.3-bin-hadoop3.2/examples/src/main/scala/org/apache/spark/examples/ml/VectorSlicerExample.scala\n",
            "spark-3.2.3-bin-hadoop3.2/examples/src/main/scala/org/apache/spark/examples/ml/Word2VecExample.scala\n",
            "spark-3.2.3-bin-hadoop3.2/examples/src/main/scala/org/apache/spark/examples/mllib/\n",
            "spark-3.2.3-bin-hadoop3.2/examples/src/main/scala/org/apache/spark/examples/mllib/AbstractParams.scala\n",
            "spark-3.2.3-bin-hadoop3.2/examples/src/main/scala/org/apache/spark/examples/mllib/AssociationRulesExample.scala\n",
            "spark-3.2.3-bin-hadoop3.2/examples/src/main/scala/org/apache/spark/examples/mllib/BinaryClassification.scala\n",
            "spark-3.2.3-bin-hadoop3.2/examples/src/main/scala/org/apache/spark/examples/mllib/BinaryClassificationMetricsExample.scala\n",
            "spark-3.2.3-bin-hadoop3.2/examples/src/main/scala/org/apache/spark/examples/mllib/BisectingKMeansExample.scala\n",
            "spark-3.2.3-bin-hadoop3.2/examples/src/main/scala/org/apache/spark/examples/mllib/ChiSqSelectorExample.scala\n",
            "spark-3.2.3-bin-hadoop3.2/examples/src/main/scala/org/apache/spark/examples/mllib/Correlations.scala\n",
            "spark-3.2.3-bin-hadoop3.2/examples/src/main/scala/org/apache/spark/examples/mllib/CorrelationsExample.scala\n",
            "spark-3.2.3-bin-hadoop3.2/examples/src/main/scala/org/apache/spark/examples/mllib/CosineSimilarity.scala\n",
            "spark-3.2.3-bin-hadoop3.2/examples/src/main/scala/org/apache/spark/examples/mllib/DecisionTreeClassificationExample.scala\n",
            "spark-3.2.3-bin-hadoop3.2/examples/src/main/scala/org/apache/spark/examples/mllib/DecisionTreeRegressionExample.scala\n",
            "spark-3.2.3-bin-hadoop3.2/examples/src/main/scala/org/apache/spark/examples/mllib/DecisionTreeRunner.scala\n",
            "spark-3.2.3-bin-hadoop3.2/examples/src/main/scala/org/apache/spark/examples/mllib/DenseKMeans.scala\n",
            "spark-3.2.3-bin-hadoop3.2/examples/src/main/scala/org/apache/spark/examples/mllib/ElementwiseProductExample.scala\n",
            "spark-3.2.3-bin-hadoop3.2/examples/src/main/scala/org/apache/spark/examples/mllib/FPGrowthExample.scala\n",
            "spark-3.2.3-bin-hadoop3.2/examples/src/main/scala/org/apache/spark/examples/mllib/GaussianMixtureExample.scala\n",
            "spark-3.2.3-bin-hadoop3.2/examples/src/main/scala/org/apache/spark/examples/mllib/GradientBoostedTreesRunner.scala\n",
            "spark-3.2.3-bin-hadoop3.2/examples/src/main/scala/org/apache/spark/examples/mllib/GradientBoostingClassificationExample.scala\n",
            "spark-3.2.3-bin-hadoop3.2/examples/src/main/scala/org/apache/spark/examples/mllib/GradientBoostingRegressionExample.scala\n",
            "spark-3.2.3-bin-hadoop3.2/examples/src/main/scala/org/apache/spark/examples/mllib/HypothesisTestingExample.scala\n",
            "spark-3.2.3-bin-hadoop3.2/examples/src/main/scala/org/apache/spark/examples/mllib/HypothesisTestingKolmogorovSmirnovTestExample.scala\n",
            "spark-3.2.3-bin-hadoop3.2/examples/src/main/scala/org/apache/spark/examples/mllib/IsotonicRegressionExample.scala\n",
            "spark-3.2.3-bin-hadoop3.2/examples/src/main/scala/org/apache/spark/examples/mllib/KMeansExample.scala\n",
            "spark-3.2.3-bin-hadoop3.2/examples/src/main/scala/org/apache/spark/examples/mllib/KernelDensityEstimationExample.scala\n",
            "spark-3.2.3-bin-hadoop3.2/examples/src/main/scala/org/apache/spark/examples/mllib/LBFGSExample.scala\n",
            "spark-3.2.3-bin-hadoop3.2/examples/src/main/scala/org/apache/spark/examples/mllib/LDAExample.scala\n",
            "spark-3.2.3-bin-hadoop3.2/examples/src/main/scala/org/apache/spark/examples/mllib/LatentDirichletAllocationExample.scala\n",
            "spark-3.2.3-bin-hadoop3.2/examples/src/main/scala/org/apache/spark/examples/mllib/LogisticRegressionWithLBFGSExample.scala\n",
            "spark-3.2.3-bin-hadoop3.2/examples/src/main/scala/org/apache/spark/examples/mllib/MovieLensALS.scala\n",
            "spark-3.2.3-bin-hadoop3.2/examples/src/main/scala/org/apache/spark/examples/mllib/MultiLabelMetricsExample.scala\n",
            "spark-3.2.3-bin-hadoop3.2/examples/src/main/scala/org/apache/spark/examples/mllib/MulticlassMetricsExample.scala\n",
            "spark-3.2.3-bin-hadoop3.2/examples/src/main/scala/org/apache/spark/examples/mllib/MultivariateSummarizer.scala\n",
            "spark-3.2.3-bin-hadoop3.2/examples/src/main/scala/org/apache/spark/examples/mllib/NaiveBayesExample.scala\n",
            "spark-3.2.3-bin-hadoop3.2/examples/src/main/scala/org/apache/spark/examples/mllib/NormalizerExample.scala\n",
            "spark-3.2.3-bin-hadoop3.2/examples/src/main/scala/org/apache/spark/examples/mllib/PCAOnRowMatrixExample.scala\n",
            "spark-3.2.3-bin-hadoop3.2/examples/src/main/scala/org/apache/spark/examples/mllib/PCAOnSourceVectorExample.scala\n",
            "spark-3.2.3-bin-hadoop3.2/examples/src/main/scala/org/apache/spark/examples/mllib/PMMLModelExportExample.scala\n",
            "spark-3.2.3-bin-hadoop3.2/examples/src/main/scala/org/apache/spark/examples/mllib/PowerIterationClusteringExample.scala\n",
            "spark-3.2.3-bin-hadoop3.2/examples/src/main/scala/org/apache/spark/examples/mllib/PrefixSpanExample.scala\n",
            "spark-3.2.3-bin-hadoop3.2/examples/src/main/scala/org/apache/spark/examples/mllib/RandomForestClassificationExample.scala\n",
            "spark-3.2.3-bin-hadoop3.2/examples/src/main/scala/org/apache/spark/examples/mllib/RandomForestRegressionExample.scala\n",
            "spark-3.2.3-bin-hadoop3.2/examples/src/main/scala/org/apache/spark/examples/mllib/RandomRDDGeneration.scala\n",
            "spark-3.2.3-bin-hadoop3.2/examples/src/main/scala/org/apache/spark/examples/mllib/RankingMetricsExample.scala\n",
            "spark-3.2.3-bin-hadoop3.2/examples/src/main/scala/org/apache/spark/examples/mllib/RecommendationExample.scala\n",
            "spark-3.2.3-bin-hadoop3.2/examples/src/main/scala/org/apache/spark/examples/mllib/SVDExample.scala\n",
            "spark-3.2.3-bin-hadoop3.2/examples/src/main/scala/org/apache/spark/examples/mllib/SVMWithSGDExample.scala\n",
            "spark-3.2.3-bin-hadoop3.2/examples/src/main/scala/org/apache/spark/examples/mllib/SampledRDDs.scala\n",
            "spark-3.2.3-bin-hadoop3.2/examples/src/main/scala/org/apache/spark/examples/mllib/SimpleFPGrowth.scala\n",
            "spark-3.2.3-bin-hadoop3.2/examples/src/main/scala/org/apache/spark/examples/mllib/SparseNaiveBayes.scala\n",
            "spark-3.2.3-bin-hadoop3.2/examples/src/main/scala/org/apache/spark/examples/mllib/StandardScalerExample.scala\n",
            "spark-3.2.3-bin-hadoop3.2/examples/src/main/scala/org/apache/spark/examples/mllib/StratifiedSamplingExample.scala\n",
            "spark-3.2.3-bin-hadoop3.2/examples/src/main/scala/org/apache/spark/examples/mllib/StreamingKMeansExample.scala\n",
            "spark-3.2.3-bin-hadoop3.2/examples/src/main/scala/org/apache/spark/examples/mllib/StreamingLinearRegressionExample.scala\n",
            "spark-3.2.3-bin-hadoop3.2/examples/src/main/scala/org/apache/spark/examples/mllib/StreamingLogisticRegression.scala\n",
            "spark-3.2.3-bin-hadoop3.2/examples/src/main/scala/org/apache/spark/examples/mllib/StreamingTestExample.scala\n",
            "spark-3.2.3-bin-hadoop3.2/examples/src/main/scala/org/apache/spark/examples/mllib/SummaryStatisticsExample.scala\n",
            "spark-3.2.3-bin-hadoop3.2/examples/src/main/scala/org/apache/spark/examples/mllib/TFIDFExample.scala\n",
            "spark-3.2.3-bin-hadoop3.2/examples/src/main/scala/org/apache/spark/examples/mllib/TallSkinnyPCA.scala\n",
            "spark-3.2.3-bin-hadoop3.2/examples/src/main/scala/org/apache/spark/examples/mllib/TallSkinnySVD.scala\n",
            "spark-3.2.3-bin-hadoop3.2/examples/src/main/scala/org/apache/spark/examples/mllib/Word2VecExample.scala\n",
            "spark-3.2.3-bin-hadoop3.2/examples/src/main/scala/org/apache/spark/examples/pythonconverters/\n",
            "spark-3.2.3-bin-hadoop3.2/examples/src/main/scala/org/apache/spark/examples/pythonconverters/AvroConverters.scala\n",
            "spark-3.2.3-bin-hadoop3.2/examples/src/main/scala/org/apache/spark/examples/sql/\n",
            "spark-3.2.3-bin-hadoop3.2/examples/src/main/scala/org/apache/spark/examples/sql/RDDRelation.scala\n",
            "spark-3.2.3-bin-hadoop3.2/examples/src/main/scala/org/apache/spark/examples/sql/SQLDataSourceExample.scala\n",
            "spark-3.2.3-bin-hadoop3.2/examples/src/main/scala/org/apache/spark/examples/sql/SimpleTypedAggregator.scala\n",
            "spark-3.2.3-bin-hadoop3.2/examples/src/main/scala/org/apache/spark/examples/sql/SparkSQLExample.scala\n",
            "spark-3.2.3-bin-hadoop3.2/examples/src/main/scala/org/apache/spark/examples/sql/UserDefinedScalar.scala\n",
            "spark-3.2.3-bin-hadoop3.2/examples/src/main/scala/org/apache/spark/examples/sql/UserDefinedTypedAggregation.scala\n",
            "spark-3.2.3-bin-hadoop3.2/examples/src/main/scala/org/apache/spark/examples/sql/UserDefinedUntypedAggregation.scala\n",
            "spark-3.2.3-bin-hadoop3.2/examples/src/main/scala/org/apache/spark/examples/sql/hive/\n",
            "spark-3.2.3-bin-hadoop3.2/examples/src/main/scala/org/apache/spark/examples/sql/hive/SparkHiveExample.scala\n",
            "spark-3.2.3-bin-hadoop3.2/examples/src/main/scala/org/apache/spark/examples/sql/jdbc/\n",
            "spark-3.2.3-bin-hadoop3.2/examples/src/main/scala/org/apache/spark/examples/sql/jdbc/ExampleJdbcConnectionProvider.scala\n",
            "spark-3.2.3-bin-hadoop3.2/examples/src/main/scala/org/apache/spark/examples/sql/streaming/\n",
            "spark-3.2.3-bin-hadoop3.2/examples/src/main/scala/org/apache/spark/examples/sql/streaming/StructuredComplexSessionization.scala\n",
            "spark-3.2.3-bin-hadoop3.2/examples/src/main/scala/org/apache/spark/examples/sql/streaming/StructuredKafkaWordCount.scala\n",
            "spark-3.2.3-bin-hadoop3.2/examples/src/main/scala/org/apache/spark/examples/sql/streaming/StructuredKerberizedKafkaWordCount.scala\n",
            "spark-3.2.3-bin-hadoop3.2/examples/src/main/scala/org/apache/spark/examples/sql/streaming/StructuredNetworkWordCount.scala\n",
            "spark-3.2.3-bin-hadoop3.2/examples/src/main/scala/org/apache/spark/examples/sql/streaming/StructuredNetworkWordCountWindowed.scala\n",
            "spark-3.2.3-bin-hadoop3.2/examples/src/main/scala/org/apache/spark/examples/sql/streaming/StructuredSessionization.scala\n",
            "spark-3.2.3-bin-hadoop3.2/examples/src/main/scala/org/apache/spark/examples/streaming/\n",
            "spark-3.2.3-bin-hadoop3.2/examples/src/main/scala/org/apache/spark/examples/streaming/CustomReceiver.scala\n",
            "spark-3.2.3-bin-hadoop3.2/examples/src/main/scala/org/apache/spark/examples/streaming/DirectKafkaWordCount.scala\n",
            "spark-3.2.3-bin-hadoop3.2/examples/src/main/scala/org/apache/spark/examples/streaming/DirectKerberizedKafkaWordCount.scala\n",
            "spark-3.2.3-bin-hadoop3.2/examples/src/main/scala/org/apache/spark/examples/streaming/HdfsWordCount.scala\n",
            "spark-3.2.3-bin-hadoop3.2/examples/src/main/scala/org/apache/spark/examples/streaming/NetworkWordCount.scala\n",
            "spark-3.2.3-bin-hadoop3.2/examples/src/main/scala/org/apache/spark/examples/streaming/QueueStream.scala\n",
            "spark-3.2.3-bin-hadoop3.2/examples/src/main/scala/org/apache/spark/examples/streaming/RawNetworkGrep.scala\n",
            "spark-3.2.3-bin-hadoop3.2/examples/src/main/scala/org/apache/spark/examples/streaming/RecoverableNetworkWordCount.scala\n",
            "spark-3.2.3-bin-hadoop3.2/examples/src/main/scala/org/apache/spark/examples/streaming/SqlNetworkWordCount.scala\n",
            "spark-3.2.3-bin-hadoop3.2/examples/src/main/scala/org/apache/spark/examples/streaming/StatefulNetworkWordCount.scala\n",
            "spark-3.2.3-bin-hadoop3.2/examples/src/main/scala/org/apache/spark/examples/streaming/StreamingExamples.scala\n",
            "spark-3.2.3-bin-hadoop3.2/examples/src/main/scala/org/apache/spark/examples/streaming/clickstream/\n",
            "spark-3.2.3-bin-hadoop3.2/examples/src/main/scala/org/apache/spark/examples/streaming/clickstream/PageViewGenerator.scala\n",
            "spark-3.2.3-bin-hadoop3.2/examples/src/main/scala/org/apache/spark/examples/streaming/clickstream/PageViewStream.scala\n",
            "spark-3.2.3-bin-hadoop3.2/examples/src/main/scripts/\n",
            "spark-3.2.3-bin-hadoop3.2/examples/src/main/scripts/getGpusResources.sh\n",
            "spark-3.2.3-bin-hadoop3.2/jars/\n",
            "spark-3.2.3-bin-hadoop3.2/jars/HikariCP-2.5.1.jar\n",
            "spark-3.2.3-bin-hadoop3.2/jars/JLargeArrays-1.5.jar\n",
            "spark-3.2.3-bin-hadoop3.2/jars/JTransforms-3.1.jar\n",
            "spark-3.2.3-bin-hadoop3.2/jars/RoaringBitmap-0.9.0.jar\n",
            "spark-3.2.3-bin-hadoop3.2/jars/ST4-4.0.4.jar\n",
            "spark-3.2.3-bin-hadoop3.2/jars/activation-1.1.1.jar\n",
            "spark-3.2.3-bin-hadoop3.2/jars/aircompressor-0.21.jar\n",
            "spark-3.2.3-bin-hadoop3.2/jars/algebra_2.12-2.0.1.jar\n",
            "spark-3.2.3-bin-hadoop3.2/jars/annotations-17.0.0.jar\n",
            "spark-3.2.3-bin-hadoop3.2/jars/antlr-runtime-3.5.2.jar\n",
            "spark-3.2.3-bin-hadoop3.2/jars/antlr4-runtime-4.8.jar\n",
            "spark-3.2.3-bin-hadoop3.2/jars/aopalliance-repackaged-2.6.1.jar\n",
            "spark-3.2.3-bin-hadoop3.2/jars/arpack-2.2.1.jar\n",
            "spark-3.2.3-bin-hadoop3.2/jars/arpack_combined_all-0.1.jar\n",
            "spark-3.2.3-bin-hadoop3.2/jars/arrow-format-2.0.0.jar\n",
            "spark-3.2.3-bin-hadoop3.2/jars/arrow-memory-core-2.0.0.jar\n",
            "spark-3.2.3-bin-hadoop3.2/jars/arrow-memory-netty-2.0.0.jar\n",
            "spark-3.2.3-bin-hadoop3.2/jars/arrow-vector-2.0.0.jar\n",
            "spark-3.2.3-bin-hadoop3.2/jars/audience-annotations-0.5.0.jar\n",
            "spark-3.2.3-bin-hadoop3.2/jars/automaton-1.11-8.jar\n",
            "spark-3.2.3-bin-hadoop3.2/jars/avro-1.10.2.jar\n",
            "spark-3.2.3-bin-hadoop3.2/jars/avro-ipc-1.10.2.jar\n",
            "spark-3.2.3-bin-hadoop3.2/jars/avro-mapred-1.10.2.jar\n",
            "spark-3.2.3-bin-hadoop3.2/jars/blas-2.2.1.jar\n",
            "spark-3.2.3-bin-hadoop3.2/jars/bonecp-0.8.0.RELEASE.jar\n",
            "spark-3.2.3-bin-hadoop3.2/jars/breeze-macros_2.12-1.2.jar\n",
            "spark-3.2.3-bin-hadoop3.2/jars/breeze_2.12-1.2.jar\n",
            "spark-3.2.3-bin-hadoop3.2/jars/cats-kernel_2.12-2.1.1.jar\n",
            "spark-3.2.3-bin-hadoop3.2/jars/chill-java-0.10.0.jar\n",
            "spark-3.2.3-bin-hadoop3.2/jars/chill_2.12-0.10.0.jar\n",
            "spark-3.2.3-bin-hadoop3.2/jars/commons-cli-1.2.jar\n",
            "spark-3.2.3-bin-hadoop3.2/jars/commons-codec-1.15.jar\n",
            "spark-3.2.3-bin-hadoop3.2/jars/commons-collections-3.2.2.jar\n",
            "spark-3.2.3-bin-hadoop3.2/jars/commons-compiler-3.0.16.jar\n",
            "spark-3.2.3-bin-hadoop3.2/jars/commons-compress-1.21.jar\n",
            "spark-3.2.3-bin-hadoop3.2/jars/commons-crypto-1.1.0.jar\n",
            "spark-3.2.3-bin-hadoop3.2/jars/commons-dbcp-1.4.jar\n",
            "spark-3.2.3-bin-hadoop3.2/jars/commons-io-2.8.0.jar\n",
            "spark-3.2.3-bin-hadoop3.2/jars/commons-lang-2.6.jar\n",
            "spark-3.2.3-bin-hadoop3.2/jars/commons-lang3-3.12.0.jar\n",
            "spark-3.2.3-bin-hadoop3.2/jars/commons-logging-1.1.3.jar\n",
            "spark-3.2.3-bin-hadoop3.2/jars/commons-math3-3.4.1.jar\n",
            "spark-3.2.3-bin-hadoop3.2/jars/commons-net-3.1.jar\n",
            "spark-3.2.3-bin-hadoop3.2/jars/commons-pool-1.5.4.jar\n",
            "spark-3.2.3-bin-hadoop3.2/jars/commons-text-1.10.0.jar\n",
            "spark-3.2.3-bin-hadoop3.2/jars/compress-lzf-1.0.3.jar\n",
            "spark-3.2.3-bin-hadoop3.2/jars/core-1.1.2.jar\n",
            "spark-3.2.3-bin-hadoop3.2/jars/curator-client-2.13.0.jar\n",
            "spark-3.2.3-bin-hadoop3.2/jars/curator-framework-2.13.0.jar\n",
            "spark-3.2.3-bin-hadoop3.2/jars/curator-recipes-2.13.0.jar\n",
            "spark-3.2.3-bin-hadoop3.2/jars/datanucleus-api-jdo-4.2.4.jar\n",
            "spark-3.2.3-bin-hadoop3.2/jars/datanucleus-core-4.1.17.jar\n",
            "spark-3.2.3-bin-hadoop3.2/jars/datanucleus-rdbms-4.1.19.jar\n",
            "spark-3.2.3-bin-hadoop3.2/jars/derby-10.14.2.0.jar\n",
            "spark-3.2.3-bin-hadoop3.2/jars/dropwizard-metrics-hadoop-metrics2-reporter-0.1.2.jar\n",
            "spark-3.2.3-bin-hadoop3.2/jars/flatbuffers-java-1.9.0.jar\n",
            "spark-3.2.3-bin-hadoop3.2/jars/generex-1.0.2.jar\n",
            "spark-3.2.3-bin-hadoop3.2/jars/gson-2.2.4.jar\n",
            "spark-3.2.3-bin-hadoop3.2/jars/guava-14.0.1.jar\n",
            "spark-3.2.3-bin-hadoop3.2/jars/hadoop-client-api-3.3.1.jar\n",
            "spark-3.2.3-bin-hadoop3.2/jars/hadoop-client-runtime-3.3.1.jar\n",
            "spark-3.2.3-bin-hadoop3.2/jars/hadoop-shaded-guava-1.1.1.jar\n",
            "spark-3.2.3-bin-hadoop3.2/jars/hadoop-yarn-server-web-proxy-3.3.1.jar\n",
            "spark-3.2.3-bin-hadoop3.2/jars/hive-beeline-2.3.9.jar\n",
            "spark-3.2.3-bin-hadoop3.2/jars/hive-cli-2.3.9.jar\n",
            "spark-3.2.3-bin-hadoop3.2/jars/hive-common-2.3.9.jar\n",
            "spark-3.2.3-bin-hadoop3.2/jars/hive-exec-2.3.9-core.jar\n",
            "spark-3.2.3-bin-hadoop3.2/jars/hive-jdbc-2.3.9.jar\n",
            "spark-3.2.3-bin-hadoop3.2/jars/hive-llap-common-2.3.9.jar\n",
            "spark-3.2.3-bin-hadoop3.2/jars/hive-metastore-2.3.9.jar\n",
            "spark-3.2.3-bin-hadoop3.2/jars/hive-serde-2.3.9.jar\n",
            "spark-3.2.3-bin-hadoop3.2/jars/hive-service-rpc-3.1.2.jar\n",
            "spark-3.2.3-bin-hadoop3.2/jars/hive-shims-0.23-2.3.9.jar\n",
            "spark-3.2.3-bin-hadoop3.2/jars/hive-shims-2.3.9.jar\n",
            "spark-3.2.3-bin-hadoop3.2/jars/hive-shims-common-2.3.9.jar\n",
            "spark-3.2.3-bin-hadoop3.2/jars/hive-shims-scheduler-2.3.9.jar\n",
            "spark-3.2.3-bin-hadoop3.2/jars/hive-storage-api-2.7.2.jar\n",
            "spark-3.2.3-bin-hadoop3.2/jars/hive-vector-code-gen-2.3.9.jar\n",
            "spark-3.2.3-bin-hadoop3.2/jars/hk2-api-2.6.1.jar\n",
            "spark-3.2.3-bin-hadoop3.2/jars/hk2-locator-2.6.1.jar\n",
            "spark-3.2.3-bin-hadoop3.2/jars/hk2-utils-2.6.1.jar\n",
            "spark-3.2.3-bin-hadoop3.2/jars/htrace-core4-4.1.0-incubating.jar\n",
            "spark-3.2.3-bin-hadoop3.2/jars/httpclient-4.5.13.jar\n",
            "spark-3.2.3-bin-hadoop3.2/jars/httpcore-4.4.14.jar\n",
            "spark-3.2.3-bin-hadoop3.2/jars/istack-commons-runtime-3.0.8.jar\n",
            "spark-3.2.3-bin-hadoop3.2/jars/ivy-2.5.0.jar\n",
            "spark-3.2.3-bin-hadoop3.2/jars/jackson-annotations-2.12.3.jar\n",
            "spark-3.2.3-bin-hadoop3.2/jars/jackson-core-2.12.3.jar\n",
            "spark-3.2.3-bin-hadoop3.2/jars/jackson-core-asl-1.9.13.jar\n",
            "spark-3.2.3-bin-hadoop3.2/jars/jackson-databind-2.12.3.jar\n",
            "spark-3.2.3-bin-hadoop3.2/jars/jackson-dataformat-yaml-2.12.3.jar\n",
            "spark-3.2.3-bin-hadoop3.2/jars/jackson-datatype-jsr310-2.11.2.jar\n",
            "spark-3.2.3-bin-hadoop3.2/jars/jackson-mapper-asl-1.9.13.jar\n",
            "spark-3.2.3-bin-hadoop3.2/jars/jackson-module-scala_2.12-2.12.3.jar\n",
            "spark-3.2.3-bin-hadoop3.2/jars/jakarta.annotation-api-1.3.5.jar\n",
            "spark-3.2.3-bin-hadoop3.2/jars/jakarta.inject-2.6.1.jar\n",
            "spark-3.2.3-bin-hadoop3.2/jars/jakarta.servlet-api-4.0.3.jar\n",
            "spark-3.2.3-bin-hadoop3.2/jars/jakarta.validation-api-2.0.2.jar\n",
            "spark-3.2.3-bin-hadoop3.2/jars/jakarta.ws.rs-api-2.1.6.jar\n",
            "spark-3.2.3-bin-hadoop3.2/jars/jakarta.xml.bind-api-2.3.2.jar\n",
            "spark-3.2.3-bin-hadoop3.2/jars/janino-3.0.16.jar\n",
            "spark-3.2.3-bin-hadoop3.2/jars/javassist-3.25.0-GA.jar\n",
            "spark-3.2.3-bin-hadoop3.2/jars/javax.jdo-3.2.0-m3.jar\n",
            "spark-3.2.3-bin-hadoop3.2/jars/javolution-5.5.1.jar\n",
            "spark-3.2.3-bin-hadoop3.2/jars/jaxb-api-2.2.11.jar\n",
            "spark-3.2.3-bin-hadoop3.2/jars/jaxb-runtime-2.3.2.jar\n",
            "spark-3.2.3-bin-hadoop3.2/jars/jcl-over-slf4j-1.7.30.jar\n",
            "spark-3.2.3-bin-hadoop3.2/jars/jdo-api-3.0.1.jar\n",
            "spark-3.2.3-bin-hadoop3.2/jars/jersey-client-2.34.jar\n",
            "spark-3.2.3-bin-hadoop3.2/jars/jersey-common-2.34.jar\n",
            "spark-3.2.3-bin-hadoop3.2/jars/jersey-container-servlet-2.34.jar\n",
            "spark-3.2.3-bin-hadoop3.2/jars/jersey-container-servlet-core-2.34.jar\n",
            "spark-3.2.3-bin-hadoop3.2/jars/jersey-hk2-2.34.jar\n",
            "spark-3.2.3-bin-hadoop3.2/jars/jersey-server-2.34.jar\n",
            "spark-3.2.3-bin-hadoop3.2/jars/jline-2.14.6.jar\n",
            "spark-3.2.3-bin-hadoop3.2/jars/joda-time-2.10.10.jar\n",
            "spark-3.2.3-bin-hadoop3.2/jars/jodd-core-3.5.2.jar\n",
            "spark-3.2.3-bin-hadoop3.2/jars/jpam-1.1.jar\n",
            "spark-3.2.3-bin-hadoop3.2/jars/json-1.8.jar\n",
            "spark-3.2.3-bin-hadoop3.2/jars/json4s-ast_2.12-3.7.0-M11.jar\n",
            "spark-3.2.3-bin-hadoop3.2/jars/json4s-core_2.12-3.7.0-M11.jar\n",
            "spark-3.2.3-bin-hadoop3.2/jars/json4s-jackson_2.12-3.7.0-M11.jar\n",
            "spark-3.2.3-bin-hadoop3.2/jars/json4s-scalap_2.12-3.7.0-M11.jar\n",
            "spark-3.2.3-bin-hadoop3.2/jars/jsr305-3.0.0.jar\n",
            "spark-3.2.3-bin-hadoop3.2/jars/jta-1.1.jar\n",
            "spark-3.2.3-bin-hadoop3.2/jars/jul-to-slf4j-1.7.30.jar\n",
            "spark-3.2.3-bin-hadoop3.2/jars/kryo-shaded-4.0.2.jar\n",
            "spark-3.2.3-bin-hadoop3.2/jars/kubernetes-client-5.4.1.jar\n",
            "spark-3.2.3-bin-hadoop3.2/jars/kubernetes-model-admissionregistration-5.4.1.jar\n",
            "spark-3.2.3-bin-hadoop3.2/jars/kubernetes-model-apiextensions-5.4.1.jar\n",
            "spark-3.2.3-bin-hadoop3.2/jars/kubernetes-model-apps-5.4.1.jar\n",
            "spark-3.2.3-bin-hadoop3.2/jars/kubernetes-model-autoscaling-5.4.1.jar\n",
            "spark-3.2.3-bin-hadoop3.2/jars/kubernetes-model-batch-5.4.1.jar\n",
            "spark-3.2.3-bin-hadoop3.2/jars/kubernetes-model-certificates-5.4.1.jar\n",
            "spark-3.2.3-bin-hadoop3.2/jars/kubernetes-model-common-5.4.1.jar\n",
            "spark-3.2.3-bin-hadoop3.2/jars/kubernetes-model-coordination-5.4.1.jar\n",
            "spark-3.2.3-bin-hadoop3.2/jars/kubernetes-model-core-5.4.1.jar\n",
            "spark-3.2.3-bin-hadoop3.2/jars/kubernetes-model-discovery-5.4.1.jar\n",
            "spark-3.2.3-bin-hadoop3.2/jars/kubernetes-model-events-5.4.1.jar\n",
            "spark-3.2.3-bin-hadoop3.2/jars/kubernetes-model-extensions-5.4.1.jar\n",
            "spark-3.2.3-bin-hadoop3.2/jars/kubernetes-model-flowcontrol-5.4.1.jar\n",
            "spark-3.2.3-bin-hadoop3.2/jars/kubernetes-model-metrics-5.4.1.jar\n",
            "spark-3.2.3-bin-hadoop3.2/jars/kubernetes-model-networking-5.4.1.jar\n",
            "spark-3.2.3-bin-hadoop3.2/jars/kubernetes-model-node-5.4.1.jar\n",
            "spark-3.2.3-bin-hadoop3.2/jars/kubernetes-model-policy-5.4.1.jar\n",
            "spark-3.2.3-bin-hadoop3.2/jars/kubernetes-model-rbac-5.4.1.jar\n",
            "spark-3.2.3-bin-hadoop3.2/jars/kubernetes-model-scheduling-5.4.1.jar\n",
            "spark-3.2.3-bin-hadoop3.2/jars/kubernetes-model-storageclass-5.4.1.jar\n",
            "spark-3.2.3-bin-hadoop3.2/jars/lapack-2.2.1.jar\n",
            "spark-3.2.3-bin-hadoop3.2/jars/leveldbjni-all-1.8.jar\n",
            "spark-3.2.3-bin-hadoop3.2/jars/libfb303-0.9.3.jar\n",
            "spark-3.2.3-bin-hadoop3.2/jars/libthrift-0.12.0.jar\n",
            "spark-3.2.3-bin-hadoop3.2/jars/log4j-1.2.17.jar\n",
            "spark-3.2.3-bin-hadoop3.2/jars/logging-interceptor-3.12.12.jar\n",
            "spark-3.2.3-bin-hadoop3.2/jars/lz4-java-1.7.1.jar\n",
            "spark-3.2.3-bin-hadoop3.2/jars/macro-compat_2.12-1.1.1.jar\n",
            "spark-3.2.3-bin-hadoop3.2/jars/mesos-1.4.0-shaded-protobuf.jar\n",
            "spark-3.2.3-bin-hadoop3.2/jars/metrics-core-4.2.0.jar\n",
            "spark-3.2.3-bin-hadoop3.2/jars/metrics-graphite-4.2.0.jar\n",
            "spark-3.2.3-bin-hadoop3.2/jars/metrics-jmx-4.2.0.jar\n",
            "spark-3.2.3-bin-hadoop3.2/jars/metrics-json-4.2.0.jar\n",
            "spark-3.2.3-bin-hadoop3.2/jars/metrics-jvm-4.2.0.jar\n",
            "spark-3.2.3-bin-hadoop3.2/jars/minlog-1.3.0.jar\n",
            "spark-3.2.3-bin-hadoop3.2/jars/netty-all-4.1.68.Final.jar\n",
            "spark-3.2.3-bin-hadoop3.2/jars/objenesis-2.6.jar\n",
            "spark-3.2.3-bin-hadoop3.2/jars/okhttp-3.12.12.jar\n",
            "spark-3.2.3-bin-hadoop3.2/jars/okio-1.14.0.jar\n",
            "spark-3.2.3-bin-hadoop3.2/jars/opencsv-2.3.jar\n",
            "spark-3.2.3-bin-hadoop3.2/jars/orc-core-1.6.14.jar\n",
            "spark-3.2.3-bin-hadoop3.2/jars/orc-mapreduce-1.6.14.jar\n",
            "spark-3.2.3-bin-hadoop3.2/jars/orc-shims-1.6.14.jar\n",
            "spark-3.2.3-bin-hadoop3.2/jars/oro-2.0.8.jar\n",
            "spark-3.2.3-bin-hadoop3.2/jars/osgi-resource-locator-1.0.3.jar\n",
            "spark-3.2.3-bin-hadoop3.2/jars/paranamer-2.8.jar\n",
            "spark-3.2.3-bin-hadoop3.2/jars/parquet-column-1.12.2.jar\n",
            "spark-3.2.3-bin-hadoop3.2/jars/parquet-common-1.12.2.jar\n",
            "spark-3.2.3-bin-hadoop3.2/jars/parquet-encoding-1.12.2.jar\n",
            "spark-3.2.3-bin-hadoop3.2/jars/parquet-format-structures-1.12.2.jar\n",
            "spark-3.2.3-bin-hadoop3.2/jars/parquet-hadoop-1.12.2.jar\n",
            "spark-3.2.3-bin-hadoop3.2/jars/parquet-jackson-1.12.2.jar\n",
            "spark-3.2.3-bin-hadoop3.2/jars/protobuf-java-2.5.0.jar\n",
            "spark-3.2.3-bin-hadoop3.2/jars/py4j-0.10.9.5.jar\n",
            "spark-3.2.3-bin-hadoop3.2/jars/pyrolite-4.30.jar\n",
            "spark-3.2.3-bin-hadoop3.2/jars/rocksdbjni-6.20.3.jar\n",
            "spark-3.2.3-bin-hadoop3.2/jars/scala-collection-compat_2.12-2.1.1.jar\n",
            "spark-3.2.3-bin-hadoop3.2/jars/scala-compiler-2.12.15.jar\n",
            "spark-3.2.3-bin-hadoop3.2/jars/scala-library-2.12.15.jar\n",
            "spark-3.2.3-bin-hadoop3.2/jars/scala-parser-combinators_2.12-1.1.2.jar\n",
            "spark-3.2.3-bin-hadoop3.2/jars/scala-reflect-2.12.15.jar\n",
            "spark-3.2.3-bin-hadoop3.2/jars/scala-xml_2.12-1.2.0.jar\n",
            "spark-3.2.3-bin-hadoop3.2/jars/shapeless_2.12-2.3.3.jar\n",
            "spark-3.2.3-bin-hadoop3.2/jars/shims-0.9.0.jar\n",
            "spark-3.2.3-bin-hadoop3.2/jars/slf4j-api-1.7.30.jar\n",
            "spark-3.2.3-bin-hadoop3.2/jars/slf4j-log4j12-1.7.30.jar\n",
            "spark-3.2.3-bin-hadoop3.2/jars/snakeyaml-1.27.jar\n",
            "spark-3.2.3-bin-hadoop3.2/jars/snappy-java-1.1.8.4.jar\n",
            "spark-3.2.3-bin-hadoop3.2/jars/spark-catalyst_2.12-3.2.3.jar\n",
            "spark-3.2.3-bin-hadoop3.2/jars/spark-core_2.12-3.2.3.jar\n",
            "spark-3.2.3-bin-hadoop3.2/jars/spark-graphx_2.12-3.2.3.jar\n",
            "spark-3.2.3-bin-hadoop3.2/jars/spark-hive-thriftserver_2.12-3.2.3.jar\n",
            "spark-3.2.3-bin-hadoop3.2/jars/spark-hive_2.12-3.2.3.jar\n",
            "spark-3.2.3-bin-hadoop3.2/jars/spark-kubernetes_2.12-3.2.3.jar\n",
            "spark-3.2.3-bin-hadoop3.2/jars/spark-kvstore_2.12-3.2.3.jar\n",
            "spark-3.2.3-bin-hadoop3.2/jars/spark-launcher_2.12-3.2.3.jar\n",
            "spark-3.2.3-bin-hadoop3.2/jars/spark-mesos_2.12-3.2.3.jar\n",
            "spark-3.2.3-bin-hadoop3.2/jars/spark-mllib-local_2.12-3.2.3.jar\n",
            "spark-3.2.3-bin-hadoop3.2/jars/spark-mllib_2.12-3.2.3.jar\n",
            "spark-3.2.3-bin-hadoop3.2/jars/spark-network-common_2.12-3.2.3.jar\n",
            "spark-3.2.3-bin-hadoop3.2/jars/spark-network-shuffle_2.12-3.2.3.jar\n",
            "spark-3.2.3-bin-hadoop3.2/jars/spark-repl_2.12-3.2.3.jar\n",
            "spark-3.2.3-bin-hadoop3.2/jars/spark-sketch_2.12-3.2.3.jar\n",
            "spark-3.2.3-bin-hadoop3.2/jars/spark-sql_2.12-3.2.3.jar\n",
            "spark-3.2.3-bin-hadoop3.2/jars/spark-streaming_2.12-3.2.3.jar\n",
            "spark-3.2.3-bin-hadoop3.2/jars/spark-tags_2.12-3.2.3-tests.jar\n",
            "spark-3.2.3-bin-hadoop3.2/jars/spark-tags_2.12-3.2.3.jar\n",
            "spark-3.2.3-bin-hadoop3.2/jars/spark-unsafe_2.12-3.2.3.jar\n",
            "spark-3.2.3-bin-hadoop3.2/jars/spark-yarn_2.12-3.2.3.jar\n",
            "spark-3.2.3-bin-hadoop3.2/jars/spire-macros_2.12-0.17.0.jar\n",
            "spark-3.2.3-bin-hadoop3.2/jars/spire-platform_2.12-0.17.0.jar\n",
            "spark-3.2.3-bin-hadoop3.2/jars/spire-util_2.12-0.17.0.jar\n",
            "spark-3.2.3-bin-hadoop3.2/jars/spire_2.12-0.17.0.jar\n",
            "spark-3.2.3-bin-hadoop3.2/jars/stax-api-1.0.1.jar\n",
            "spark-3.2.3-bin-hadoop3.2/jars/stream-2.9.6.jar\n",
            "spark-3.2.3-bin-hadoop3.2/jars/super-csv-2.2.0.jar\n",
            "spark-3.2.3-bin-hadoop3.2/jars/threeten-extra-1.5.0.jar\n",
            "spark-3.2.3-bin-hadoop3.2/jars/tink-1.6.0.jar\n",
            "spark-3.2.3-bin-hadoop3.2/jars/transaction-api-1.1.jar\n",
            "spark-3.2.3-bin-hadoop3.2/jars/univocity-parsers-2.9.1.jar\n",
            "spark-3.2.3-bin-hadoop3.2/jars/velocity-1.5.jar\n",
            "spark-3.2.3-bin-hadoop3.2/jars/xbean-asm9-shaded-4.20.jar\n",
            "spark-3.2.3-bin-hadoop3.2/jars/xz-1.8.jar\n",
            "spark-3.2.3-bin-hadoop3.2/jars/zjsonpatch-0.3.0.jar\n",
            "spark-3.2.3-bin-hadoop3.2/jars/zookeeper-3.6.2.jar\n",
            "spark-3.2.3-bin-hadoop3.2/jars/zookeeper-jute-3.6.2.jar\n",
            "spark-3.2.3-bin-hadoop3.2/jars/zstd-jni-1.5.0-4.jar\n",
            "spark-3.2.3-bin-hadoop3.2/kubernetes/\n",
            "spark-3.2.3-bin-hadoop3.2/kubernetes/dockerfiles/\n",
            "spark-3.2.3-bin-hadoop3.2/kubernetes/dockerfiles/spark/\n",
            "spark-3.2.3-bin-hadoop3.2/kubernetes/dockerfiles/spark/Dockerfile\n",
            "spark-3.2.3-bin-hadoop3.2/kubernetes/dockerfiles/spark/bindings/\n",
            "spark-3.2.3-bin-hadoop3.2/kubernetes/dockerfiles/spark/bindings/R/\n",
            "spark-3.2.3-bin-hadoop3.2/kubernetes/dockerfiles/spark/bindings/R/Dockerfile\n",
            "spark-3.2.3-bin-hadoop3.2/kubernetes/dockerfiles/spark/bindings/python/\n",
            "spark-3.2.3-bin-hadoop3.2/kubernetes/dockerfiles/spark/bindings/python/Dockerfile\n",
            "spark-3.2.3-bin-hadoop3.2/kubernetes/dockerfiles/spark/decom.sh\n",
            "spark-3.2.3-bin-hadoop3.2/kubernetes/dockerfiles/spark/entrypoint.sh\n",
            "spark-3.2.3-bin-hadoop3.2/kubernetes/tests/\n",
            "spark-3.2.3-bin-hadoop3.2/kubernetes/tests/autoscale.py\n",
            "spark-3.2.3-bin-hadoop3.2/kubernetes/tests/decommissioning.py\n",
            "spark-3.2.3-bin-hadoop3.2/kubernetes/tests/decommissioning_cleanup.py\n",
            "spark-3.2.3-bin-hadoop3.2/kubernetes/tests/py_container_checks.py\n",
            "spark-3.2.3-bin-hadoop3.2/kubernetes/tests/pyfiles.py\n",
            "spark-3.2.3-bin-hadoop3.2/kubernetes/tests/python_executable_check.py\n",
            "spark-3.2.3-bin-hadoop3.2/kubernetes/tests/worker_memory_check.py\n",
            "spark-3.2.3-bin-hadoop3.2/licenses/\n",
            "spark-3.2.3-bin-hadoop3.2/licenses/LICENSE-AnchorJS.txt\n",
            "spark-3.2.3-bin-hadoop3.2/licenses/LICENSE-CC0.txt\n",
            "spark-3.2.3-bin-hadoop3.2/licenses/LICENSE-JLargeArrays.txt\n",
            "spark-3.2.3-bin-hadoop3.2/licenses/LICENSE-JTransforms.txt\n",
            "spark-3.2.3-bin-hadoop3.2/licenses/LICENSE-antlr.txt\n",
            "spark-3.2.3-bin-hadoop3.2/licenses/LICENSE-arpack.txt\n",
            "spark-3.2.3-bin-hadoop3.2/licenses/LICENSE-automaton.txt\n",
            "spark-3.2.3-bin-hadoop3.2/licenses/LICENSE-blas.txt\n",
            "spark-3.2.3-bin-hadoop3.2/licenses/LICENSE-bootstrap.txt\n",
            "spark-3.2.3-bin-hadoop3.2/licenses/LICENSE-cloudpickle.txt\n",
            "spark-3.2.3-bin-hadoop3.2/licenses/LICENSE-d3.min.js.txt\n",
            "spark-3.2.3-bin-hadoop3.2/licenses/LICENSE-dagre-d3.txt\n",
            "spark-3.2.3-bin-hadoop3.2/licenses/LICENSE-datatables.txt\n",
            "spark-3.2.3-bin-hadoop3.2/licenses/LICENSE-dnsjava.txt\n",
            "spark-3.2.3-bin-hadoop3.2/licenses/LICENSE-f2j.txt\n",
            "spark-3.2.3-bin-hadoop3.2/licenses/LICENSE-graphlib-dot.txt\n",
            "spark-3.2.3-bin-hadoop3.2/licenses/LICENSE-istack-commons-runtime.txt\n",
            "spark-3.2.3-bin-hadoop3.2/licenses/LICENSE-jakarta-annotation-api\n",
            "spark-3.2.3-bin-hadoop3.2/licenses/LICENSE-jakarta-ws-rs-api\n",
            "spark-3.2.3-bin-hadoop3.2/licenses/LICENSE-jakarta.activation-api.txt\n",
            "spark-3.2.3-bin-hadoop3.2/licenses/LICENSE-jakarta.xml.bind-api.txt\n",
            "spark-3.2.3-bin-hadoop3.2/licenses/LICENSE-janino.txt\n",
            "spark-3.2.3-bin-hadoop3.2/licenses/LICENSE-javassist.html\n",
            "spark-3.2.3-bin-hadoop3.2/licenses/LICENSE-javax-transaction-transaction-api.txt\n",
            "spark-3.2.3-bin-hadoop3.2/licenses/LICENSE-javolution.txt\n",
            "spark-3.2.3-bin-hadoop3.2/licenses/LICENSE-jaxb-runtime.txt\n",
            "spark-3.2.3-bin-hadoop3.2/licenses/LICENSE-jline.txt\n",
            "spark-3.2.3-bin-hadoop3.2/licenses/LICENSE-jodd.txt\n",
            "spark-3.2.3-bin-hadoop3.2/licenses/LICENSE-join.txt\n",
            "spark-3.2.3-bin-hadoop3.2/licenses/LICENSE-jquery.txt\n",
            "spark-3.2.3-bin-hadoop3.2/licenses/LICENSE-json-formatter.txt\n",
            "spark-3.2.3-bin-hadoop3.2/licenses/LICENSE-jsp-api.txt\n",
            "spark-3.2.3-bin-hadoop3.2/licenses/LICENSE-kryo.txt\n",
            "spark-3.2.3-bin-hadoop3.2/licenses/LICENSE-leveldbjni.txt\n",
            "spark-3.2.3-bin-hadoop3.2/licenses/LICENSE-machinist.txt\n",
            "spark-3.2.3-bin-hadoop3.2/licenses/LICENSE-matchMedia-polyfill.txt\n",
            "spark-3.2.3-bin-hadoop3.2/licenses/LICENSE-minlog.txt\n",
            "spark-3.2.3-bin-hadoop3.2/licenses/LICENSE-modernizr.txt\n",
            "spark-3.2.3-bin-hadoop3.2/licenses/LICENSE-mustache.txt\n",
            "spark-3.2.3-bin-hadoop3.2/licenses/LICENSE-netlib.txt\n",
            "spark-3.2.3-bin-hadoop3.2/licenses/LICENSE-paranamer.txt\n",
            "spark-3.2.3-bin-hadoop3.2/licenses/LICENSE-pmml-model.txt\n",
            "spark-3.2.3-bin-hadoop3.2/licenses/LICENSE-protobuf.txt\n",
            "spark-3.2.3-bin-hadoop3.2/licenses/LICENSE-py4j.txt\n",
            "spark-3.2.3-bin-hadoop3.2/licenses/LICENSE-pyrolite.txt\n",
            "spark-3.2.3-bin-hadoop3.2/licenses/LICENSE-re2j.txt\n",
            "spark-3.2.3-bin-hadoop3.2/licenses/LICENSE-reflectasm.txt\n",
            "spark-3.2.3-bin-hadoop3.2/licenses/LICENSE-respond.txt\n",
            "spark-3.2.3-bin-hadoop3.2/licenses/LICENSE-sbt-launch-lib.txt\n",
            "spark-3.2.3-bin-hadoop3.2/licenses/LICENSE-scala.txt\n",
            "spark-3.2.3-bin-hadoop3.2/licenses/LICENSE-scopt.txt\n",
            "spark-3.2.3-bin-hadoop3.2/licenses/LICENSE-slf4j.txt\n",
            "spark-3.2.3-bin-hadoop3.2/licenses/LICENSE-sorttable.js.txt\n",
            "spark-3.2.3-bin-hadoop3.2/licenses/LICENSE-spire.txt\n",
            "spark-3.2.3-bin-hadoop3.2/licenses/LICENSE-vis-timeline.txt\n",
            "spark-3.2.3-bin-hadoop3.2/licenses/LICENSE-xmlenc.txt\n",
            "spark-3.2.3-bin-hadoop3.2/licenses/LICENSE-zstd-jni.txt\n",
            "spark-3.2.3-bin-hadoop3.2/licenses/LICENSE-zstd.txt\n",
            "spark-3.2.3-bin-hadoop3.2/python/\n",
            "spark-3.2.3-bin-hadoop3.2/python/.coveragerc\n",
            "spark-3.2.3-bin-hadoop3.2/python/.gitignore\n",
            "spark-3.2.3-bin-hadoop3.2/python/MANIFEST.in\n",
            "spark-3.2.3-bin-hadoop3.2/python/README.md\n",
            "spark-3.2.3-bin-hadoop3.2/python/dist/\n",
            "spark-3.2.3-bin-hadoop3.2/python/docs/\n",
            "spark-3.2.3-bin-hadoop3.2/python/docs/Makefile\n",
            "spark-3.2.3-bin-hadoop3.2/python/docs/make.bat\n",
            "spark-3.2.3-bin-hadoop3.2/python/docs/make2.bat\n",
            "spark-3.2.3-bin-hadoop3.2/python/docs/source/\n",
            "spark-3.2.3-bin-hadoop3.2/python/docs/source/_static/\n",
            "spark-3.2.3-bin-hadoop3.2/python/docs/source/_static/copybutton.js\n",
            "spark-3.2.3-bin-hadoop3.2/python/docs/source/_static/css/\n",
            "spark-3.2.3-bin-hadoop3.2/python/docs/source/_static/css/pyspark.css\n",
            "spark-3.2.3-bin-hadoop3.2/python/docs/source/_templates/\n",
            "spark-3.2.3-bin-hadoop3.2/python/docs/source/_templates/autosummary/\n",
            "spark-3.2.3-bin-hadoop3.2/python/docs/source/_templates/autosummary/class.rst\n",
            "spark-3.2.3-bin-hadoop3.2/python/docs/source/_templates/autosummary/class_with_docs.rst\n",
            "spark-3.2.3-bin-hadoop3.2/python/docs/source/conf.py\n",
            "spark-3.2.3-bin-hadoop3.2/python/docs/source/development/\n",
            "spark-3.2.3-bin-hadoop3.2/python/docs/source/development/contributing.rst\n",
            "spark-3.2.3-bin-hadoop3.2/python/docs/source/development/debugging.rst\n",
            "spark-3.2.3-bin-hadoop3.2/python/docs/source/development/index.rst\n",
            "spark-3.2.3-bin-hadoop3.2/python/docs/source/development/setting_ide.rst\n",
            "spark-3.2.3-bin-hadoop3.2/python/docs/source/development/testing.rst\n",
            "spark-3.2.3-bin-hadoop3.2/python/docs/source/getting_started/\n",
            "spark-3.2.3-bin-hadoop3.2/python/docs/source/getting_started/index.rst\n",
            "spark-3.2.3-bin-hadoop3.2/python/docs/source/getting_started/install.rst\n",
            "spark-3.2.3-bin-hadoop3.2/python/docs/source/getting_started/quickstart_df.ipynb\n",
            "spark-3.2.3-bin-hadoop3.2/python/docs/source/getting_started/quickstart_ps.ipynb\n",
            "spark-3.2.3-bin-hadoop3.2/python/docs/source/index.rst\n",
            "spark-3.2.3-bin-hadoop3.2/python/docs/source/migration_guide/\n",
            "spark-3.2.3-bin-hadoop3.2/python/docs/source/migration_guide/index.rst\n",
            "spark-3.2.3-bin-hadoop3.2/python/docs/source/migration_guide/koalas_to_pyspark.rst\n",
            "spark-3.2.3-bin-hadoop3.2/python/docs/source/migration_guide/pyspark_1.0_1.2_to_1.3.rst\n",
            "spark-3.2.3-bin-hadoop3.2/python/docs/source/migration_guide/pyspark_1.4_to_1.5.rst\n",
            "spark-3.2.3-bin-hadoop3.2/python/docs/source/migration_guide/pyspark_2.2_to_2.3.rst\n",
            "spark-3.2.3-bin-hadoop3.2/python/docs/source/migration_guide/pyspark_2.3.0_to_2.3.1_above.rst\n",
            "spark-3.2.3-bin-hadoop3.2/python/docs/source/migration_guide/pyspark_2.3_to_2.4.rst\n",
            "spark-3.2.3-bin-hadoop3.2/python/docs/source/migration_guide/pyspark_2.4_to_3.0.rst\n",
            "spark-3.2.3-bin-hadoop3.2/python/docs/source/migration_guide/pyspark_3.1_to_3.2.rst\n",
            "spark-3.2.3-bin-hadoop3.2/python/docs/source/reference/\n",
            "spark-3.2.3-bin-hadoop3.2/python/docs/source/reference/index.rst\n",
            "spark-3.2.3-bin-hadoop3.2/python/docs/source/reference/pyspark.ml.rst\n",
            "spark-3.2.3-bin-hadoop3.2/python/docs/source/reference/pyspark.mllib.rst\n",
            "spark-3.2.3-bin-hadoop3.2/python/docs/source/reference/pyspark.pandas/\n",
            "spark-3.2.3-bin-hadoop3.2/python/docs/source/reference/pyspark.pandas/extensions.rst\n",
            "spark-3.2.3-bin-hadoop3.2/python/docs/source/reference/pyspark.pandas/frame.rst\n",
            "spark-3.2.3-bin-hadoop3.2/python/docs/source/reference/pyspark.pandas/general_functions.rst\n",
            "spark-3.2.3-bin-hadoop3.2/python/docs/source/reference/pyspark.pandas/groupby.rst\n",
            "spark-3.2.3-bin-hadoop3.2/python/docs/source/reference/pyspark.pandas/index.rst\n",
            "spark-3.2.3-bin-hadoop3.2/python/docs/source/reference/pyspark.pandas/indexing.rst\n",
            "spark-3.2.3-bin-hadoop3.2/python/docs/source/reference/pyspark.pandas/io.rst\n",
            "spark-3.2.3-bin-hadoop3.2/python/docs/source/reference/pyspark.pandas/ml.rst\n",
            "spark-3.2.3-bin-hadoop3.2/python/docs/source/reference/pyspark.pandas/series.rst\n",
            "spark-3.2.3-bin-hadoop3.2/python/docs/source/reference/pyspark.pandas/window.rst\n",
            "spark-3.2.3-bin-hadoop3.2/python/docs/source/reference/pyspark.resource.rst\n",
            "spark-3.2.3-bin-hadoop3.2/python/docs/source/reference/pyspark.rst\n",
            "spark-3.2.3-bin-hadoop3.2/python/docs/source/reference/pyspark.sql.rst\n",
            "spark-3.2.3-bin-hadoop3.2/python/docs/source/reference/pyspark.ss.rst\n",
            "spark-3.2.3-bin-hadoop3.2/python/docs/source/reference/pyspark.streaming.rst\n",
            "spark-3.2.3-bin-hadoop3.2/python/docs/source/user_guide/\n",
            "spark-3.2.3-bin-hadoop3.2/python/docs/source/user_guide/arrow_pandas.rst\n",
            "spark-3.2.3-bin-hadoop3.2/python/docs/source/user_guide/index.rst\n",
            "spark-3.2.3-bin-hadoop3.2/python/docs/source/user_guide/pandas_on_spark/\n",
            "spark-3.2.3-bin-hadoop3.2/python/docs/source/user_guide/pandas_on_spark/best_practices.rst\n",
            "spark-3.2.3-bin-hadoop3.2/python/docs/source/user_guide/pandas_on_spark/faq.rst\n",
            "spark-3.2.3-bin-hadoop3.2/python/docs/source/user_guide/pandas_on_spark/from_to_dbms.rst\n",
            "spark-3.2.3-bin-hadoop3.2/python/docs/source/user_guide/pandas_on_spark/index.rst\n",
            "spark-3.2.3-bin-hadoop3.2/python/docs/source/user_guide/pandas_on_spark/options.rst\n",
            "spark-3.2.3-bin-hadoop3.2/python/docs/source/user_guide/pandas_on_spark/pandas_pyspark.rst\n",
            "spark-3.2.3-bin-hadoop3.2/python/docs/source/user_guide/pandas_on_spark/transform_apply.rst\n",
            "spark-3.2.3-bin-hadoop3.2/python/docs/source/user_guide/pandas_on_spark/typehints.rst\n",
            "spark-3.2.3-bin-hadoop3.2/python/docs/source/user_guide/pandas_on_spark/types.rst\n",
            "spark-3.2.3-bin-hadoop3.2/python/docs/source/user_guide/python_packaging.rst\n",
            "spark-3.2.3-bin-hadoop3.2/python/docs/source/user_guide/sql/\n",
            "spark-3.2.3-bin-hadoop3.2/python/docs/source/user_guide/sql/arrow_pandas.rst\n",
            "spark-3.2.3-bin-hadoop3.2/python/docs/source/user_guide/sql/index.rst\n",
            "spark-3.2.3-bin-hadoop3.2/python/lib/\n",
            "spark-3.2.3-bin-hadoop3.2/python/lib/PY4J_LICENSE.txt\n",
            "spark-3.2.3-bin-hadoop3.2/python/lib/py4j-0.10.9.5-src.zip\n",
            "spark-3.2.3-bin-hadoop3.2/python/lib/pyspark.zip\n",
            "spark-3.2.3-bin-hadoop3.2/python/mypy.ini\n",
            "spark-3.2.3-bin-hadoop3.2/python/pylintrc\n",
            "spark-3.2.3-bin-hadoop3.2/python/pyspark/\n",
            "spark-3.2.3-bin-hadoop3.2/python/pyspark/__init__.py\n",
            "spark-3.2.3-bin-hadoop3.2/python/pyspark/__init__.pyi\n",
            "spark-3.2.3-bin-hadoop3.2/python/pyspark/__pycache__/\n",
            "spark-3.2.3-bin-hadoop3.2/python/pyspark/__pycache__/install.cpython-38.pyc\n",
            "spark-3.2.3-bin-hadoop3.2/python/pyspark/_globals.py\n",
            "spark-3.2.3-bin-hadoop3.2/python/pyspark/_typing.pyi\n",
            "spark-3.2.3-bin-hadoop3.2/python/pyspark/accumulators.py\n",
            "spark-3.2.3-bin-hadoop3.2/python/pyspark/accumulators.pyi\n",
            "spark-3.2.3-bin-hadoop3.2/python/pyspark/broadcast.py\n",
            "spark-3.2.3-bin-hadoop3.2/python/pyspark/broadcast.pyi\n",
            "spark-3.2.3-bin-hadoop3.2/python/pyspark/cloudpickle/\n",
            "spark-3.2.3-bin-hadoop3.2/python/pyspark/cloudpickle/__init__.py\n",
            "spark-3.2.3-bin-hadoop3.2/python/pyspark/cloudpickle/cloudpickle.py\n",
            "spark-3.2.3-bin-hadoop3.2/python/pyspark/cloudpickle/cloudpickle_fast.py\n",
            "spark-3.2.3-bin-hadoop3.2/python/pyspark/cloudpickle/compat.py\n",
            "spark-3.2.3-bin-hadoop3.2/python/pyspark/conf.py\n",
            "spark-3.2.3-bin-hadoop3.2/python/pyspark/conf.pyi\n",
            "spark-3.2.3-bin-hadoop3.2/python/pyspark/context.py\n",
            "spark-3.2.3-bin-hadoop3.2/python/pyspark/context.pyi\n",
            "spark-3.2.3-bin-hadoop3.2/python/pyspark/daemon.py\n",
            "spark-3.2.3-bin-hadoop3.2/python/pyspark/files.py\n",
            "spark-3.2.3-bin-hadoop3.2/python/pyspark/files.pyi\n",
            "spark-3.2.3-bin-hadoop3.2/python/pyspark/find_spark_home.py\n",
            "spark-3.2.3-bin-hadoop3.2/python/pyspark/install.py\n",
            "spark-3.2.3-bin-hadoop3.2/python/pyspark/java_gateway.py\n",
            "spark-3.2.3-bin-hadoop3.2/python/pyspark/join.py\n",
            "spark-3.2.3-bin-hadoop3.2/python/pyspark/ml/\n",
            "spark-3.2.3-bin-hadoop3.2/python/pyspark/ml/__init__.py\n",
            "spark-3.2.3-bin-hadoop3.2/python/pyspark/ml/_typing.pyi\n",
            "spark-3.2.3-bin-hadoop3.2/python/pyspark/ml/base.py\n",
            "spark-3.2.3-bin-hadoop3.2/python/pyspark/ml/base.pyi\n",
            "spark-3.2.3-bin-hadoop3.2/python/pyspark/ml/classification.py\n",
            "spark-3.2.3-bin-hadoop3.2/python/pyspark/ml/classification.pyi\n",
            "spark-3.2.3-bin-hadoop3.2/python/pyspark/ml/clustering.py\n",
            "spark-3.2.3-bin-hadoop3.2/python/pyspark/ml/clustering.pyi\n",
            "spark-3.2.3-bin-hadoop3.2/python/pyspark/ml/common.py\n",
            "spark-3.2.3-bin-hadoop3.2/python/pyspark/ml/common.pyi\n",
            "spark-3.2.3-bin-hadoop3.2/python/pyspark/ml/evaluation.py\n",
            "spark-3.2.3-bin-hadoop3.2/python/pyspark/ml/evaluation.pyi\n",
            "spark-3.2.3-bin-hadoop3.2/python/pyspark/ml/feature.py\n",
            "spark-3.2.3-bin-hadoop3.2/python/pyspark/ml/feature.pyi\n",
            "spark-3.2.3-bin-hadoop3.2/python/pyspark/ml/fpm.py\n",
            "spark-3.2.3-bin-hadoop3.2/python/pyspark/ml/fpm.pyi\n",
            "spark-3.2.3-bin-hadoop3.2/python/pyspark/ml/functions.py\n",
            "spark-3.2.3-bin-hadoop3.2/python/pyspark/ml/functions.pyi\n",
            "spark-3.2.3-bin-hadoop3.2/python/pyspark/ml/image.py\n",
            "spark-3.2.3-bin-hadoop3.2/python/pyspark/ml/image.pyi\n",
            "spark-3.2.3-bin-hadoop3.2/python/pyspark/ml/linalg/\n",
            "spark-3.2.3-bin-hadoop3.2/python/pyspark/ml/linalg/__init__.py\n",
            "spark-3.2.3-bin-hadoop3.2/python/pyspark/ml/linalg/__init__.pyi\n",
            "spark-3.2.3-bin-hadoop3.2/python/pyspark/ml/param/\n",
            "spark-3.2.3-bin-hadoop3.2/python/pyspark/ml/param/__init__.py\n",
            "spark-3.2.3-bin-hadoop3.2/python/pyspark/ml/param/__init__.pyi\n",
            "spark-3.2.3-bin-hadoop3.2/python/pyspark/ml/param/_shared_params_code_gen.py\n",
            "spark-3.2.3-bin-hadoop3.2/python/pyspark/ml/param/_shared_params_code_gen.pyi\n",
            "spark-3.2.3-bin-hadoop3.2/python/pyspark/ml/param/shared.py\n",
            "spark-3.2.3-bin-hadoop3.2/python/pyspark/ml/param/shared.pyi\n",
            "spark-3.2.3-bin-hadoop3.2/python/pyspark/ml/pipeline.py\n",
            "spark-3.2.3-bin-hadoop3.2/python/pyspark/ml/pipeline.pyi\n",
            "spark-3.2.3-bin-hadoop3.2/python/pyspark/ml/recommendation.py\n",
            "spark-3.2.3-bin-hadoop3.2/python/pyspark/ml/recommendation.pyi\n",
            "spark-3.2.3-bin-hadoop3.2/python/pyspark/ml/regression.py\n",
            "spark-3.2.3-bin-hadoop3.2/python/pyspark/ml/regression.pyi\n",
            "spark-3.2.3-bin-hadoop3.2/python/pyspark/ml/stat.py\n",
            "spark-3.2.3-bin-hadoop3.2/python/pyspark/ml/stat.pyi\n",
            "spark-3.2.3-bin-hadoop3.2/python/pyspark/ml/tests/\n",
            "spark-3.2.3-bin-hadoop3.2/python/pyspark/ml/tests/__init__.py\n",
            "spark-3.2.3-bin-hadoop3.2/python/pyspark/ml/tests/test_algorithms.py\n",
            "spark-3.2.3-bin-hadoop3.2/python/pyspark/ml/tests/test_base.py\n",
            "spark-3.2.3-bin-hadoop3.2/python/pyspark/ml/tests/test_evaluation.py\n",
            "spark-3.2.3-bin-hadoop3.2/python/pyspark/ml/tests/test_feature.py\n",
            "spark-3.2.3-bin-hadoop3.2/python/pyspark/ml/tests/test_image.py\n",
            "spark-3.2.3-bin-hadoop3.2/python/pyspark/ml/tests/test_linalg.py\n",
            "spark-3.2.3-bin-hadoop3.2/python/pyspark/ml/tests/test_param.py\n",
            "spark-3.2.3-bin-hadoop3.2/python/pyspark/ml/tests/test_persistence.py\n",
            "spark-3.2.3-bin-hadoop3.2/python/pyspark/ml/tests/test_pipeline.py\n",
            "spark-3.2.3-bin-hadoop3.2/python/pyspark/ml/tests/test_stat.py\n",
            "spark-3.2.3-bin-hadoop3.2/python/pyspark/ml/tests/test_training_summary.py\n",
            "spark-3.2.3-bin-hadoop3.2/python/pyspark/ml/tests/test_tuning.py\n",
            "spark-3.2.3-bin-hadoop3.2/python/pyspark/ml/tests/test_util.py\n",
            "spark-3.2.3-bin-hadoop3.2/python/pyspark/ml/tests/test_wrapper.py\n",
            "spark-3.2.3-bin-hadoop3.2/python/pyspark/ml/tree.py\n",
            "spark-3.2.3-bin-hadoop3.2/python/pyspark/ml/tree.pyi\n",
            "spark-3.2.3-bin-hadoop3.2/python/pyspark/ml/tuning.py\n",
            "spark-3.2.3-bin-hadoop3.2/python/pyspark/ml/tuning.pyi\n",
            "spark-3.2.3-bin-hadoop3.2/python/pyspark/ml/util.py\n",
            "spark-3.2.3-bin-hadoop3.2/python/pyspark/ml/util.pyi\n",
            "spark-3.2.3-bin-hadoop3.2/python/pyspark/ml/wrapper.py\n",
            "spark-3.2.3-bin-hadoop3.2/python/pyspark/ml/wrapper.pyi\n",
            "spark-3.2.3-bin-hadoop3.2/python/pyspark/mllib/\n",
            "spark-3.2.3-bin-hadoop3.2/python/pyspark/mllib/__init__.py\n",
            "spark-3.2.3-bin-hadoop3.2/python/pyspark/mllib/_typing.pyi\n",
            "spark-3.2.3-bin-hadoop3.2/python/pyspark/mllib/classification.py\n",
            "spark-3.2.3-bin-hadoop3.2/python/pyspark/mllib/classification.pyi\n",
            "spark-3.2.3-bin-hadoop3.2/python/pyspark/mllib/clustering.py\n",
            "spark-3.2.3-bin-hadoop3.2/python/pyspark/mllib/clustering.pyi\n",
            "spark-3.2.3-bin-hadoop3.2/python/pyspark/mllib/common.py\n",
            "spark-3.2.3-bin-hadoop3.2/python/pyspark/mllib/common.pyi\n",
            "spark-3.2.3-bin-hadoop3.2/python/pyspark/mllib/evaluation.py\n",
            "spark-3.2.3-bin-hadoop3.2/python/pyspark/mllib/evaluation.pyi\n",
            "spark-3.2.3-bin-hadoop3.2/python/pyspark/mllib/feature.py\n",
            "spark-3.2.3-bin-hadoop3.2/python/pyspark/mllib/feature.pyi\n",
            "spark-3.2.3-bin-hadoop3.2/python/pyspark/mllib/fpm.py\n",
            "spark-3.2.3-bin-hadoop3.2/python/pyspark/mllib/fpm.pyi\n",
            "spark-3.2.3-bin-hadoop3.2/python/pyspark/mllib/linalg/\n",
            "spark-3.2.3-bin-hadoop3.2/python/pyspark/mllib/linalg/__init__.py\n",
            "spark-3.2.3-bin-hadoop3.2/python/pyspark/mllib/linalg/__init__.pyi\n",
            "spark-3.2.3-bin-hadoop3.2/python/pyspark/mllib/linalg/distributed.py\n",
            "spark-3.2.3-bin-hadoop3.2/python/pyspark/mllib/linalg/distributed.pyi\n",
            "spark-3.2.3-bin-hadoop3.2/python/pyspark/mllib/random.py\n",
            "spark-3.2.3-bin-hadoop3.2/python/pyspark/mllib/random.pyi\n",
            "spark-3.2.3-bin-hadoop3.2/python/pyspark/mllib/recommendation.py\n",
            "spark-3.2.3-bin-hadoop3.2/python/pyspark/mllib/recommendation.pyi\n",
            "spark-3.2.3-bin-hadoop3.2/python/pyspark/mllib/regression.py\n",
            "spark-3.2.3-bin-hadoop3.2/python/pyspark/mllib/regression.pyi\n",
            "spark-3.2.3-bin-hadoop3.2/python/pyspark/mllib/stat/\n",
            "spark-3.2.3-bin-hadoop3.2/python/pyspark/mllib/stat/KernelDensity.py\n",
            "spark-3.2.3-bin-hadoop3.2/python/pyspark/mllib/stat/KernelDensity.pyi\n",
            "spark-3.2.3-bin-hadoop3.2/python/pyspark/mllib/stat/__init__.py\n",
            "spark-3.2.3-bin-hadoop3.2/python/pyspark/mllib/stat/__init__.pyi\n",
            "spark-3.2.3-bin-hadoop3.2/python/pyspark/mllib/stat/_statistics.py\n",
            "spark-3.2.3-bin-hadoop3.2/python/pyspark/mllib/stat/_statistics.pyi\n",
            "spark-3.2.3-bin-hadoop3.2/python/pyspark/mllib/stat/distribution.py\n",
            "spark-3.2.3-bin-hadoop3.2/python/pyspark/mllib/stat/distribution.pyi\n",
            "spark-3.2.3-bin-hadoop3.2/python/pyspark/mllib/stat/test.py\n",
            "spark-3.2.3-bin-hadoop3.2/python/pyspark/mllib/stat/test.pyi\n",
            "spark-3.2.3-bin-hadoop3.2/python/pyspark/mllib/tests/\n",
            "spark-3.2.3-bin-hadoop3.2/python/pyspark/mllib/tests/__init__.py\n",
            "spark-3.2.3-bin-hadoop3.2/python/pyspark/mllib/tests/test_algorithms.py\n",
            "spark-3.2.3-bin-hadoop3.2/python/pyspark/mllib/tests/test_feature.py\n",
            "spark-3.2.3-bin-hadoop3.2/python/pyspark/mllib/tests/test_linalg.py\n",
            "spark-3.2.3-bin-hadoop3.2/python/pyspark/mllib/tests/test_stat.py\n",
            "spark-3.2.3-bin-hadoop3.2/python/pyspark/mllib/tests/test_streaming_algorithms.py\n",
            "spark-3.2.3-bin-hadoop3.2/python/pyspark/mllib/tests/test_util.py\n",
            "spark-3.2.3-bin-hadoop3.2/python/pyspark/mllib/tree.py\n",
            "spark-3.2.3-bin-hadoop3.2/python/pyspark/mllib/tree.pyi\n",
            "spark-3.2.3-bin-hadoop3.2/python/pyspark/mllib/util.py\n",
            "spark-3.2.3-bin-hadoop3.2/python/pyspark/mllib/util.pyi\n",
            "spark-3.2.3-bin-hadoop3.2/python/pyspark/pandas/\n",
            "spark-3.2.3-bin-hadoop3.2/python/pyspark/pandas/__init__.py\n",
            "spark-3.2.3-bin-hadoop3.2/python/pyspark/pandas/_typing.py\n",
            "spark-3.2.3-bin-hadoop3.2/python/pyspark/pandas/accessors.py\n",
            "spark-3.2.3-bin-hadoop3.2/python/pyspark/pandas/base.py\n",
            "spark-3.2.3-bin-hadoop3.2/python/pyspark/pandas/categorical.py\n",
            "spark-3.2.3-bin-hadoop3.2/python/pyspark/pandas/config.py\n",
            "spark-3.2.3-bin-hadoop3.2/python/pyspark/pandas/data_type_ops/\n",
            "spark-3.2.3-bin-hadoop3.2/python/pyspark/pandas/data_type_ops/__init__.py\n",
            "spark-3.2.3-bin-hadoop3.2/python/pyspark/pandas/data_type_ops/base.py\n",
            "spark-3.2.3-bin-hadoop3.2/python/pyspark/pandas/data_type_ops/binary_ops.py\n",
            "spark-3.2.3-bin-hadoop3.2/python/pyspark/pandas/data_type_ops/boolean_ops.py\n",
            "spark-3.2.3-bin-hadoop3.2/python/pyspark/pandas/data_type_ops/categorical_ops.py\n",
            "spark-3.2.3-bin-hadoop3.2/python/pyspark/pandas/data_type_ops/complex_ops.py\n",
            "spark-3.2.3-bin-hadoop3.2/python/pyspark/pandas/data_type_ops/date_ops.py\n",
            "spark-3.2.3-bin-hadoop3.2/python/pyspark/pandas/data_type_ops/datetime_ops.py\n",
            "spark-3.2.3-bin-hadoop3.2/python/pyspark/pandas/data_type_ops/null_ops.py\n",
            "spark-3.2.3-bin-hadoop3.2/python/pyspark/pandas/data_type_ops/num_ops.py\n",
            "spark-3.2.3-bin-hadoop3.2/python/pyspark/pandas/data_type_ops/string_ops.py\n",
            "spark-3.2.3-bin-hadoop3.2/python/pyspark/pandas/data_type_ops/udt_ops.py\n",
            "spark-3.2.3-bin-hadoop3.2/python/pyspark/pandas/datetimes.py\n",
            "spark-3.2.3-bin-hadoop3.2/python/pyspark/pandas/exceptions.py\n",
            "spark-3.2.3-bin-hadoop3.2/python/pyspark/pandas/extensions.py\n",
            "spark-3.2.3-bin-hadoop3.2/python/pyspark/pandas/frame.py\n",
            "spark-3.2.3-bin-hadoop3.2/python/pyspark/pandas/generic.py\n",
            "spark-3.2.3-bin-hadoop3.2/python/pyspark/pandas/groupby.py\n",
            "spark-3.2.3-bin-hadoop3.2/python/pyspark/pandas/indexes/\n",
            "spark-3.2.3-bin-hadoop3.2/python/pyspark/pandas/indexes/__init__.py\n",
            "spark-3.2.3-bin-hadoop3.2/python/pyspark/pandas/indexes/base.py\n",
            "spark-3.2.3-bin-hadoop3.2/python/pyspark/pandas/indexes/category.py\n",
            "spark-3.2.3-bin-hadoop3.2/python/pyspark/pandas/indexes/datetimes.py\n",
            "spark-3.2.3-bin-hadoop3.2/python/pyspark/pandas/indexes/multi.py\n",
            "spark-3.2.3-bin-hadoop3.2/python/pyspark/pandas/indexes/numeric.py\n",
            "spark-3.2.3-bin-hadoop3.2/python/pyspark/pandas/indexing.py\n",
            "spark-3.2.3-bin-hadoop3.2/python/pyspark/pandas/internal.py\n",
            "spark-3.2.3-bin-hadoop3.2/python/pyspark/pandas/missing/\n",
            "spark-3.2.3-bin-hadoop3.2/python/pyspark/pandas/missing/__init__.py\n",
            "spark-3.2.3-bin-hadoop3.2/python/pyspark/pandas/missing/common.py\n",
            "spark-3.2.3-bin-hadoop3.2/python/pyspark/pandas/missing/frame.py\n",
            "spark-3.2.3-bin-hadoop3.2/python/pyspark/pandas/missing/groupby.py\n",
            "spark-3.2.3-bin-hadoop3.2/python/pyspark/pandas/missing/indexes.py\n",
            "spark-3.2.3-bin-hadoop3.2/python/pyspark/pandas/missing/series.py\n",
            "spark-3.2.3-bin-hadoop3.2/python/pyspark/pandas/missing/window.py\n",
            "spark-3.2.3-bin-hadoop3.2/python/pyspark/pandas/ml.py\n",
            "spark-3.2.3-bin-hadoop3.2/python/pyspark/pandas/mlflow.py\n",
            "spark-3.2.3-bin-hadoop3.2/python/pyspark/pandas/namespace.py\n",
            "spark-3.2.3-bin-hadoop3.2/python/pyspark/pandas/numpy_compat.py\n",
            "spark-3.2.3-bin-hadoop3.2/python/pyspark/pandas/plot/\n",
            "spark-3.2.3-bin-hadoop3.2/python/pyspark/pandas/plot/__init__.py\n",
            "spark-3.2.3-bin-hadoop3.2/python/pyspark/pandas/plot/core.py\n",
            "spark-3.2.3-bin-hadoop3.2/python/pyspark/pandas/plot/matplotlib.py\n",
            "spark-3.2.3-bin-hadoop3.2/python/pyspark/pandas/plot/plotly.py\n",
            "spark-3.2.3-bin-hadoop3.2/python/pyspark/pandas/series.py\n",
            "spark-3.2.3-bin-hadoop3.2/python/pyspark/pandas/spark/\n",
            "spark-3.2.3-bin-hadoop3.2/python/pyspark/pandas/spark/__init__.py\n",
            "spark-3.2.3-bin-hadoop3.2/python/pyspark/pandas/spark/accessors.py\n",
            "spark-3.2.3-bin-hadoop3.2/python/pyspark/pandas/spark/functions.py\n",
            "spark-3.2.3-bin-hadoop3.2/python/pyspark/pandas/spark/utils.py\n",
            "spark-3.2.3-bin-hadoop3.2/python/pyspark/pandas/sql_processor.py\n",
            "spark-3.2.3-bin-hadoop3.2/python/pyspark/pandas/strings.py\n",
            "spark-3.2.3-bin-hadoop3.2/python/pyspark/pandas/tests/\n",
            "spark-3.2.3-bin-hadoop3.2/python/pyspark/pandas/tests/__init__.py\n",
            "spark-3.2.3-bin-hadoop3.2/python/pyspark/pandas/tests/data_type_ops/\n",
            "spark-3.2.3-bin-hadoop3.2/python/pyspark/pandas/tests/data_type_ops/__init__.py\n",
            "spark-3.2.3-bin-hadoop3.2/python/pyspark/pandas/tests/data_type_ops/test_base.py\n",
            "spark-3.2.3-bin-hadoop3.2/python/pyspark/pandas/tests/data_type_ops/test_binary_ops.py\n",
            "spark-3.2.3-bin-hadoop3.2/python/pyspark/pandas/tests/data_type_ops/test_boolean_ops.py\n",
            "spark-3.2.3-bin-hadoop3.2/python/pyspark/pandas/tests/data_type_ops/test_categorical_ops.py\n",
            "spark-3.2.3-bin-hadoop3.2/python/pyspark/pandas/tests/data_type_ops/test_complex_ops.py\n",
            "spark-3.2.3-bin-hadoop3.2/python/pyspark/pandas/tests/data_type_ops/test_date_ops.py\n",
            "spark-3.2.3-bin-hadoop3.2/python/pyspark/pandas/tests/data_type_ops/test_datetime_ops.py\n",
            "spark-3.2.3-bin-hadoop3.2/python/pyspark/pandas/tests/data_type_ops/test_null_ops.py\n",
            "spark-3.2.3-bin-hadoop3.2/python/pyspark/pandas/tests/data_type_ops/test_num_ops.py\n",
            "spark-3.2.3-bin-hadoop3.2/python/pyspark/pandas/tests/data_type_ops/test_string_ops.py\n",
            "spark-3.2.3-bin-hadoop3.2/python/pyspark/pandas/tests/data_type_ops/test_udt_ops.py\n",
            "spark-3.2.3-bin-hadoop3.2/python/pyspark/pandas/tests/data_type_ops/testing_utils.py\n",
            "spark-3.2.3-bin-hadoop3.2/python/pyspark/pandas/tests/indexes/\n",
            "spark-3.2.3-bin-hadoop3.2/python/pyspark/pandas/tests/indexes/__init__.py\n",
            "spark-3.2.3-bin-hadoop3.2/python/pyspark/pandas/tests/indexes/test_base.py\n",
            "spark-3.2.3-bin-hadoop3.2/python/pyspark/pandas/tests/indexes/test_category.py\n",
            "spark-3.2.3-bin-hadoop3.2/python/pyspark/pandas/tests/indexes/test_datetime.py\n",
            "spark-3.2.3-bin-hadoop3.2/python/pyspark/pandas/tests/plot/\n",
            "spark-3.2.3-bin-hadoop3.2/python/pyspark/pandas/tests/plot/__init__.py\n",
            "spark-3.2.3-bin-hadoop3.2/python/pyspark/pandas/tests/plot/test_frame_plot.py\n",
            "spark-3.2.3-bin-hadoop3.2/python/pyspark/pandas/tests/plot/test_frame_plot_matplotlib.py\n",
            "spark-3.2.3-bin-hadoop3.2/python/pyspark/pandas/tests/plot/test_frame_plot_plotly.py\n",
            "spark-3.2.3-bin-hadoop3.2/python/pyspark/pandas/tests/plot/test_series_plot.py\n",
            "spark-3.2.3-bin-hadoop3.2/python/pyspark/pandas/tests/plot/test_series_plot_matplotlib.py\n",
            "spark-3.2.3-bin-hadoop3.2/python/pyspark/pandas/tests/plot/test_series_plot_plotly.py\n",
            "spark-3.2.3-bin-hadoop3.2/python/pyspark/pandas/tests/test_categorical.py\n",
            "spark-3.2.3-bin-hadoop3.2/python/pyspark/pandas/tests/test_config.py\n",
            "spark-3.2.3-bin-hadoop3.2/python/pyspark/pandas/tests/test_csv.py\n",
            "spark-3.2.3-bin-hadoop3.2/python/pyspark/pandas/tests/test_dataframe.py\n",
            "spark-3.2.3-bin-hadoop3.2/python/pyspark/pandas/tests/test_dataframe_conversion.py\n",
            "spark-3.2.3-bin-hadoop3.2/python/pyspark/pandas/tests/test_dataframe_spark_io.py\n",
            "spark-3.2.3-bin-hadoop3.2/python/pyspark/pandas/tests/test_default_index.py\n",
            "spark-3.2.3-bin-hadoop3.2/python/pyspark/pandas/tests/test_expanding.py\n",
            "spark-3.2.3-bin-hadoop3.2/python/pyspark/pandas/tests/test_extension.py\n",
            "spark-3.2.3-bin-hadoop3.2/python/pyspark/pandas/tests/test_frame_spark.py\n",
            "spark-3.2.3-bin-hadoop3.2/python/pyspark/pandas/tests/test_groupby.py\n",
            "spark-3.2.3-bin-hadoop3.2/python/pyspark/pandas/tests/test_indexing.py\n",
            "spark-3.2.3-bin-hadoop3.2/python/pyspark/pandas/tests/test_indexops_spark.py\n",
            "spark-3.2.3-bin-hadoop3.2/python/pyspark/pandas/tests/test_internal.py\n",
            "spark-3.2.3-bin-hadoop3.2/python/pyspark/pandas/tests/test_namespace.py\n",
            "spark-3.2.3-bin-hadoop3.2/python/pyspark/pandas/tests/test_numpy_compat.py\n",
            "spark-3.2.3-bin-hadoop3.2/python/pyspark/pandas/tests/test_ops_on_diff_frames.py\n",
            "spark-3.2.3-bin-hadoop3.2/python/pyspark/pandas/tests/test_ops_on_diff_frames_groupby.py\n",
            "spark-3.2.3-bin-hadoop3.2/python/pyspark/pandas/tests/test_ops_on_diff_frames_groupby_expanding.py\n",
            "spark-3.2.3-bin-hadoop3.2/python/pyspark/pandas/tests/test_ops_on_diff_frames_groupby_rolling.py\n",
            "spark-3.2.3-bin-hadoop3.2/python/pyspark/pandas/tests/test_repr.py\n",
            "spark-3.2.3-bin-hadoop3.2/python/pyspark/pandas/tests/test_reshape.py\n",
            "spark-3.2.3-bin-hadoop3.2/python/pyspark/pandas/tests/test_rolling.py\n",
            "spark-3.2.3-bin-hadoop3.2/python/pyspark/pandas/tests/test_series.py\n",
            "spark-3.2.3-bin-hadoop3.2/python/pyspark/pandas/tests/test_series_conversion.py\n",
            "spark-3.2.3-bin-hadoop3.2/python/pyspark/pandas/tests/test_series_datetime.py\n",
            "spark-3.2.3-bin-hadoop3.2/python/pyspark/pandas/tests/test_series_string.py\n",
            "spark-3.2.3-bin-hadoop3.2/python/pyspark/pandas/tests/test_spark_functions.py\n",
            "spark-3.2.3-bin-hadoop3.2/python/pyspark/pandas/tests/test_sql.py\n",
            "spark-3.2.3-bin-hadoop3.2/python/pyspark/pandas/tests/test_stats.py\n",
            "spark-3.2.3-bin-hadoop3.2/python/pyspark/pandas/tests/test_typedef.py\n",
            "spark-3.2.3-bin-hadoop3.2/python/pyspark/pandas/tests/test_utils.py\n",
            "spark-3.2.3-bin-hadoop3.2/python/pyspark/pandas/tests/test_window.py\n",
            "spark-3.2.3-bin-hadoop3.2/python/pyspark/pandas/typedef/\n",
            "spark-3.2.3-bin-hadoop3.2/python/pyspark/pandas/typedef/__init__.py\n",
            "spark-3.2.3-bin-hadoop3.2/python/pyspark/pandas/typedef/string_typehints.py\n",
            "spark-3.2.3-bin-hadoop3.2/python/pyspark/pandas/typedef/typehints.py\n",
            "spark-3.2.3-bin-hadoop3.2/python/pyspark/pandas/usage_logging/\n",
            "spark-3.2.3-bin-hadoop3.2/python/pyspark/pandas/usage_logging/__init__.py\n",
            "spark-3.2.3-bin-hadoop3.2/python/pyspark/pandas/usage_logging/usage_logger.py\n",
            "spark-3.2.3-bin-hadoop3.2/python/pyspark/pandas/utils.py\n",
            "spark-3.2.3-bin-hadoop3.2/python/pyspark/pandas/window.py\n",
            "spark-3.2.3-bin-hadoop3.2/python/pyspark/profiler.py\n",
            "spark-3.2.3-bin-hadoop3.2/python/pyspark/profiler.pyi\n",
            "spark-3.2.3-bin-hadoop3.2/python/pyspark/py.typed\n",
            "spark-3.2.3-bin-hadoop3.2/python/pyspark/python/\n",
            "spark-3.2.3-bin-hadoop3.2/python/pyspark/python/pyspark/\n",
            "spark-3.2.3-bin-hadoop3.2/python/pyspark/python/pyspark/shell.py\n",
            "spark-3.2.3-bin-hadoop3.2/python/pyspark/rdd.py\n",
            "spark-3.2.3-bin-hadoop3.2/python/pyspark/rdd.pyi\n",
            "spark-3.2.3-bin-hadoop3.2/python/pyspark/rddsampler.py\n",
            "spark-3.2.3-bin-hadoop3.2/python/pyspark/resource/\n",
            "spark-3.2.3-bin-hadoop3.2/python/pyspark/resource/__init__.py\n",
            "spark-3.2.3-bin-hadoop3.2/python/pyspark/resource/information.py\n",
            "spark-3.2.3-bin-hadoop3.2/python/pyspark/resource/information.pyi\n",
            "spark-3.2.3-bin-hadoop3.2/python/pyspark/resource/profile.py\n",
            "spark-3.2.3-bin-hadoop3.2/python/pyspark/resource/profile.pyi\n",
            "spark-3.2.3-bin-hadoop3.2/python/pyspark/resource/requests.py\n",
            "spark-3.2.3-bin-hadoop3.2/python/pyspark/resource/requests.pyi\n",
            "spark-3.2.3-bin-hadoop3.2/python/pyspark/resource/tests/\n",
            "spark-3.2.3-bin-hadoop3.2/python/pyspark/resource/tests/__init__.py\n",
            "spark-3.2.3-bin-hadoop3.2/python/pyspark/resource/tests/test_resources.py\n",
            "spark-3.2.3-bin-hadoop3.2/python/pyspark/resultiterable.py\n",
            "spark-3.2.3-bin-hadoop3.2/python/pyspark/resultiterable.pyi\n",
            "spark-3.2.3-bin-hadoop3.2/python/pyspark/serializers.py\n",
            "spark-3.2.3-bin-hadoop3.2/python/pyspark/shell.py\n",
            "spark-3.2.3-bin-hadoop3.2/python/pyspark/shuffle.py\n",
            "spark-3.2.3-bin-hadoop3.2/python/pyspark/sql/\n",
            "spark-3.2.3-bin-hadoop3.2/python/pyspark/sql/__init__.py\n",
            "spark-3.2.3-bin-hadoop3.2/python/pyspark/sql/__init__.pyi\n",
            "spark-3.2.3-bin-hadoop3.2/python/pyspark/sql/_typing.pyi\n",
            "spark-3.2.3-bin-hadoop3.2/python/pyspark/sql/avro/\n",
            "spark-3.2.3-bin-hadoop3.2/python/pyspark/sql/avro/__init__.py\n",
            "spark-3.2.3-bin-hadoop3.2/python/pyspark/sql/avro/functions.py\n",
            "spark-3.2.3-bin-hadoop3.2/python/pyspark/sql/avro/functions.pyi\n",
            "spark-3.2.3-bin-hadoop3.2/python/pyspark/sql/catalog.py\n",
            "spark-3.2.3-bin-hadoop3.2/python/pyspark/sql/catalog.pyi\n",
            "spark-3.2.3-bin-hadoop3.2/python/pyspark/sql/column.py\n",
            "spark-3.2.3-bin-hadoop3.2/python/pyspark/sql/column.pyi\n",
            "spark-3.2.3-bin-hadoop3.2/python/pyspark/sql/conf.py\n",
            "spark-3.2.3-bin-hadoop3.2/python/pyspark/sql/conf.pyi\n",
            "spark-3.2.3-bin-hadoop3.2/python/pyspark/sql/context.py\n",
            "spark-3.2.3-bin-hadoop3.2/python/pyspark/sql/context.pyi\n",
            "spark-3.2.3-bin-hadoop3.2/python/pyspark/sql/dataframe.py\n",
            "spark-3.2.3-bin-hadoop3.2/python/pyspark/sql/dataframe.pyi\n",
            "spark-3.2.3-bin-hadoop3.2/python/pyspark/sql/functions.py\n",
            "spark-3.2.3-bin-hadoop3.2/python/pyspark/sql/functions.pyi\n",
            "spark-3.2.3-bin-hadoop3.2/python/pyspark/sql/group.py\n",
            "spark-3.2.3-bin-hadoop3.2/python/pyspark/sql/group.pyi\n",
            "spark-3.2.3-bin-hadoop3.2/python/pyspark/sql/pandas/\n",
            "spark-3.2.3-bin-hadoop3.2/python/pyspark/sql/pandas/__init__.py\n",
            "spark-3.2.3-bin-hadoop3.2/python/pyspark/sql/pandas/_typing/\n",
            "spark-3.2.3-bin-hadoop3.2/python/pyspark/sql/pandas/_typing/__init__.pyi\n",
            "spark-3.2.3-bin-hadoop3.2/python/pyspark/sql/pandas/_typing/protocols/\n",
            "spark-3.2.3-bin-hadoop3.2/python/pyspark/sql/pandas/_typing/protocols/__init__.pyi\n",
            "spark-3.2.3-bin-hadoop3.2/python/pyspark/sql/pandas/_typing/protocols/frame.pyi\n",
            "spark-3.2.3-bin-hadoop3.2/python/pyspark/sql/pandas/_typing/protocols/series.pyi\n",
            "spark-3.2.3-bin-hadoop3.2/python/pyspark/sql/pandas/conversion.py\n",
            "spark-3.2.3-bin-hadoop3.2/python/pyspark/sql/pandas/conversion.pyi\n",
            "spark-3.2.3-bin-hadoop3.2/python/pyspark/sql/pandas/functions.py\n",
            "spark-3.2.3-bin-hadoop3.2/python/pyspark/sql/pandas/functions.pyi\n",
            "spark-3.2.3-bin-hadoop3.2/python/pyspark/sql/pandas/group_ops.py\n",
            "spark-3.2.3-bin-hadoop3.2/python/pyspark/sql/pandas/group_ops.pyi\n",
            "spark-3.2.3-bin-hadoop3.2/python/pyspark/sql/pandas/map_ops.py\n",
            "spark-3.2.3-bin-hadoop3.2/python/pyspark/sql/pandas/map_ops.pyi\n",
            "spark-3.2.3-bin-hadoop3.2/python/pyspark/sql/pandas/serializers.py\n",
            "spark-3.2.3-bin-hadoop3.2/python/pyspark/sql/pandas/typehints.py\n",
            "spark-3.2.3-bin-hadoop3.2/python/pyspark/sql/pandas/types.py\n",
            "spark-3.2.3-bin-hadoop3.2/python/pyspark/sql/pandas/utils.py\n",
            "spark-3.2.3-bin-hadoop3.2/python/pyspark/sql/readwriter.py\n",
            "spark-3.2.3-bin-hadoop3.2/python/pyspark/sql/readwriter.pyi\n",
            "spark-3.2.3-bin-hadoop3.2/python/pyspark/sql/session.py\n",
            "spark-3.2.3-bin-hadoop3.2/python/pyspark/sql/session.pyi\n",
            "spark-3.2.3-bin-hadoop3.2/python/pyspark/sql/streaming.py\n",
            "spark-3.2.3-bin-hadoop3.2/python/pyspark/sql/streaming.pyi\n",
            "spark-3.2.3-bin-hadoop3.2/python/pyspark/sql/tests/\n",
            "spark-3.2.3-bin-hadoop3.2/python/pyspark/sql/tests/__init__.py\n",
            "spark-3.2.3-bin-hadoop3.2/python/pyspark/sql/tests/test_arrow.py\n",
            "spark-3.2.3-bin-hadoop3.2/python/pyspark/sql/tests/test_catalog.py\n",
            "spark-3.2.3-bin-hadoop3.2/python/pyspark/sql/tests/test_column.py\n",
            "spark-3.2.3-bin-hadoop3.2/python/pyspark/sql/tests/test_conf.py\n",
            "spark-3.2.3-bin-hadoop3.2/python/pyspark/sql/tests/test_context.py\n",
            "spark-3.2.3-bin-hadoop3.2/python/pyspark/sql/tests/test_dataframe.py\n",
            "spark-3.2.3-bin-hadoop3.2/python/pyspark/sql/tests/test_datasources.py\n",
            "spark-3.2.3-bin-hadoop3.2/python/pyspark/sql/tests/test_functions.py\n",
            "spark-3.2.3-bin-hadoop3.2/python/pyspark/sql/tests/test_group.py\n",
            "spark-3.2.3-bin-hadoop3.2/python/pyspark/sql/tests/test_pandas_cogrouped_map.py\n",
            "spark-3.2.3-bin-hadoop3.2/python/pyspark/sql/tests/test_pandas_grouped_map.py\n",
            "spark-3.2.3-bin-hadoop3.2/python/pyspark/sql/tests/test_pandas_map.py\n",
            "spark-3.2.3-bin-hadoop3.2/python/pyspark/sql/tests/test_pandas_udf.py\n",
            "spark-3.2.3-bin-hadoop3.2/python/pyspark/sql/tests/test_pandas_udf_grouped_agg.py\n",
            "spark-3.2.3-bin-hadoop3.2/python/pyspark/sql/tests/test_pandas_udf_scalar.py\n",
            "spark-3.2.3-bin-hadoop3.2/python/pyspark/sql/tests/test_pandas_udf_typehints.py\n",
            "spark-3.2.3-bin-hadoop3.2/python/pyspark/sql/tests/test_pandas_udf_window.py\n",
            "spark-3.2.3-bin-hadoop3.2/python/pyspark/sql/tests/test_readwriter.py\n",
            "spark-3.2.3-bin-hadoop3.2/python/pyspark/sql/tests/test_serde.py\n",
            "spark-3.2.3-bin-hadoop3.2/python/pyspark/sql/tests/test_session.py\n",
            "spark-3.2.3-bin-hadoop3.2/python/pyspark/sql/tests/test_streaming.py\n",
            "spark-3.2.3-bin-hadoop3.2/python/pyspark/sql/tests/test_types.py\n",
            "spark-3.2.3-bin-hadoop3.2/python/pyspark/sql/tests/test_udf.py\n",
            "spark-3.2.3-bin-hadoop3.2/python/pyspark/sql/tests/test_utils.py\n",
            "spark-3.2.3-bin-hadoop3.2/python/pyspark/sql/types.py\n",
            "spark-3.2.3-bin-hadoop3.2/python/pyspark/sql/types.pyi\n",
            "spark-3.2.3-bin-hadoop3.2/python/pyspark/sql/udf.py\n",
            "spark-3.2.3-bin-hadoop3.2/python/pyspark/sql/udf.pyi\n",
            "spark-3.2.3-bin-hadoop3.2/python/pyspark/sql/utils.py\n",
            "spark-3.2.3-bin-hadoop3.2/python/pyspark/sql/window.py\n",
            "spark-3.2.3-bin-hadoop3.2/python/pyspark/sql/window.pyi\n",
            "spark-3.2.3-bin-hadoop3.2/python/pyspark/statcounter.py\n",
            "spark-3.2.3-bin-hadoop3.2/python/pyspark/statcounter.pyi\n",
            "spark-3.2.3-bin-hadoop3.2/python/pyspark/status.py\n",
            "spark-3.2.3-bin-hadoop3.2/python/pyspark/status.pyi\n",
            "spark-3.2.3-bin-hadoop3.2/python/pyspark/storagelevel.py\n",
            "spark-3.2.3-bin-hadoop3.2/python/pyspark/storagelevel.pyi\n",
            "spark-3.2.3-bin-hadoop3.2/python/pyspark/streaming/\n",
            "spark-3.2.3-bin-hadoop3.2/python/pyspark/streaming/__init__.py\n",
            "spark-3.2.3-bin-hadoop3.2/python/pyspark/streaming/context.py\n",
            "spark-3.2.3-bin-hadoop3.2/python/pyspark/streaming/context.pyi\n",
            "spark-3.2.3-bin-hadoop3.2/python/pyspark/streaming/dstream.py\n",
            "spark-3.2.3-bin-hadoop3.2/python/pyspark/streaming/dstream.pyi\n",
            "spark-3.2.3-bin-hadoop3.2/python/pyspark/streaming/kinesis.py\n",
            "spark-3.2.3-bin-hadoop3.2/python/pyspark/streaming/kinesis.pyi\n",
            "spark-3.2.3-bin-hadoop3.2/python/pyspark/streaming/listener.py\n",
            "spark-3.2.3-bin-hadoop3.2/python/pyspark/streaming/listener.pyi\n",
            "spark-3.2.3-bin-hadoop3.2/python/pyspark/streaming/tests/\n",
            "spark-3.2.3-bin-hadoop3.2/python/pyspark/streaming/tests/__init__.py\n",
            "spark-3.2.3-bin-hadoop3.2/python/pyspark/streaming/tests/test_context.py\n",
            "spark-3.2.3-bin-hadoop3.2/python/pyspark/streaming/tests/test_dstream.py\n",
            "spark-3.2.3-bin-hadoop3.2/python/pyspark/streaming/tests/test_kinesis.py\n",
            "spark-3.2.3-bin-hadoop3.2/python/pyspark/streaming/tests/test_listener.py\n",
            "spark-3.2.3-bin-hadoop3.2/python/pyspark/streaming/util.py\n",
            "spark-3.2.3-bin-hadoop3.2/python/pyspark/taskcontext.py\n",
            "spark-3.2.3-bin-hadoop3.2/python/pyspark/taskcontext.pyi\n",
            "spark-3.2.3-bin-hadoop3.2/python/pyspark/testing/\n",
            "spark-3.2.3-bin-hadoop3.2/python/pyspark/testing/__init__.py\n",
            "spark-3.2.3-bin-hadoop3.2/python/pyspark/testing/mllibutils.py\n",
            "spark-3.2.3-bin-hadoop3.2/python/pyspark/testing/mlutils.py\n",
            "spark-3.2.3-bin-hadoop3.2/python/pyspark/testing/pandasutils.py\n",
            "spark-3.2.3-bin-hadoop3.2/python/pyspark/testing/sqlutils.py\n",
            "spark-3.2.3-bin-hadoop3.2/python/pyspark/testing/streamingutils.py\n",
            "spark-3.2.3-bin-hadoop3.2/python/pyspark/testing/utils.py\n",
            "spark-3.2.3-bin-hadoop3.2/python/pyspark/tests/\n",
            "spark-3.2.3-bin-hadoop3.2/python/pyspark/tests/__init__.py\n",
            "spark-3.2.3-bin-hadoop3.2/python/pyspark/tests/test_appsubmit.py\n",
            "spark-3.2.3-bin-hadoop3.2/python/pyspark/tests/test_broadcast.py\n",
            "spark-3.2.3-bin-hadoop3.2/python/pyspark/tests/test_conf.py\n",
            "spark-3.2.3-bin-hadoop3.2/python/pyspark/tests/test_context.py\n",
            "spark-3.2.3-bin-hadoop3.2/python/pyspark/tests/test_daemon.py\n",
            "spark-3.2.3-bin-hadoop3.2/python/pyspark/tests/test_install_spark.py\n",
            "spark-3.2.3-bin-hadoop3.2/python/pyspark/tests/test_join.py\n",
            "spark-3.2.3-bin-hadoop3.2/python/pyspark/tests/test_pin_thread.py\n",
            "spark-3.2.3-bin-hadoop3.2/python/pyspark/tests/test_profiler.py\n",
            "spark-3.2.3-bin-hadoop3.2/python/pyspark/tests/test_rdd.py\n",
            "spark-3.2.3-bin-hadoop3.2/python/pyspark/tests/test_rddbarrier.py\n",
            "spark-3.2.3-bin-hadoop3.2/python/pyspark/tests/test_readwrite.py\n",
            "spark-3.2.3-bin-hadoop3.2/python/pyspark/tests/test_serializers.py\n",
            "spark-3.2.3-bin-hadoop3.2/python/pyspark/tests/test_shuffle.py\n",
            "spark-3.2.3-bin-hadoop3.2/python/pyspark/tests/test_taskcontext.py\n",
            "spark-3.2.3-bin-hadoop3.2/python/pyspark/tests/test_util.py\n",
            "spark-3.2.3-bin-hadoop3.2/python/pyspark/tests/test_worker.py\n",
            "spark-3.2.3-bin-hadoop3.2/python/pyspark/traceback_utils.py\n",
            "spark-3.2.3-bin-hadoop3.2/python/pyspark/util.py\n",
            "spark-3.2.3-bin-hadoop3.2/python/pyspark/util.pyi\n",
            "spark-3.2.3-bin-hadoop3.2/python/pyspark/version.py\n",
            "spark-3.2.3-bin-hadoop3.2/python/pyspark/version.pyi\n",
            "spark-3.2.3-bin-hadoop3.2/python/pyspark/worker.py\n",
            "spark-3.2.3-bin-hadoop3.2/python/pyspark.egg-info/\n",
            "spark-3.2.3-bin-hadoop3.2/python/pyspark.egg-info/PKG-INFO\n",
            "spark-3.2.3-bin-hadoop3.2/python/pyspark.egg-info/SOURCES.txt\n",
            "spark-3.2.3-bin-hadoop3.2/python/pyspark.egg-info/dependency_links.txt\n",
            "spark-3.2.3-bin-hadoop3.2/python/pyspark.egg-info/requires.txt\n",
            "spark-3.2.3-bin-hadoop3.2/python/pyspark.egg-info/top_level.txt\n",
            "spark-3.2.3-bin-hadoop3.2/python/run-tests\n",
            "spark-3.2.3-bin-hadoop3.2/python/run-tests-with-coverage\n",
            "spark-3.2.3-bin-hadoop3.2/python/run-tests.py\n",
            "spark-3.2.3-bin-hadoop3.2/python/setup.cfg\n",
            "spark-3.2.3-bin-hadoop3.2/python/setup.py\n",
            "spark-3.2.3-bin-hadoop3.2/python/test_coverage/\n",
            "spark-3.2.3-bin-hadoop3.2/python/test_coverage/conf/\n",
            "spark-3.2.3-bin-hadoop3.2/python/test_coverage/conf/spark-defaults.conf\n",
            "spark-3.2.3-bin-hadoop3.2/python/test_coverage/coverage_daemon.py\n",
            "spark-3.2.3-bin-hadoop3.2/python/test_coverage/sitecustomize.py\n",
            "spark-3.2.3-bin-hadoop3.2/python/test_support/\n",
            "spark-3.2.3-bin-hadoop3.2/python/test_support/SimpleHTTPServer.py\n",
            "spark-3.2.3-bin-hadoop3.2/python/test_support/hello/\n",
            "spark-3.2.3-bin-hadoop3.2/python/test_support/hello/hello.txt\n",
            "spark-3.2.3-bin-hadoop3.2/python/test_support/hello/sub_hello/\n",
            "spark-3.2.3-bin-hadoop3.2/python/test_support/hello/sub_hello/sub_hello.txt\n",
            "spark-3.2.3-bin-hadoop3.2/python/test_support/sql/\n",
            "spark-3.2.3-bin-hadoop3.2/python/test_support/sql/ages.csv\n",
            "spark-3.2.3-bin-hadoop3.2/python/test_support/sql/ages_newlines.csv\n",
            "spark-3.2.3-bin-hadoop3.2/python/test_support/sql/orc_partitioned/\n",
            "spark-3.2.3-bin-hadoop3.2/python/test_support/sql/orc_partitioned/_SUCCESS\n",
            "spark-3.2.3-bin-hadoop3.2/python/test_support/sql/orc_partitioned/b=0/\n",
            "spark-3.2.3-bin-hadoop3.2/python/test_support/sql/orc_partitioned/b=0/c=0/\n",
            "spark-3.2.3-bin-hadoop3.2/python/test_support/sql/orc_partitioned/b=0/c=0/.part-r-00000-829af031-b970-49d6-ad39-30460a0be2c8.orc.crc\n",
            "spark-3.2.3-bin-hadoop3.2/python/test_support/sql/orc_partitioned/b=0/c=0/part-r-00000-829af031-b970-49d6-ad39-30460a0be2c8.orc\n",
            "spark-3.2.3-bin-hadoop3.2/python/test_support/sql/orc_partitioned/b=1/\n",
            "spark-3.2.3-bin-hadoop3.2/python/test_support/sql/orc_partitioned/b=1/c=1/\n",
            "spark-3.2.3-bin-hadoop3.2/python/test_support/sql/orc_partitioned/b=1/c=1/.part-r-00000-829af031-b970-49d6-ad39-30460a0be2c8.orc.crc\n",
            "spark-3.2.3-bin-hadoop3.2/python/test_support/sql/orc_partitioned/b=1/c=1/part-r-00000-829af031-b970-49d6-ad39-30460a0be2c8.orc\n",
            "spark-3.2.3-bin-hadoop3.2/python/test_support/sql/parquet_partitioned/\n",
            "spark-3.2.3-bin-hadoop3.2/python/test_support/sql/parquet_partitioned/_SUCCESS\n",
            "spark-3.2.3-bin-hadoop3.2/python/test_support/sql/parquet_partitioned/_common_metadata\n",
            "spark-3.2.3-bin-hadoop3.2/python/test_support/sql/parquet_partitioned/_metadata\n",
            "spark-3.2.3-bin-hadoop3.2/python/test_support/sql/parquet_partitioned/year=2014/\n",
            "spark-3.2.3-bin-hadoop3.2/python/test_support/sql/parquet_partitioned/year=2014/month=9/\n",
            "spark-3.2.3-bin-hadoop3.2/python/test_support/sql/parquet_partitioned/year=2014/month=9/day=1/\n",
            "spark-3.2.3-bin-hadoop3.2/python/test_support/sql/parquet_partitioned/year=2014/month=9/day=1/.part-r-00008.gz.parquet.crc\n",
            "spark-3.2.3-bin-hadoop3.2/python/test_support/sql/parquet_partitioned/year=2014/month=9/day=1/part-r-00008.gz.parquet\n",
            "spark-3.2.3-bin-hadoop3.2/python/test_support/sql/parquet_partitioned/year=2015/\n",
            "spark-3.2.3-bin-hadoop3.2/python/test_support/sql/parquet_partitioned/year=2015/month=10/\n",
            "spark-3.2.3-bin-hadoop3.2/python/test_support/sql/parquet_partitioned/year=2015/month=10/day=25/\n",
            "spark-3.2.3-bin-hadoop3.2/python/test_support/sql/parquet_partitioned/year=2015/month=10/day=25/.part-r-00002.gz.parquet.crc\n",
            "spark-3.2.3-bin-hadoop3.2/python/test_support/sql/parquet_partitioned/year=2015/month=10/day=25/.part-r-00004.gz.parquet.crc\n",
            "spark-3.2.3-bin-hadoop3.2/python/test_support/sql/parquet_partitioned/year=2015/month=10/day=25/part-r-00002.gz.parquet\n",
            "spark-3.2.3-bin-hadoop3.2/python/test_support/sql/parquet_partitioned/year=2015/month=10/day=25/part-r-00004.gz.parquet\n",
            "spark-3.2.3-bin-hadoop3.2/python/test_support/sql/parquet_partitioned/year=2015/month=10/day=26/\n",
            "spark-3.2.3-bin-hadoop3.2/python/test_support/sql/parquet_partitioned/year=2015/month=10/day=26/.part-r-00005.gz.parquet.crc\n",
            "spark-3.2.3-bin-hadoop3.2/python/test_support/sql/parquet_partitioned/year=2015/month=10/day=26/part-r-00005.gz.parquet\n",
            "spark-3.2.3-bin-hadoop3.2/python/test_support/sql/parquet_partitioned/year=2015/month=9/\n",
            "spark-3.2.3-bin-hadoop3.2/python/test_support/sql/parquet_partitioned/year=2015/month=9/day=1/\n",
            "spark-3.2.3-bin-hadoop3.2/python/test_support/sql/parquet_partitioned/year=2015/month=9/day=1/.part-r-00007.gz.parquet.crc\n",
            "spark-3.2.3-bin-hadoop3.2/python/test_support/sql/parquet_partitioned/year=2015/month=9/day=1/part-r-00007.gz.parquet\n",
            "spark-3.2.3-bin-hadoop3.2/python/test_support/sql/people.json\n",
            "spark-3.2.3-bin-hadoop3.2/python/test_support/sql/people1.json\n",
            "spark-3.2.3-bin-hadoop3.2/python/test_support/sql/people_array.json\n",
            "spark-3.2.3-bin-hadoop3.2/python/test_support/sql/people_array_utf16le.json\n",
            "spark-3.2.3-bin-hadoop3.2/python/test_support/sql/streaming/\n",
            "spark-3.2.3-bin-hadoop3.2/python/test_support/sql/streaming/text-test.txt\n",
            "spark-3.2.3-bin-hadoop3.2/python/test_support/sql/text-test.txt\n",
            "spark-3.2.3-bin-hadoop3.2/python/test_support/userlib-0.1.zip\n",
            "spark-3.2.3-bin-hadoop3.2/python/test_support/userlibrary.py\n",
            "spark-3.2.3-bin-hadoop3.2/sbin/\n",
            "spark-3.2.3-bin-hadoop3.2/sbin/decommission-slave.sh\n",
            "spark-3.2.3-bin-hadoop3.2/sbin/decommission-worker.sh\n",
            "spark-3.2.3-bin-hadoop3.2/sbin/slaves.sh\n",
            "spark-3.2.3-bin-hadoop3.2/sbin/spark-config.sh\n",
            "spark-3.2.3-bin-hadoop3.2/sbin/spark-daemon.sh\n",
            "spark-3.2.3-bin-hadoop3.2/sbin/spark-daemons.sh\n",
            "spark-3.2.3-bin-hadoop3.2/sbin/start-all.sh\n",
            "spark-3.2.3-bin-hadoop3.2/sbin/start-history-server.sh\n",
            "spark-3.2.3-bin-hadoop3.2/sbin/start-master.sh\n",
            "spark-3.2.3-bin-hadoop3.2/sbin/start-mesos-dispatcher.sh\n",
            "spark-3.2.3-bin-hadoop3.2/sbin/start-mesos-shuffle-service.sh\n",
            "spark-3.2.3-bin-hadoop3.2/sbin/start-slave.sh\n",
            "spark-3.2.3-bin-hadoop3.2/sbin/start-slaves.sh\n",
            "spark-3.2.3-bin-hadoop3.2/sbin/start-thriftserver.sh\n",
            "spark-3.2.3-bin-hadoop3.2/sbin/start-worker.sh\n",
            "spark-3.2.3-bin-hadoop3.2/sbin/start-workers.sh\n",
            "spark-3.2.3-bin-hadoop3.2/sbin/stop-all.sh\n",
            "spark-3.2.3-bin-hadoop3.2/sbin/stop-history-server.sh\n",
            "spark-3.2.3-bin-hadoop3.2/sbin/stop-master.sh\n",
            "spark-3.2.3-bin-hadoop3.2/sbin/stop-mesos-dispatcher.sh\n",
            "spark-3.2.3-bin-hadoop3.2/sbin/stop-mesos-shuffle-service.sh\n",
            "spark-3.2.3-bin-hadoop3.2/sbin/stop-slave.sh\n",
            "spark-3.2.3-bin-hadoop3.2/sbin/stop-slaves.sh\n",
            "spark-3.2.3-bin-hadoop3.2/sbin/stop-thriftserver.sh\n",
            "spark-3.2.3-bin-hadoop3.2/sbin/stop-worker.sh\n",
            "spark-3.2.3-bin-hadoop3.2/sbin/stop-workers.sh\n",
            "spark-3.2.3-bin-hadoop3.2/sbin/workers.sh\n",
            "spark-3.2.3-bin-hadoop3.2/yarn/\n",
            "spark-3.2.3-bin-hadoop3.2/yarn/spark-3.2.3-yarn-shuffle.jar\n"
          ]
        }
      ]
    },
    {
      "cell_type": "code",
      "source": [
        "\n",
        "# Install findspark: Adds Pyspark to sys.path at runtime\n",
        "!pip install -q findspark\n",
        "\n",
        "# Install pyspark\n",
        "!pip install pyspark"
      ],
      "metadata": {
        "colab": {
          "base_uri": "https://localhost:8080/"
        },
        "id": "vWqrNEwHbb2B",
        "outputId": "7f17860d-6545-4845-a98a-14f9aef1806a"
      },
      "execution_count": null,
      "outputs": [
        {
          "output_type": "stream",
          "name": "stdout",
          "text": [
            "Looking in indexes: https://pypi.org/simple, https://us-python.pkg.dev/colab-wheels/public/simple/\n",
            "Collecting pyspark\n",
            "  Downloading pyspark-3.3.2.tar.gz (281.4 MB)\n",
            "\u001b[2K     \u001b[90m━━━━━━━━━━━━━━━━━━━━━━━━━━━━━━━━━━━━━━━\u001b[0m \u001b[32m281.4/281.4 MB\u001b[0m \u001b[31m4.9 MB/s\u001b[0m eta \u001b[36m0:00:00\u001b[0m\n",
            "\u001b[?25h  Preparing metadata (setup.py) ... \u001b[?25l\u001b[?25hdone\n",
            "Collecting py4j==0.10.9.5\n",
            "  Downloading py4j-0.10.9.5-py2.py3-none-any.whl (199 kB)\n",
            "\u001b[2K     \u001b[90m━━━━━━━━━━━━━━━━━━━━━━━━━━━━━━━━━━━━━━\u001b[0m \u001b[32m199.7/199.7 KB\u001b[0m \u001b[31m19.8 MB/s\u001b[0m eta \u001b[36m0:00:00\u001b[0m\n",
            "\u001b[?25hBuilding wheels for collected packages: pyspark\n",
            "  Building wheel for pyspark (setup.py) ... \u001b[?25l\u001b[?25hdone\n",
            "  Created wheel for pyspark: filename=pyspark-3.3.2-py2.py3-none-any.whl size=281824025 sha256=cea54b49b0d28921bca9fd5cf22223a43200d1be6b6cd0367da7543899c0ebf6\n",
            "  Stored in directory: /root/.cache/pip/wheels/6c/e3/9b/0525ce8a69478916513509d43693511463c6468db0de237c86\n",
            "Successfully built pyspark\n",
            "Installing collected packages: py4j, pyspark\n",
            "Successfully installed py4j-0.10.9.5 pyspark-3.3.2\n"
          ]
        }
      ]
    },
    {
      "cell_type": "code",
      "source": [
        "import findspark\n",
        "findspark.init()"
      ],
      "metadata": {
        "id": "yWLGEvUvbp3T"
      },
      "execution_count": null,
      "outputs": []
    },
    {
      "cell_type": "code",
      "source": [
        "from pyspark.sql import SparkSession\n",
        "\n",
        "spark = SparkSession.builder \\\n",
        "        .master(\"local\") \\\n",
        "        .appName(\"Hands-on PySpark on Google Colab\") \\\n",
        "        .getOrCreate()"
      ],
      "metadata": {
        "id": "GTPgoLCMb6z0"
      },
      "execution_count": null,
      "outputs": []
    },
    {
      "cell_type": "code",
      "source": [
        "spark"
      ],
      "metadata": {
        "colab": {
          "base_uri": "https://localhost:8080/",
          "height": 219
        },
        "id": "KSh79joKb_Y8",
        "outputId": "f615320f-d43f-4ca6-9768-fd9a50ad1a14"
      },
      "execution_count": null,
      "outputs": [
        {
          "output_type": "execute_result",
          "data": {
            "text/plain": [
              "<pyspark.sql.session.SparkSession at 0x7ff90ceffc70>"
            ],
            "text/html": [
              "\n",
              "            <div>\n",
              "                <p><b>SparkSession - in-memory</b></p>\n",
              "                \n",
              "        <div>\n",
              "            <p><b>SparkContext</b></p>\n",
              "\n",
              "            <p><a href=\"http://5bf6ac454fdb:4040\">Spark UI</a></p>\n",
              "\n",
              "            <dl>\n",
              "              <dt>Version</dt>\n",
              "                <dd><code>v3.3.2</code></dd>\n",
              "              <dt>Master</dt>\n",
              "                <dd><code>local</code></dd>\n",
              "              <dt>AppName</dt>\n",
              "                <dd><code>Hands-on PySpark on Google Colab</code></dd>\n",
              "            </dl>\n",
              "        </div>\n",
              "        \n",
              "            </div>\n",
              "        "
            ]
          },
          "metadata": {},
          "execution_count": 8
        }
      ]
    },
    {
      "cell_type": "code",
      "source": [
        "spark.sparkContext"
      ],
      "metadata": {
        "colab": {
          "base_uri": "https://localhost:8080/",
          "height": 196
        },
        "id": "y6cwhPEocE0V",
        "outputId": "cd3bf7e3-c79c-4e54-f0a8-968103ab13ec"
      },
      "execution_count": null,
      "outputs": [
        {
          "output_type": "execute_result",
          "data": {
            "text/plain": [
              "<SparkContext master=local appName=Hands-on PySpark on Google Colab>"
            ],
            "text/html": [
              "\n",
              "        <div>\n",
              "            <p><b>SparkContext</b></p>\n",
              "\n",
              "            <p><a href=\"http://5bf6ac454fdb:4040\">Spark UI</a></p>\n",
              "\n",
              "            <dl>\n",
              "              <dt>Version</dt>\n",
              "                <dd><code>v3.3.2</code></dd>\n",
              "              <dt>Master</dt>\n",
              "                <dd><code>local</code></dd>\n",
              "              <dt>AppName</dt>\n",
              "                <dd><code>Hands-on PySpark on Google Colab</code></dd>\n",
              "            </dl>\n",
              "        </div>\n",
              "        "
            ]
          },
          "metadata": {},
          "execution_count": 9
        }
      ]
    },
    {
      "cell_type": "code",
      "source": [
        "# Load data\n",
        "spark_data = spark.read.format('csv').load(\"/content/sample_data/california_housing_train.csv\")"
      ],
      "metadata": {
        "id": "4_ITW_D6cPcN"
      },
      "execution_count": null,
      "outputs": []
    },
    {
      "cell_type": "code",
      "source": [
        "\n",
        "# Print the top 5 rows using .show() function\n",
        "spark_data.show(10, truncate=False)"
      ],
      "metadata": {
        "colab": {
          "base_uri": "https://localhost:8080/"
        },
        "id": "pWbAWbY2cSId",
        "outputId": "e6c9ad48-0791-47ee-eb2f-653b4e17a705"
      },
      "execution_count": null,
      "outputs": [
        {
          "output_type": "stream",
          "name": "stdout",
          "text": [
            "+-----------+---------+------------------+-----------+--------------+-----------+-----------+-------------+------------------+\n",
            "|_c0        |_c1      |_c2               |_c3        |_c4           |_c5        |_c6        |_c7          |_c8               |\n",
            "+-----------+---------+------------------+-----------+--------------+-----------+-----------+-------------+------------------+\n",
            "|longitude  |latitude |housing_median_age|total_rooms|total_bedrooms|population |households |median_income|median_house_value|\n",
            "|-114.310000|34.190000|15.000000         |5612.000000|1283.000000   |1015.000000|472.000000 |1.493600     |66900.000000      |\n",
            "|-114.470000|34.400000|19.000000         |7650.000000|1901.000000   |1129.000000|463.000000 |1.820000     |80100.000000      |\n",
            "|-114.560000|33.690000|17.000000         |720.000000 |174.000000    |333.000000 |117.000000 |1.650900     |85700.000000      |\n",
            "|-114.570000|33.640000|14.000000         |1501.000000|337.000000    |515.000000 |226.000000 |3.191700     |73400.000000      |\n",
            "|-114.570000|33.570000|20.000000         |1454.000000|326.000000    |624.000000 |262.000000 |1.925000     |65500.000000      |\n",
            "|-114.580000|33.630000|29.000000         |1387.000000|236.000000    |671.000000 |239.000000 |3.343800     |74000.000000      |\n",
            "|-114.580000|33.610000|25.000000         |2907.000000|680.000000    |1841.000000|633.000000 |2.676800     |82400.000000      |\n",
            "|-114.590000|34.830000|41.000000         |812.000000 |168.000000    |375.000000 |158.000000 |1.708300     |48500.000000      |\n",
            "|-114.590000|33.610000|34.000000         |4789.000000|1175.000000   |3134.000000|1056.000000|2.178200     |58400.000000      |\n",
            "+-----------+---------+------------------+-----------+--------------+-----------+-----------+-------------+------------------+\n",
            "only showing top 10 rows\n",
            "\n"
          ]
        }
      ]
    },
    {
      "cell_type": "code",
      "source": [
        "!pip install s3fs"
      ],
      "metadata": {
        "colab": {
          "base_uri": "https://localhost:8080/"
        },
        "id": "NZuGAIE2cW63",
        "outputId": "d5452dc4-c372-4088-da36-52d3bf7b7f74"
      },
      "execution_count": null,
      "outputs": [
        {
          "output_type": "stream",
          "name": "stdout",
          "text": [
            "Looking in indexes: https://pypi.org/simple, https://us-python.pkg.dev/colab-wheels/public/simple/\n",
            "Collecting s3fs\n",
            "  Downloading s3fs-2023.3.0-py3-none-any.whl (27 kB)\n",
            "Collecting aiohttp!=4.0.0a0,!=4.0.0a1\n",
            "  Downloading aiohttp-3.8.4-cp39-cp39-manylinux_2_17_x86_64.manylinux2014_x86_64.whl (1.0 MB)\n",
            "\u001b[2K     \u001b[90m━━━━━━━━━━━━━━━━━━━━━━━━━━━━━━━━━━━━━━━━\u001b[0m \u001b[32m1.0/1.0 MB\u001b[0m \u001b[31m16.6 MB/s\u001b[0m eta \u001b[36m0:00:00\u001b[0m\n",
            "\u001b[?25hCollecting aiobotocore~=2.4.2\n",
            "  Downloading aiobotocore-2.4.2-py3-none-any.whl (66 kB)\n",
            "\u001b[2K     \u001b[90m━━━━━━━━━━━━━━━━━━━━━━━━━━━━━━━━━━━━━━━━\u001b[0m \u001b[32m66.8/66.8 KB\u001b[0m \u001b[31m5.6 MB/s\u001b[0m eta \u001b[36m0:00:00\u001b[0m\n",
            "\u001b[?25hRequirement already satisfied: fsspec==2023.3.0 in /usr/local/lib/python3.9/dist-packages (from s3fs) (2023.3.0)\n",
            "Collecting botocore<1.27.60,>=1.27.59\n",
            "  Downloading botocore-1.27.59-py3-none-any.whl (9.1 MB)\n",
            "\u001b[2K     \u001b[90m━━━━━━━━━━━━━━━━━━━━━━━━━━━━━━━━━━━━━━━━\u001b[0m \u001b[32m9.1/9.1 MB\u001b[0m \u001b[31m36.6 MB/s\u001b[0m eta \u001b[36m0:00:00\u001b[0m\n",
            "\u001b[?25hCollecting aioitertools>=0.5.1\n",
            "  Downloading aioitertools-0.11.0-py3-none-any.whl (23 kB)\n",
            "Requirement already satisfied: wrapt>=1.10.10 in /usr/local/lib/python3.9/dist-packages (from aiobotocore~=2.4.2->s3fs) (1.15.0)\n",
            "Collecting frozenlist>=1.1.1\n",
            "  Downloading frozenlist-1.3.3-cp39-cp39-manylinux_2_5_x86_64.manylinux1_x86_64.manylinux_2_17_x86_64.manylinux2014_x86_64.whl (158 kB)\n",
            "\u001b[2K     \u001b[90m━━━━━━━━━━━━━━━━━━━━━━━━━━━━━━━━━━━━━━\u001b[0m \u001b[32m158.8/158.8 KB\u001b[0m \u001b[31m10.8 MB/s\u001b[0m eta \u001b[36m0:00:00\u001b[0m\n",
            "\u001b[?25hCollecting yarl<2.0,>=1.0\n",
            "  Downloading yarl-1.8.2-cp39-cp39-manylinux_2_17_x86_64.manylinux2014_x86_64.whl (264 kB)\n",
            "\u001b[2K     \u001b[90m━━━━━━━━━━━━━━━━━━━━━━━━━━━━━━━━━━━━━━\u001b[0m \u001b[32m264.6/264.6 KB\u001b[0m \u001b[31m22.4 MB/s\u001b[0m eta \u001b[36m0:00:00\u001b[0m\n",
            "\u001b[?25hCollecting multidict<7.0,>=4.5\n",
            "  Downloading multidict-6.0.4-cp39-cp39-manylinux_2_17_x86_64.manylinux2014_x86_64.whl (114 kB)\n",
            "\u001b[2K     \u001b[90m━━━━━━━━━━━━━━━━━━━━━━━━━━━━━━━━━━━━━━━\u001b[0m \u001b[32m114.2/114.2 KB\u001b[0m \u001b[31m7.1 MB/s\u001b[0m eta \u001b[36m0:00:00\u001b[0m\n",
            "\u001b[?25hCollecting aiosignal>=1.1.2\n",
            "  Downloading aiosignal-1.3.1-py3-none-any.whl (7.6 kB)\n",
            "Collecting async-timeout<5.0,>=4.0.0a3\n",
            "  Downloading async_timeout-4.0.2-py3-none-any.whl (5.8 kB)\n",
            "Collecting charset-normalizer<4.0,>=2.0\n",
            "  Downloading charset_normalizer-3.1.0-cp39-cp39-manylinux_2_17_x86_64.manylinux2014_x86_64.whl (199 kB)\n",
            "\u001b[2K     \u001b[90m━━━━━━━━━━━━━━━━━━━━━━━━━━━━━━━━━━━━━━\u001b[0m \u001b[32m199.2/199.2 KB\u001b[0m \u001b[31m21.5 MB/s\u001b[0m eta \u001b[36m0:00:00\u001b[0m\n",
            "\u001b[?25hRequirement already satisfied: attrs>=17.3.0 in /usr/local/lib/python3.9/dist-packages (from aiohttp!=4.0.0a0,!=4.0.0a1->s3fs) (22.2.0)\n",
            "Requirement already satisfied: typing_extensions>=4.0 in /usr/local/lib/python3.9/dist-packages (from aioitertools>=0.5.1->aiobotocore~=2.4.2->s3fs) (4.5.0)\n",
            "Requirement already satisfied: python-dateutil<3.0.0,>=2.1 in /usr/local/lib/python3.9/dist-packages (from botocore<1.27.60,>=1.27.59->aiobotocore~=2.4.2->s3fs) (2.8.2)\n",
            "Requirement already satisfied: urllib3<1.27,>=1.25.4 in /usr/local/lib/python3.9/dist-packages (from botocore<1.27.60,>=1.27.59->aiobotocore~=2.4.2->s3fs) (1.26.14)\n",
            "Collecting jmespath<2.0.0,>=0.7.1\n",
            "  Downloading jmespath-1.0.1-py3-none-any.whl (20 kB)\n",
            "Requirement already satisfied: idna>=2.0 in /usr/local/lib/python3.9/dist-packages (from yarl<2.0,>=1.0->aiohttp!=4.0.0a0,!=4.0.0a1->s3fs) (2.10)\n",
            "Requirement already satisfied: six>=1.5 in /usr/local/lib/python3.9/dist-packages (from python-dateutil<3.0.0,>=2.1->botocore<1.27.60,>=1.27.59->aiobotocore~=2.4.2->s3fs) (1.15.0)\n",
            "Installing collected packages: multidict, jmespath, frozenlist, charset-normalizer, async-timeout, aioitertools, yarl, botocore, aiosignal, aiohttp, aiobotocore, s3fs\n",
            "Successfully installed aiobotocore-2.4.2 aiohttp-3.8.4 aioitertools-0.11.0 aiosignal-1.3.1 async-timeout-4.0.2 botocore-1.27.59 charset-normalizer-3.1.0 frozenlist-1.3.3 jmespath-1.0.1 multidict-6.0.4 s3fs-2023.3.0 yarl-1.8.2\n"
          ]
        }
      ]
    },
    {
      "cell_type": "code",
      "source": [
        "!pip install boto3"
      ],
      "metadata": {
        "colab": {
          "base_uri": "https://localhost:8080/"
        },
        "id": "IFWV_uCQctUx",
        "outputId": "a37649a9-fa4b-469f-b46e-c6abbff3ae5f"
      },
      "execution_count": null,
      "outputs": [
        {
          "output_type": "stream",
          "name": "stdout",
          "text": [
            "Looking in indexes: https://pypi.org/simple, https://us-python.pkg.dev/colab-wheels/public/simple/\n",
            "Collecting boto3\n",
            "  Downloading boto3-1.26.90-py3-none-any.whl (134 kB)\n",
            "\u001b[2K     \u001b[90m━━━━━━━━━━━━━━━━━━━━━━━━━━━━━━━━━━━━━━━\u001b[0m \u001b[32m134.7/134.7 KB\u001b[0m \u001b[31m8.3 MB/s\u001b[0m eta \u001b[36m0:00:00\u001b[0m\n",
            "\u001b[?25hRequirement already satisfied: jmespath<2.0.0,>=0.7.1 in /usr/local/lib/python3.9/dist-packages (from boto3) (1.0.1)\n",
            "Collecting botocore<1.30.0,>=1.29.90\n",
            "  Downloading botocore-1.29.90-py3-none-any.whl (10.5 MB)\n",
            "\u001b[2K     \u001b[90m━━━━━━━━━━━━━━━━━━━━━━━━━━━━━━━━━━━━━━━━\u001b[0m \u001b[32m10.5/10.5 MB\u001b[0m \u001b[31m50.3 MB/s\u001b[0m eta \u001b[36m0:00:00\u001b[0m\n",
            "\u001b[?25hCollecting s3transfer<0.7.0,>=0.6.0\n",
            "  Downloading s3transfer-0.6.0-py3-none-any.whl (79 kB)\n",
            "\u001b[2K     \u001b[90m━━━━━━━━━━━━━━━━━━━━━━━━━━━━━━━━━━━━━━━━\u001b[0m \u001b[32m79.6/79.6 KB\u001b[0m \u001b[31m10.3 MB/s\u001b[0m eta \u001b[36m0:00:00\u001b[0m\n",
            "\u001b[?25hRequirement already satisfied: urllib3<1.27,>=1.25.4 in /usr/local/lib/python3.9/dist-packages (from botocore<1.30.0,>=1.29.90->boto3) (1.26.14)\n",
            "Requirement already satisfied: python-dateutil<3.0.0,>=2.1 in /usr/local/lib/python3.9/dist-packages (from botocore<1.30.0,>=1.29.90->boto3) (2.8.2)\n",
            "Requirement already satisfied: six>=1.5 in /usr/local/lib/python3.9/dist-packages (from python-dateutil<3.0.0,>=2.1->botocore<1.30.0,>=1.29.90->boto3) (1.15.0)\n",
            "Installing collected packages: botocore, s3transfer, boto3\n",
            "  Attempting uninstall: botocore\n",
            "    Found existing installation: botocore 1.27.59\n",
            "    Uninstalling botocore-1.27.59:\n",
            "      Successfully uninstalled botocore-1.27.59\n",
            "\u001b[31mERROR: pip's dependency resolver does not currently take into account all the packages that are installed. This behaviour is the source of the following dependency conflicts.\n",
            "aiobotocore 2.4.2 requires botocore<1.27.60,>=1.27.59, but you have botocore 1.29.90 which is incompatible.\u001b[0m\u001b[31m\n",
            "\u001b[0mSuccessfully installed boto3-1.26.90 botocore-1.29.90 s3transfer-0.6.0\n"
          ]
        }
      ]
    },
    {
      "cell_type": "code",
      "source": [
        "import boto3"
      ],
      "metadata": {
        "id": "6f3r9Runc4vS"
      },
      "execution_count": null,
      "outputs": []
    },
    {
      "cell_type": "code",
      "source": [
        "client = boto3.client('s3')"
      ],
      "metadata": {
        "id": "NYnEYQjSc9Ey"
      },
      "execution_count": null,
      "outputs": []
    },
    {
      "cell_type": "code",
      "source": [
        "path = 'https://mandartesting.s3.amazonaws.com/farmitra.csv'"
      ],
      "metadata": {
        "id": "IXpWLi8IdAoT"
      },
      "execution_count": null,
      "outputs": []
    },
    {
      "cell_type": "code",
      "source": [
        "import pandas as pd\n",
        "df = pd.read_csv(path)\n",
        "df.head()"
      ],
      "metadata": {
        "colab": {
          "base_uri": "https://localhost:8080/",
          "height": 206
        },
        "id": "-uQEr2iRdDfi",
        "outputId": "3a0fb5af-c0e8-4999-853b-3b4cb75587cb"
      },
      "execution_count": null,
      "outputs": [
        {
          "output_type": "execute_result",
          "data": {
            "text/plain": [
              "   Unnamed: 0   N   P   K  temperature   humidity        ph    rainfall label\n",
              "0           0  90  42  43    20.879744  82.002744  6.502985  202.935536  rice\n",
              "1           1  87  44  40    19.443986  81.794664  5.958209  174.693843  rice\n",
              "2           2  88  45  43    20.441165  81.324861  6.232690  218.079073  rice\n",
              "3           3  90  41  41    19.959130  81.750387  6.991755  171.576057  rice\n",
              "4           4  92  42  42    19.833928  81.160192  7.036952  167.894497  rice"
            ],
            "text/html": [
              "\n",
              "  <div id=\"df-876fcc98-0847-428b-9f09-23fc32e62465\">\n",
              "    <div class=\"colab-df-container\">\n",
              "      <div>\n",
              "<style scoped>\n",
              "    .dataframe tbody tr th:only-of-type {\n",
              "        vertical-align: middle;\n",
              "    }\n",
              "\n",
              "    .dataframe tbody tr th {\n",
              "        vertical-align: top;\n",
              "    }\n",
              "\n",
              "    .dataframe thead th {\n",
              "        text-align: right;\n",
              "    }\n",
              "</style>\n",
              "<table border=\"1\" class=\"dataframe\">\n",
              "  <thead>\n",
              "    <tr style=\"text-align: right;\">\n",
              "      <th></th>\n",
              "      <th>Unnamed: 0</th>\n",
              "      <th>N</th>\n",
              "      <th>P</th>\n",
              "      <th>K</th>\n",
              "      <th>temperature</th>\n",
              "      <th>humidity</th>\n",
              "      <th>ph</th>\n",
              "      <th>rainfall</th>\n",
              "      <th>label</th>\n",
              "    </tr>\n",
              "  </thead>\n",
              "  <tbody>\n",
              "    <tr>\n",
              "      <th>0</th>\n",
              "      <td>0</td>\n",
              "      <td>90</td>\n",
              "      <td>42</td>\n",
              "      <td>43</td>\n",
              "      <td>20.879744</td>\n",
              "      <td>82.002744</td>\n",
              "      <td>6.502985</td>\n",
              "      <td>202.935536</td>\n",
              "      <td>rice</td>\n",
              "    </tr>\n",
              "    <tr>\n",
              "      <th>1</th>\n",
              "      <td>1</td>\n",
              "      <td>87</td>\n",
              "      <td>44</td>\n",
              "      <td>40</td>\n",
              "      <td>19.443986</td>\n",
              "      <td>81.794664</td>\n",
              "      <td>5.958209</td>\n",
              "      <td>174.693843</td>\n",
              "      <td>rice</td>\n",
              "    </tr>\n",
              "    <tr>\n",
              "      <th>2</th>\n",
              "      <td>2</td>\n",
              "      <td>88</td>\n",
              "      <td>45</td>\n",
              "      <td>43</td>\n",
              "      <td>20.441165</td>\n",
              "      <td>81.324861</td>\n",
              "      <td>6.232690</td>\n",
              "      <td>218.079073</td>\n",
              "      <td>rice</td>\n",
              "    </tr>\n",
              "    <tr>\n",
              "      <th>3</th>\n",
              "      <td>3</td>\n",
              "      <td>90</td>\n",
              "      <td>41</td>\n",
              "      <td>41</td>\n",
              "      <td>19.959130</td>\n",
              "      <td>81.750387</td>\n",
              "      <td>6.991755</td>\n",
              "      <td>171.576057</td>\n",
              "      <td>rice</td>\n",
              "    </tr>\n",
              "    <tr>\n",
              "      <th>4</th>\n",
              "      <td>4</td>\n",
              "      <td>92</td>\n",
              "      <td>42</td>\n",
              "      <td>42</td>\n",
              "      <td>19.833928</td>\n",
              "      <td>81.160192</td>\n",
              "      <td>7.036952</td>\n",
              "      <td>167.894497</td>\n",
              "      <td>rice</td>\n",
              "    </tr>\n",
              "  </tbody>\n",
              "</table>\n",
              "</div>\n",
              "      <button class=\"colab-df-convert\" onclick=\"convertToInteractive('df-876fcc98-0847-428b-9f09-23fc32e62465')\"\n",
              "              title=\"Convert this dataframe to an interactive table.\"\n",
              "              style=\"display:none;\">\n",
              "        \n",
              "  <svg xmlns=\"http://www.w3.org/2000/svg\" height=\"24px\"viewBox=\"0 0 24 24\"\n",
              "       width=\"24px\">\n",
              "    <path d=\"M0 0h24v24H0V0z\" fill=\"none\"/>\n",
              "    <path d=\"M18.56 5.44l.94 2.06.94-2.06 2.06-.94-2.06-.94-.94-2.06-.94 2.06-2.06.94zm-11 1L8.5 8.5l.94-2.06 2.06-.94-2.06-.94L8.5 2.5l-.94 2.06-2.06.94zm10 10l.94 2.06.94-2.06 2.06-.94-2.06-.94-.94-2.06-.94 2.06-2.06.94z\"/><path d=\"M17.41 7.96l-1.37-1.37c-.4-.4-.92-.59-1.43-.59-.52 0-1.04.2-1.43.59L10.3 9.45l-7.72 7.72c-.78.78-.78 2.05 0 2.83L4 21.41c.39.39.9.59 1.41.59.51 0 1.02-.2 1.41-.59l7.78-7.78 2.81-2.81c.8-.78.8-2.07 0-2.86zM5.41 20L4 18.59l7.72-7.72 1.47 1.35L5.41 20z\"/>\n",
              "  </svg>\n",
              "      </button>\n",
              "      \n",
              "  <style>\n",
              "    .colab-df-container {\n",
              "      display:flex;\n",
              "      flex-wrap:wrap;\n",
              "      gap: 12px;\n",
              "    }\n",
              "\n",
              "    .colab-df-convert {\n",
              "      background-color: #E8F0FE;\n",
              "      border: none;\n",
              "      border-radius: 50%;\n",
              "      cursor: pointer;\n",
              "      display: none;\n",
              "      fill: #1967D2;\n",
              "      height: 32px;\n",
              "      padding: 0 0 0 0;\n",
              "      width: 32px;\n",
              "    }\n",
              "\n",
              "    .colab-df-convert:hover {\n",
              "      background-color: #E2EBFA;\n",
              "      box-shadow: 0px 1px 2px rgba(60, 64, 67, 0.3), 0px 1px 3px 1px rgba(60, 64, 67, 0.15);\n",
              "      fill: #174EA6;\n",
              "    }\n",
              "\n",
              "    [theme=dark] .colab-df-convert {\n",
              "      background-color: #3B4455;\n",
              "      fill: #D2E3FC;\n",
              "    }\n",
              "\n",
              "    [theme=dark] .colab-df-convert:hover {\n",
              "      background-color: #434B5C;\n",
              "      box-shadow: 0px 1px 3px 1px rgba(0, 0, 0, 0.15);\n",
              "      filter: drop-shadow(0px 1px 2px rgba(0, 0, 0, 0.3));\n",
              "      fill: #FFFFFF;\n",
              "    }\n",
              "  </style>\n",
              "\n",
              "      <script>\n",
              "        const buttonEl =\n",
              "          document.querySelector('#df-876fcc98-0847-428b-9f09-23fc32e62465 button.colab-df-convert');\n",
              "        buttonEl.style.display =\n",
              "          google.colab.kernel.accessAllowed ? 'block' : 'none';\n",
              "\n",
              "        async function convertToInteractive(key) {\n",
              "          const element = document.querySelector('#df-876fcc98-0847-428b-9f09-23fc32e62465');\n",
              "          const dataTable =\n",
              "            await google.colab.kernel.invokeFunction('convertToInteractive',\n",
              "                                                     [key], {});\n",
              "          if (!dataTable) return;\n",
              "\n",
              "          const docLinkHtml = 'Like what you see? Visit the ' +\n",
              "            '<a target=\"_blank\" href=https://colab.research.google.com/notebooks/data_table.ipynb>data table notebook</a>'\n",
              "            + ' to learn more about interactive tables.';\n",
              "          element.innerHTML = '';\n",
              "          dataTable['output_type'] = 'display_data';\n",
              "          await google.colab.output.renderOutput(dataTable, element);\n",
              "          const docLink = document.createElement('div');\n",
              "          docLink.innerHTML = docLinkHtml;\n",
              "          element.appendChild(docLink);\n",
              "        }\n",
              "      </script>\n",
              "    </div>\n",
              "  </div>\n",
              "  "
            ]
          },
          "metadata": {},
          "execution_count": 25
        }
      ]
    },
    {
      "cell_type": "code",
      "source": [
        "\n",
        "sparkDF=spark.createDataFrame(df) \n",
        "sparkDF.printSchema()\n",
        "sparkDF.show()\n"
      ],
      "metadata": {
        "colab": {
          "base_uri": "https://localhost:8080/"
        },
        "id": "a_q3YzdahcwH",
        "outputId": "ba01495c-d618-41b3-d04c-7236feb1adfe"
      },
      "execution_count": null,
      "outputs": [
        {
          "output_type": "stream",
          "name": "stdout",
          "text": [
            "root\n",
            " |-- Unnamed: 0: long (nullable = true)\n",
            " |-- N: long (nullable = true)\n",
            " |-- P: long (nullable = true)\n",
            " |-- K: long (nullable = true)\n",
            " |-- temperature: double (nullable = true)\n",
            " |-- humidity: double (nullable = true)\n",
            " |-- ph: double (nullable = true)\n",
            " |-- rainfall: double (nullable = true)\n",
            " |-- label: string (nullable = true)\n",
            "\n",
            "+----------+---+---+---+------------------+-----------------+-----------------+------------------+-----+\n",
            "|Unnamed: 0|  N|  P|  K|       temperature|         humidity|               ph|          rainfall|label|\n",
            "+----------+---+---+---+------------------+-----------------+-----------------+------------------+-----+\n",
            "|         0| 90| 42| 43|       20.87974371|      82.00274423|6.502985292000001|       202.9355362| rice|\n",
            "|         1| 87| 44| 40|  19.4439856817146|81.79466414425193|5.958209432062896|174.69384331020302| rice|\n",
            "|         2| 88| 45| 43| 20.44116524971613|81.32486107588045|6.232690084974857|218.07907286560643| rice|\n",
            "|         3| 90| 41| 41|19.959129867813274|81.75038666328243|6.991754617761783|171.57605703181414| rice|\n",
            "|         4| 92| 42| 42|19.833928419954848|81.16019155312232|7.036952109547523|167.89449688326482| rice|\n",
            "|         5| 88| 45| 46| 20.85529908602416|82.35999951414037|7.203597551582385| 155.1775261588173| rice|\n",
            "|         6| 91| 40| 40|19.035476677854543|81.66540913583428|6.342707279809168|160.81173888123377| rice|\n",
            "|         7| 92| 39| 45| 22.82577477457197|82.65240317620237|5.806771146074413|214.19372078548471| rice|\n",
            "|         8| 93| 44| 45|20.268725948271825|82.38925810423582|7.459304973220765|166.66215196416164| rice|\n",
            "|         9| 88| 43| 46|22.050030995159123|82.26436918615039|6.430272126338099|183.65818460639173| rice|\n",
            "|        10| 90| 41| 44|21.708360831764097|82.53031141608886|   7.246066617917| 153.2419235570161| rice|\n",
            "|        11| 93| 39| 41| 19.53160928740205|82.79972795556655|6.322997653877099| 251.0526439844258| rice|\n",
            "|        12| 87| 43| 42| 20.42701525743241|82.99760920931638|6.295415143644614|174.38305479400864| rice|\n",
            "|        13| 92| 43| 41|20.809589617418546|82.75912836067116|7.439172284891907|196.80933110666072| rice|\n",
            "|        14| 88| 40| 46|22.298631167101963| 81.8542875182197|5.856061718987391|235.15111936445987| rice|\n",
            "|        15| 92| 42| 42| 22.68379699089363|82.54610781296678|6.132615557104527| 239.9574151903529| rice|\n",
            "|        16| 89| 45| 45|21.211930289449867|81.97628740787832|6.852353159910541| 226.4737982862813| rice|\n",
            "|        17| 90| 40| 46|19.660498438506743| 82.0388256483209|7.354312845132959| 229.7273041294875| rice|\n",
            "|        18| 90| 39| 40|22.246537424312542|81.78233122925936|6.542020859242762|169.75206651380813| rice|\n",
            "|        19| 93| 45| 46|19.751172203215315| 81.2001181788637|6.138147254555361|179.25112853050354| rice|\n",
            "+----------+---+---+---+------------------+-----------------+-----------------+------------------+-----+\n",
            "only showing top 20 rows\n",
            "\n"
          ]
        }
      ]
    },
    {
      "cell_type": "code",
      "source": [
        "sparkDF = sparkDF.drop(\"Unnamed: 0\")\n",
        "\n",
        "# display the new DataFrame\n",
        "sparkDF.show()"
      ],
      "metadata": {
        "id": "NxkxPqh_KYm9",
        "colab": {
          "base_uri": "https://localhost:8080/"
        },
        "outputId": "45372c7e-872f-4ff1-dbdc-afb06a3aea86"
      },
      "execution_count": null,
      "outputs": [
        {
          "output_type": "stream",
          "name": "stdout",
          "text": [
            "+---+---+---+------------------+-----------------+-----------------+------------------+-----+\n",
            "|  N|  P|  K|       temperature|         humidity|               ph|          rainfall|label|\n",
            "+---+---+---+------------------+-----------------+-----------------+------------------+-----+\n",
            "| 90| 42| 43|       20.87974371|      82.00274423|6.502985292000001|       202.9355362| rice|\n",
            "| 87| 44| 40|  19.4439856817146|81.79466414425193|5.958209432062896|174.69384331020302| rice|\n",
            "| 88| 45| 43| 20.44116524971613|81.32486107588045|6.232690084974857|218.07907286560643| rice|\n",
            "| 90| 41| 41|19.959129867813274|81.75038666328243|6.991754617761783|171.57605703181414| rice|\n",
            "| 92| 42| 42|19.833928419954848|81.16019155312232|7.036952109547523|167.89449688326482| rice|\n",
            "| 88| 45| 46| 20.85529908602416|82.35999951414037|7.203597551582385| 155.1775261588173| rice|\n",
            "| 91| 40| 40|19.035476677854543|81.66540913583428|6.342707279809168|160.81173888123377| rice|\n",
            "| 92| 39| 45| 22.82577477457197|82.65240317620237|5.806771146074413|214.19372078548471| rice|\n",
            "| 93| 44| 45|20.268725948271825|82.38925810423582|7.459304973220765|166.66215196416164| rice|\n",
            "| 88| 43| 46|22.050030995159123|82.26436918615039|6.430272126338099|183.65818460639173| rice|\n",
            "| 90| 41| 44|21.708360831764097|82.53031141608886|   7.246066617917| 153.2419235570161| rice|\n",
            "| 93| 39| 41| 19.53160928740205|82.79972795556655|6.322997653877099| 251.0526439844258| rice|\n",
            "| 87| 43| 42| 20.42701525743241|82.99760920931638|6.295415143644614|174.38305479400864| rice|\n",
            "| 92| 43| 41|20.809589617418546|82.75912836067116|7.439172284891907|196.80933110666072| rice|\n",
            "| 88| 40| 46|22.298631167101963| 81.8542875182197|5.856061718987391|235.15111936445987| rice|\n",
            "| 92| 42| 42| 22.68379699089363|82.54610781296678|6.132615557104527| 239.9574151903529| rice|\n",
            "| 89| 45| 45|21.211930289449867|81.97628740787832|6.852353159910541| 226.4737982862813| rice|\n",
            "| 90| 40| 46|19.660498438506743| 82.0388256483209|7.354312845132959| 229.7273041294875| rice|\n",
            "| 90| 39| 40|22.246537424312542|81.78233122925936|6.542020859242762|169.75206651380813| rice|\n",
            "| 93| 45| 46|19.751172203215315| 81.2001181788637|6.138147254555361|179.25112853050354| rice|\n",
            "+---+---+---+------------------+-----------------+-----------------+------------------+-----+\n",
            "only showing top 20 rows\n",
            "\n"
          ]
        }
      ]
    },
    {
      "cell_type": "code",
      "source": [
        "print(type(sparkDF))"
      ],
      "metadata": {
        "id": "Oq9SjYnQjRN4",
        "colab": {
          "base_uri": "https://localhost:8080/"
        },
        "outputId": "dbb30ff3-06fc-4e28-9c4e-11a5fd499fde"
      },
      "execution_count": null,
      "outputs": [
        {
          "output_type": "stream",
          "name": "stdout",
          "text": [
            "<class 'pyspark.sql.dataframe.DataFrame'>\n"
          ]
        }
      ]
    },
    {
      "cell_type": "code",
      "source": [
        "sparkDF.count()"
      ],
      "metadata": {
        "colab": {
          "base_uri": "https://localhost:8080/"
        },
        "id": "fV-69W6pqoqu",
        "outputId": "61809fe7-d8ee-4e83-eef7-f9e5c645d51d"
      },
      "execution_count": null,
      "outputs": [
        {
          "output_type": "execute_result",
          "data": {
            "text/plain": [
              "55000"
            ]
          },
          "metadata": {},
          "execution_count": 42
        }
      ]
    },
    {
      "cell_type": "code",
      "source": [
        "# df.rename(columns={'N': 'Nitrogen', 'P': 'Phosphorous', 'K': 'Potassium'}, inplace=True)  \n",
        "sparkDF = sparkDF.withColumnRenamed(\"N\", \"Nitrogen\")\n",
        "sparkDF = sparkDF.withColumnRenamed(\"P\", \"Phosphorous\")\n",
        "sparkDF = sparkDF.withColumnRenamed(\"K\", \"Potassium\")"
      ],
      "metadata": {
        "id": "iBrWb86Up6sE"
      },
      "execution_count": null,
      "outputs": []
    },
    {
      "cell_type": "code",
      "source": [
        "sparkDF.head()"
      ],
      "metadata": {
        "colab": {
          "base_uri": "https://localhost:8080/"
        },
        "id": "e4T8exLXqO1E",
        "outputId": "afa0e957-1c7b-4ee3-e1aa-30d10efbdab2"
      },
      "execution_count": null,
      "outputs": [
        {
          "output_type": "execute_result",
          "data": {
            "text/plain": [
              "Row(Nitrogen=90, Phosphorous=42, Potassium=43, temperature=20.87974371, humidity=82.00274423, ph=6.502985292000001, rainfall=202.9355362, label='rice')"
            ]
          },
          "metadata": {},
          "execution_count": 39
        }
      ]
    },
    {
      "cell_type": "code",
      "source": [
        "unique_df = sparkDF.dropDuplicates()\n",
        "if sparkDF.count() == unique_df.count():\n",
        "    print(\"The DataFrame contains only unique rows.\")\n",
        "else:\n",
        "    print(\"The DataFrame contains duplicate rows.\")"
      ],
      "metadata": {
        "colab": {
          "base_uri": "https://localhost:8080/"
        },
        "id": "QIQ6zGTyqQps",
        "outputId": "c75167b3-45b0-4eb4-c169-b908681c5fed"
      },
      "execution_count": null,
      "outputs": [
        {
          "output_type": "stream",
          "name": "stdout",
          "text": [
            "The DataFrame contains only unique rows.\n"
          ]
        }
      ]
    },
    {
      "cell_type": "code",
      "source": [
        "# These are these unique labels, which act as a target variables."
      ],
      "metadata": {
        "id": "KXFKDhn2q00R"
      },
      "execution_count": null,
      "outputs": []
    },
    {
      "cell_type": "code",
      "source": [
        "unique_names = sparkDF.select(\"label\").distinct().collect()\n",
        "len(unique_names)\n",
        "# The Number of unique values are 22"
      ],
      "metadata": {
        "colab": {
          "base_uri": "https://localhost:8080/"
        },
        "id": "QxVxG4P6q4oI",
        "outputId": "27eb2af3-6573-4e9b-8e3c-de99a9e78522"
      },
      "execution_count": null,
      "outputs": [
        {
          "output_type": "execute_result",
          "data": {
            "text/plain": [
              "22"
            ]
          },
          "metadata": {},
          "execution_count": 46
        }
      ]
    },
    {
      "cell_type": "code",
      "source": [
        "for i in unique_names:\n",
        "  print(i.label)"
      ],
      "metadata": {
        "id": "csxSuGzsyF3f",
        "outputId": "59c92e0d-c74b-4ece-efa0-b0fb75f1a858",
        "colab": {
          "base_uri": "https://localhost:8080/"
        }
      },
      "execution_count": null,
      "outputs": [
        {
          "output_type": "stream",
          "name": "stdout",
          "text": [
            "chickpea\n",
            "mungbean\n",
            "orange\n",
            "papaya\n",
            "pigeonpeas\n",
            "cotton\n",
            "apple\n",
            "mango\n",
            "jute\n",
            "grapes\n",
            "maize\n",
            "pomegranate\n",
            "mothbeans\n",
            "banana\n",
            "coconut\n",
            "muskmelon\n",
            "kidneybeans\n",
            "rice\n",
            "coffee\n",
            "blackgram\n",
            "lentil\n",
            "watermelon\n"
          ]
        }
      ]
    },
    {
      "cell_type": "code",
      "source": [
        "#Statistical Information about Data\n",
        "sparkDF.describe()"
      ],
      "metadata": {
        "colab": {
          "base_uri": "https://localhost:8080/"
        },
        "id": "xiTq08WEroKH",
        "outputId": "8af2d758-8028-42e0-a3ed-8fe3d1286df2"
      },
      "execution_count": null,
      "outputs": [
        {
          "output_type": "execute_result",
          "data": {
            "text/plain": [
              "DataFrame[summary: string, Nitrogen: string, Phosphorous: string, Potassium: string, temperature: string, humidity: string, ph: string, rainfall: string, label: string]"
            ]
          },
          "metadata": {},
          "execution_count": 49
        }
      ]
    },
    {
      "cell_type": "code",
      "source": [
        "sparkDF.printSchema()"
      ],
      "metadata": {
        "colab": {
          "base_uri": "https://localhost:8080/"
        },
        "id": "eYNG7em2rq0z",
        "outputId": "84b8d9c8-8c04-465b-fbae-e4d0794c5c0d"
      },
      "execution_count": null,
      "outputs": [
        {
          "output_type": "stream",
          "name": "stdout",
          "text": [
            "root\n",
            " |-- Nitrogen: long (nullable = true)\n",
            " |-- Phosphorous: long (nullable = true)\n",
            " |-- Potassium: long (nullable = true)\n",
            " |-- temperature: double (nullable = true)\n",
            " |-- humidity: double (nullable = true)\n",
            " |-- ph: double (nullable = true)\n",
            " |-- rainfall: double (nullable = true)\n",
            " |-- label: string (nullable = true)\n",
            "\n"
          ]
        }
      ]
    },
    {
      "cell_type": "code",
      "source": [
        "df = sparkDF.toPandas()\n",
        "import seaborn as sns\n",
        "import matplotlib.pyplot as plt\n",
        "\n",
        "plt.figure(figsize=(25, 4))\n",
        "sns.countplot(x = 'label', data = df)"
      ],
      "metadata": {
        "colab": {
          "base_uri": "https://localhost:8080/",
          "height": 155
        },
        "id": "fjlPXFACrz5s",
        "outputId": "336b2945-1b0b-4b9b-92e3-75890ca9ffd9"
      },
      "execution_count": null,
      "outputs": [
        {
          "output_type": "execute_result",
          "data": {
            "text/plain": [
              "<AxesSubplot:xlabel='label', ylabel='count'>"
            ]
          },
          "metadata": {},
          "execution_count": 54
        },
        {
          "output_type": "display_data",
          "data": {
            "text/plain": [
              "<Figure size 1800x288 with 1 Axes>"
            ],
            "image/png": "[encoded data removed]"
          },
          "metadata": {
            "needs_background": "light"
          }
        }
      ]
    },
    {
      "cell_type": "code",
      "source": [
        "import seaborn as sns\n",
        "plt.figure(figsize=(25, 4))\n",
        "sns.countplot(x = 'label', data = df)"
      ],
      "metadata": {
        "colab": {
          "base_uri": "https://localhost:8080/",
          "height": 155
        },
        "id": "IutT4w7Yr3ge",
        "outputId": "46ee266f-2459-4912-e365-3a15cf9a595b"
      },
      "execution_count": null,
      "outputs": [
        {
          "output_type": "execute_result",
          "data": {
            "text/plain": [
              "<AxesSubplot:xlabel='label', ylabel='count'>"
            ]
          },
          "metadata": {},
          "execution_count": 55
        },
        {
          "output_type": "display_data",
          "data": {
            "text/plain": [
              "<Figure size 1800x288 with 1 Axes>"
            ],
            "image/png": "[encoded data removed]"
          },
          "metadata": {
            "needs_background": "light"
          }
        }
      ]
    },
    {
      "cell_type": "code",
      "source": [
        "#Checking for correlation\n",
        "plt.figure(figsize = (8,8))\n",
        "sns.heatmap(df.corr(), annot = True)\n",
        "plt.show()"
      ],
      "metadata": {
        "colab": {
          "base_uri": "https://localhost:8080/",
          "height": 541
        },
        "id": "8yL3S-vosGl1",
        "outputId": "0ac3d798-0319-44ef-ef68-9a4b423f36ab"
      },
      "execution_count": null,
      "outputs": [
        {
          "output_type": "display_data",
          "data": {
            "text/plain": [
              "<Figure size 576x576 with 2 Axes>"
            ],
            "image/png": "[encoded data removed]"
          },
          "metadata": {
            "needs_background": "light"
          }
        }
      ]
    },
    {
      "cell_type": "code",
      "source": [
        "# From the above chart we can conclude that : - \n",
        "#1) If the value of Potassium increases there is 73% chances that the values of Phosporous will increase\n",
        "\n",
        "#2) Nitrogen & Potassium are inversely related\n",
        "\n",
        "#3) Phosphororus & Nitrogen are inversely related\n",
        "\n",
        "#4) Phosphorous are Potassium are directly related to each other. There is 73% chance that when Potassium increases Phosphorous also increases\n"
      ],
      "metadata": {
        "id": "87x5DTeBsKMm"
      },
      "execution_count": null,
      "outputs": []
    },
    {
      "cell_type": "code",
      "source": [
        "plt.figure(figsize = [12,7])\n",
        "sns.distplot(df['Nitrogen'])"
      ],
      "metadata": {
        "colab": {
          "base_uri": "https://localhost:8080/",
          "height": 478
        },
        "id": "EbDvO7ZRsi4w",
        "outputId": "c5a0f0ab-e0e1-452b-87cc-2e4dbcbb04b2"
      },
      "execution_count": null,
      "outputs": [
        {
          "output_type": "stream",
          "name": "stderr",
          "text": [
            "/usr/local/lib/python3.9/dist-packages/seaborn/distributions.py:2619: FutureWarning: `distplot` is a deprecated function and will be removed in a future version. Please adapt your code to use either `displot` (a figure-level function with similar flexibility) or `histplot` (an axes-level function for histograms).\n",
            "  warnings.warn(msg, FutureWarning)\n"
          ]
        },
        {
          "output_type": "execute_result",
          "data": {
            "text/plain": [
              "<AxesSubplot:xlabel='Nitrogen', ylabel='Density'>"
            ]
          },
          "metadata": {},
          "execution_count": 65
        },
        {
          "output_type": "display_data",
          "data": {
            "text/plain": [
              "<Figure size 864x504 with 1 Axes>"
            ],
            "image/png": "[encoded data removed]"
          },
          "metadata": {
            "needs_background": "light"
          }
        }
      ]
    },
    {
      "cell_type": "code",
      "source": [
        "plt.figure(figsize = [12,7])\n",
        "sns.distplot(df['Phosphorous'])"
      ],
      "metadata": {
        "colab": {
          "base_uri": "https://localhost:8080/",
          "height": 478
        },
        "id": "ThNEMy_9slTt",
        "outputId": "e0e791ac-58ca-4675-ba5e-378e624af987"
      },
      "execution_count": null,
      "outputs": [
        {
          "output_type": "stream",
          "name": "stderr",
          "text": [
            "/usr/local/lib/python3.9/dist-packages/seaborn/distributions.py:2619: FutureWarning: `distplot` is a deprecated function and will be removed in a future version. Please adapt your code to use either `displot` (a figure-level function with similar flexibility) or `histplot` (an axes-level function for histograms).\n",
            "  warnings.warn(msg, FutureWarning)\n"
          ]
        },
        {
          "output_type": "execute_result",
          "data": {
            "text/plain": [
              "<AxesSubplot:xlabel='Phosphorous', ylabel='Density'>"
            ]
          },
          "metadata": {},
          "execution_count": 66
        },
        {
          "output_type": "display_data",
          "data": {
            "text/plain": [
              "<Figure size 864x504 with 1 Axes>"
            ],
            "image/png": "[encoded data removed]"
          },
          "metadata": {
            "needs_background": "light"
          }
        }
      ]
    },
    {
      "cell_type": "code",
      "source": [
        "plt.figure(figsize = [12,7])\n",
        "sns.distplot(df['Potassium'])"
      ],
      "metadata": {
        "colab": {
          "base_uri": "https://localhost:8080/",
          "height": 477
        },
        "id": "bYGZOa-psrpb",
        "outputId": "578d8216-12f4-46e1-a8ab-682f87df55f5"
      },
      "execution_count": null,
      "outputs": [
        {
          "output_type": "stream",
          "name": "stderr",
          "text": [
            "/usr/local/lib/python3.9/dist-packages/seaborn/distributions.py:2619: FutureWarning: `distplot` is a deprecated function and will be removed in a future version. Please adapt your code to use either `displot` (a figure-level function with similar flexibility) or `histplot` (an axes-level function for histograms).\n",
            "  warnings.warn(msg, FutureWarning)\n"
          ]
        },
        {
          "output_type": "execute_result",
          "data": {
            "text/plain": [
              "<AxesSubplot:xlabel='Potassium', ylabel='Density'>"
            ]
          },
          "metadata": {},
          "execution_count": 67
        },
        {
          "output_type": "display_data",
          "data": {
            "text/plain": [
              "<Figure size 864x504 with 1 Axes>"
            ],
            "image/png": "[encoded data removed]"
          },
          "metadata": {
            "needs_background": "light"
          }
        }
      ]
    },
    {
      "cell_type": "code",
      "source": [
        "plt.figure(figsize = [12,7])\n",
        "sns.distplot(df['temperature'])"
      ],
      "metadata": {
        "colab": {
          "base_uri": "https://localhost:8080/",
          "height": 480
        },
        "id": "T7GrDtoMsuov",
        "outputId": "e94ac377-5f23-437e-bf1b-6eda299eca7f"
      },
      "execution_count": null,
      "outputs": [
        {
          "output_type": "stream",
          "name": "stderr",
          "text": [
            "/usr/local/lib/python3.9/dist-packages/seaborn/distributions.py:2619: FutureWarning: `distplot` is a deprecated function and will be removed in a future version. Please adapt your code to use either `displot` (a figure-level function with similar flexibility) or `histplot` (an axes-level function for histograms).\n",
            "  warnings.warn(msg, FutureWarning)\n"
          ]
        },
        {
          "output_type": "execute_result",
          "data": {
            "text/plain": [
              "<AxesSubplot:xlabel='temperature', ylabel='Density'>"
            ]
          },
          "metadata": {},
          "execution_count": 60
        },
        {
          "output_type": "display_data",
          "data": {
            "text/plain": [
              "<Figure size 864x504 with 1 Axes>"
            ],
            "image/png": "[encoded data removed]"
          },
          "metadata": {
            "needs_background": "light"
          }
        }
      ]
    },
    {
      "cell_type": "code",
      "source": [
        "plt.figure(figsize = [12,7])\n",
        "sns.distplot(df['humidity'])"
      ],
      "metadata": {
        "colab": {
          "base_uri": "https://localhost:8080/",
          "height": 480
        },
        "id": "HbSOFa8-sya-",
        "outputId": "d81aaf31-c551-4965-9730-5ec09b94f248"
      },
      "execution_count": null,
      "outputs": [
        {
          "output_type": "stream",
          "name": "stderr",
          "text": [
            "/usr/local/lib/python3.9/dist-packages/seaborn/distributions.py:2619: FutureWarning: `distplot` is a deprecated function and will be removed in a future version. Please adapt your code to use either `displot` (a figure-level function with similar flexibility) or `histplot` (an axes-level function for histograms).\n",
            "  warnings.warn(msg, FutureWarning)\n"
          ]
        },
        {
          "output_type": "execute_result",
          "data": {
            "text/plain": [
              "<AxesSubplot:xlabel='humidity', ylabel='Density'>"
            ]
          },
          "metadata": {},
          "execution_count": 61
        },
        {
          "output_type": "display_data",
          "data": {
            "text/plain": [
              "<Figure size 864x504 with 1 Axes>"
            ],
            "image/png": "[encoded data removed]"
          },
          "metadata": {
            "needs_background": "light"
          }
        }
      ]
    },
    {
      "cell_type": "code",
      "source": [
        "plt.figure(figsize = [12,7])\n",
        "sns.distplot(df['ph'])"
      ],
      "metadata": {
        "colab": {
          "base_uri": "https://localhost:8080/",
          "height": 484
        },
        "id": "7X53MhaFs66z",
        "outputId": "686d4365-9445-4526-c2d1-95208c025992"
      },
      "execution_count": null,
      "outputs": [
        {
          "output_type": "stream",
          "name": "stderr",
          "text": [
            "/usr/local/lib/python3.9/dist-packages/seaborn/distributions.py:2619: FutureWarning: `distplot` is a deprecated function and will be removed in a future version. Please adapt your code to use either `displot` (a figure-level function with similar flexibility) or `histplot` (an axes-level function for histograms).\n",
            "  warnings.warn(msg, FutureWarning)\n"
          ]
        },
        {
          "output_type": "execute_result",
          "data": {
            "text/plain": [
              "<AxesSubplot:xlabel='ph', ylabel='Density'>"
            ]
          },
          "metadata": {},
          "execution_count": 62
        },
        {
          "output_type": "display_data",
          "data": {
            "text/plain": [
              "<Figure size 864x504 with 1 Axes>"
            ],
            "image/png": "[encoded data removed]"
          },
          "metadata": {
            "needs_background": "light"
          }
        }
      ]
    },
    {
      "cell_type": "code",
      "source": [
        "plt.figure(figsize = [12,7])\n",
        "sns.distplot(df['rainfall'])"
      ],
      "metadata": {
        "colab": {
          "base_uri": "https://localhost:8080/",
          "height": 477
        },
        "id": "j7st4NA1s-U_",
        "outputId": "4430932b-0f2c-4dbb-db99-4e0bca57d0cf"
      },
      "execution_count": null,
      "outputs": [
        {
          "output_type": "stream",
          "name": "stderr",
          "text": [
            "/usr/local/lib/python3.9/dist-packages/seaborn/distributions.py:2619: FutureWarning: `distplot` is a deprecated function and will be removed in a future version. Please adapt your code to use either `displot` (a figure-level function with similar flexibility) or `histplot` (an axes-level function for histograms).\n",
            "  warnings.warn(msg, FutureWarning)\n"
          ]
        },
        {
          "output_type": "execute_result",
          "data": {
            "text/plain": [
              "<AxesSubplot:xlabel='rainfall', ylabel='Density'>"
            ]
          },
          "metadata": {},
          "execution_count": 63
        },
        {
          "output_type": "display_data",
          "data": {
            "text/plain": [
              "<Figure size 864x504 with 1 Axes>"
            ],
            "image/png": "[encoded data removed]"
          },
          "metadata": {
            "needs_background": "light"
          }
        }
      ]
    },
    {
      "cell_type": "code",
      "source": [
        "#Observation:\n",
        "#1) The values of the Nitrogen column are highly variated\n",
        "\n",
        "#2) The values of Phosphorous have variance\n",
        "\n",
        "#3) The graph for Potassium shows that the data is Right skewed with outliers present at the higher side\n",
        "\n",
        "#4) The graph for temperatures reflects that that data is left skewed with outliers on the lower side\n",
        "\n",
        "#5) The data of Humidity is with high variance\n",
        "\n",
        "#6)  The graph of pH values shows that the data is left skewed with outliers present on the lower side\n",
        "\n",
        "#7) The graph for rainfall shows a normal distribution"
      ],
      "metadata": {
        "id": "FxP0VHJytCUe"
      },
      "execution_count": null,
      "outputs": []
    },
    {
      "cell_type": "code",
      "source": [
        "sparkDF.write.format(\"csv\").option(\"header\", \"true\").save(\"/content/dataset/\")"
      ],
      "metadata": {
        "id": "Qod2bUIxmdYN"
      },
      "execution_count": null,
      "outputs": []
    },
    {
      "cell_type": "code",
      "source": [
        "from google.colab import files\n",
        "\n",
        "# download a file to your local machine\n",
        "files.download('/content/dataset/part-00000-8a28cee7-7f25-4738-90c7-a719fd4cf91e-c000.csv')"
      ],
      "metadata": {
        "id": "57_nR4Wm09AD",
        "outputId": "9d901148-4d2e-4501-e57e-3cd6f787b9f3",
        "colab": {
          "base_uri": "https://localhost:8080/",
          "height": 17
        }
      },
      "execution_count": null,
      "outputs": [
        {
          "output_type": "display_data",
          "data": {
            "text/plain": [
              "<IPython.core.display.Javascript object>"
            ],
            "application/javascript": [
              "\n",
              "    async function download(id, filename, size) {\n",
              "      if (!google.colab.kernel.accessAllowed) {\n",
              "        return;\n",
              "      }\n",
              "      const div = document.createElement('div');\n",
              "      const label = document.createElement('label');\n",
              "      label.textContent = `Downloading \"${filename}\": `;\n",
              "      div.appendChild(label);\n",
              "      const progress = document.createElement('progress');\n",
              "      progress.max = size;\n",
              "      div.appendChild(progress);\n",
              "      document.body.appendChild(div);\n",
              "\n",
              "      const buffers = [];\n",
              "      let downloaded = 0;\n",
              "\n",
              "      const channel = await google.colab.kernel.comms.open(id);\n",
              "      // Send a message to notify the kernel that we're ready.\n",
              "      channel.send({})\n",
              "\n",
              "      for await (const message of channel.messages) {\n",
              "        // Send a message to notify the kernel that we're ready.\n",
              "        channel.send({})\n",
              "        if (message.buffers) {\n",
              "          for (const buffer of message.buffers) {\n",
              "            buffers.push(buffer);\n",
              "            downloaded += buffer.byteLength;\n",
              "            progress.value = downloaded;\n",
              "          }\n",
              "        }\n",
              "      }\n",
              "      const blob = new Blob(buffers, {type: 'application/binary'});\n",
              "      const a = document.createElement('a');\n",
              "      a.href = window.URL.createObjectURL(blob);\n",
              "      a.download = filename;\n",
              "      div.appendChild(a);\n",
              "      a.click();\n",
              "      div.remove();\n",
              "    }\n",
              "  "
            ]
          },
          "metadata": {}
        },
        {
          "output_type": "display_data",
          "data": {
            "text/plain": [
              "<IPython.core.display.Javascript object>"
            ],
            "application/javascript": [
              "download(\"download_c52c433a-074e-4405-bca7-bcb84195b86f\", \"part-00000-8a28cee7-7f25-4738-90c7-a719fd4cf91e-c000.csv\", 4891121)"
            ]
          },
          "metadata": {}
        }
      ]
    },
    {
      "cell_type": "code",
      "source": [],
      "metadata": {
        "id": "wBtuyDen1319"
      },
      "execution_count": null,
      "outputs": []
    }
  ]
}